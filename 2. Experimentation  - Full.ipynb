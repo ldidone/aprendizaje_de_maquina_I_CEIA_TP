{
  "cells": [
    {
      "cell_type": "code",
      "source": [
        "!pip install --pre pycaret"
      ],
      "metadata": {
        "id": "UTWviIFNyzdK",
        "colab": {
          "base_uri": "https://localhost:8080/"
        },
        "outputId": "ce06cb29-1b07-4973-beba-ad0ff28cb8c1"
      },
      "id": "UTWviIFNyzdK",
      "execution_count": 1,
      "outputs": [
        {
          "output_type": "stream",
          "name": "stdout",
          "text": [
            "Looking in indexes: https://pypi.org/simple, https://us-python.pkg.dev/colab-wheels/public/simple/\n",
            "Requirement already satisfied: pycaret in /usr/local/lib/python3.7/dist-packages (3.0.0rc2)\n",
            "Requirement already satisfied: matplotlib>=3.3.0 in /usr/local/lib/python3.7/dist-packages (from pycaret) (3.5.2)\n",
            "Requirement already satisfied: lightgbm>=3.0.0 in /usr/local/lib/python3.7/dist-packages (from pycaret) (3.3.2)\n",
            "Requirement already satisfied: joblib>=1.1.0 in /usr/local/lib/python3.7/dist-packages (from pycaret) (1.1.0)\n",
            "Requirement already satisfied: schemdraw>=0.14 in /usr/local/lib/python3.7/dist-packages (from pycaret) (0.14)\n",
            "Requirement already satisfied: category-encoders>=2.4.0 in /usr/local/lib/python3.7/dist-packages (from pycaret) (2.5.0)\n",
            "Requirement already satisfied: scipy<1.9.0 in /usr/local/lib/python3.7/dist-packages (from pycaret) (1.7.3)\n",
            "Requirement already satisfied: requests>=2.27.1 in /usr/local/lib/python3.7/dist-packages (from pycaret) (2.28.0)\n",
            "Requirement already satisfied: scikit-plot>=0.3.7 in /usr/local/lib/python3.7/dist-packages (from pycaret) (0.3.7)\n",
            "Requirement already satisfied: statsmodels>=0.12.1 in /usr/local/lib/python3.7/dist-packages (from pycaret) (0.13.2)\n",
            "Requirement already satisfied: tqdm in /usr/local/lib/python3.7/dist-packages (from pycaret) (4.64.0)\n",
            "Requirement already satisfied: pyod>=0.9.8 in /usr/local/lib/python3.7/dist-packages (from pycaret) (1.0.1)\n",
            "Requirement already satisfied: sktime>=0.11.4 in /usr/local/lib/python3.7/dist-packages (from pycaret) (0.12.0)\n",
            "Requirement already satisfied: tbats>=1.1.0 in /usr/local/lib/python3.7/dist-packages (from pycaret) (1.1.0)\n",
            "Requirement already satisfied: pandas<1.5.0,>=1.3.0 in /usr/local/lib/python3.7/dist-packages (from pycaret) (1.3.5)\n",
            "Requirement already satisfied: pmdarima>=1.8.0 in /usr/local/lib/python3.7/dist-packages (from pycaret) (1.8.5)\n",
            "Requirement already satisfied: numba~=0.55.0 in /usr/local/lib/python3.7/dist-packages (from pycaret) (0.55.2)\n",
            "Requirement already satisfied: imbalanced-learn>=0.8.1 in /usr/local/lib/python3.7/dist-packages (from pycaret) (0.8.1)\n",
            "Requirement already satisfied: ipython>=5.5.0 in /usr/local/lib/python3.7/dist-packages (from pycaret) (5.5.0)\n",
            "Requirement already satisfied: numpy~=1.21 in /usr/local/lib/python3.7/dist-packages (from pycaret) (1.21.6)\n",
            "Requirement already satisfied: scikit-learn>=1.0 in /usr/local/lib/python3.7/dist-packages (from pycaret) (1.0.2)\n",
            "Requirement already satisfied: plotly>=5.0.0 in /usr/local/lib/python3.7/dist-packages (from pycaret) (5.5.0)\n",
            "Requirement already satisfied: jinja2>=1.2 in /usr/local/lib/python3.7/dist-packages (from pycaret) (2.11.3)\n",
            "Requirement already satisfied: psutil>=5.9.0 in /usr/local/lib/python3.7/dist-packages (from pycaret) (5.9.1)\n",
            "Requirement already satisfied: yellowbrick>=1.4 in /usr/local/lib/python3.7/dist-packages (from pycaret) (1.4)\n",
            "Requirement already satisfied: ipywidgets>=7.6.5 in /usr/local/lib/python3.7/dist-packages (from pycaret) (7.7.0)\n",
            "Requirement already satisfied: kaleido>=0.2.1 in /usr/local/lib/python3.7/dist-packages (from pycaret) (0.2.1)\n",
            "Requirement already satisfied: patsy>=0.5.1 in /usr/local/lib/python3.7/dist-packages (from category-encoders>=2.4.0->pycaret) (0.5.2)\n",
            "Requirement already satisfied: pygments in /usr/local/lib/python3.7/dist-packages (from ipython>=5.5.0->pycaret) (2.6.1)\n",
            "Requirement already satisfied: decorator in /usr/local/lib/python3.7/dist-packages (from ipython>=5.5.0->pycaret) (4.4.2)\n",
            "Requirement already satisfied: setuptools>=18.5 in /usr/local/lib/python3.7/dist-packages (from ipython>=5.5.0->pycaret) (57.4.0)\n",
            "Requirement already satisfied: prompt-toolkit<2.0.0,>=1.0.4 in /usr/local/lib/python3.7/dist-packages (from ipython>=5.5.0->pycaret) (1.0.18)\n",
            "Requirement already satisfied: simplegeneric>0.8 in /usr/local/lib/python3.7/dist-packages (from ipython>=5.5.0->pycaret) (0.8.1)\n",
            "Requirement already satisfied: traitlets>=4.2 in /usr/local/lib/python3.7/dist-packages (from ipython>=5.5.0->pycaret) (5.1.1)\n",
            "Requirement already satisfied: pexpect in /usr/local/lib/python3.7/dist-packages (from ipython>=5.5.0->pycaret) (4.8.0)\n",
            "Requirement already satisfied: pickleshare in /usr/local/lib/python3.7/dist-packages (from ipython>=5.5.0->pycaret) (0.7.5)\n",
            "Requirement already satisfied: nbformat>=4.2.0 in /usr/local/lib/python3.7/dist-packages (from ipywidgets>=7.6.5->pycaret) (5.4.0)\n",
            "Requirement already satisfied: widgetsnbextension~=3.6.0 in /usr/local/lib/python3.7/dist-packages (from ipywidgets>=7.6.5->pycaret) (3.6.0)\n",
            "Requirement already satisfied: jupyterlab-widgets>=1.0.0 in /usr/local/lib/python3.7/dist-packages (from ipywidgets>=7.6.5->pycaret) (1.1.0)\n",
            "Requirement already satisfied: ipython-genutils~=0.2.0 in /usr/local/lib/python3.7/dist-packages (from ipywidgets>=7.6.5->pycaret) (0.2.0)\n",
            "Requirement already satisfied: ipykernel>=4.5.1 in /usr/local/lib/python3.7/dist-packages (from ipywidgets>=7.6.5->pycaret) (4.10.1)\n",
            "Requirement already satisfied: tornado>=4.0 in /usr/local/lib/python3.7/dist-packages (from ipykernel>=4.5.1->ipywidgets>=7.6.5->pycaret) (5.1.1)\n",
            "Requirement already satisfied: jupyter-client in /usr/local/lib/python3.7/dist-packages (from ipykernel>=4.5.1->ipywidgets>=7.6.5->pycaret) (5.3.5)\n",
            "Requirement already satisfied: MarkupSafe>=0.23 in /usr/local/lib/python3.7/dist-packages (from jinja2>=1.2->pycaret) (2.0.1)\n",
            "Requirement already satisfied: wheel in /usr/local/lib/python3.7/dist-packages (from lightgbm>=3.0.0->pycaret) (0.37.1)\n",
            "Requirement already satisfied: pyparsing>=2.2.1 in /usr/local/lib/python3.7/dist-packages (from matplotlib>=3.3.0->pycaret) (3.0.9)\n",
            "Requirement already satisfied: pillow>=6.2.0 in /usr/local/lib/python3.7/dist-packages (from matplotlib>=3.3.0->pycaret) (7.1.2)\n",
            "Requirement already satisfied: fonttools>=4.22.0 in /usr/local/lib/python3.7/dist-packages (from matplotlib>=3.3.0->pycaret) (4.33.3)\n",
            "Requirement already satisfied: packaging>=20.0 in /usr/local/lib/python3.7/dist-packages (from matplotlib>=3.3.0->pycaret) (21.3)\n",
            "Requirement already satisfied: cycler>=0.10 in /usr/local/lib/python3.7/dist-packages (from matplotlib>=3.3.0->pycaret) (0.11.0)\n",
            "Requirement already satisfied: kiwisolver>=1.0.1 in /usr/local/lib/python3.7/dist-packages (from matplotlib>=3.3.0->pycaret) (1.4.3)\n",
            "Requirement already satisfied: python-dateutil>=2.7 in /usr/local/lib/python3.7/dist-packages (from matplotlib>=3.3.0->pycaret) (2.8.2)\n",
            "Requirement already satisfied: typing-extensions in /usr/local/lib/python3.7/dist-packages (from kiwisolver>=1.0.1->matplotlib>=3.3.0->pycaret) (4.1.1)\n",
            "Requirement already satisfied: jupyter-core in /usr/local/lib/python3.7/dist-packages (from nbformat>=4.2.0->ipywidgets>=7.6.5->pycaret) (4.10.0)\n",
            "Requirement already satisfied: fastjsonschema in /usr/local/lib/python3.7/dist-packages (from nbformat>=4.2.0->ipywidgets>=7.6.5->pycaret) (2.15.3)\n",
            "Requirement already satisfied: jsonschema>=2.6 in /usr/local/lib/python3.7/dist-packages (from nbformat>=4.2.0->ipywidgets>=7.6.5->pycaret) (4.3.3)\n",
            "Requirement already satisfied: attrs>=17.4.0 in /usr/local/lib/python3.7/dist-packages (from jsonschema>=2.6->nbformat>=4.2.0->ipywidgets>=7.6.5->pycaret) (21.4.0)\n",
            "Requirement already satisfied: importlib-resources>=1.4.0 in /usr/local/lib/python3.7/dist-packages (from jsonschema>=2.6->nbformat>=4.2.0->ipywidgets>=7.6.5->pycaret) (5.7.1)\n",
            "Requirement already satisfied: importlib-metadata in /usr/local/lib/python3.7/dist-packages (from jsonschema>=2.6->nbformat>=4.2.0->ipywidgets>=7.6.5->pycaret) (4.11.4)\n",
            "Requirement already satisfied: pyrsistent!=0.17.0,!=0.17.1,!=0.17.2,>=0.14.0 in /usr/local/lib/python3.7/dist-packages (from jsonschema>=2.6->nbformat>=4.2.0->ipywidgets>=7.6.5->pycaret) (0.18.1)\n",
            "Requirement already satisfied: zipp>=3.1.0 in /usr/local/lib/python3.7/dist-packages (from importlib-resources>=1.4.0->jsonschema>=2.6->nbformat>=4.2.0->ipywidgets>=7.6.5->pycaret) (3.8.0)\n",
            "Requirement already satisfied: llvmlite<0.39,>=0.38.0rc1 in /usr/local/lib/python3.7/dist-packages (from numba~=0.55.0->pycaret) (0.38.1)\n",
            "Requirement already satisfied: pytz>=2017.3 in /usr/local/lib/python3.7/dist-packages (from pandas<1.5.0,>=1.3.0->pycaret) (2022.1)\n",
            "Requirement already satisfied: six in /usr/local/lib/python3.7/dist-packages (from patsy>=0.5.1->category-encoders>=2.4.0->pycaret) (1.15.0)\n",
            "Requirement already satisfied: tenacity>=6.2.0 in /usr/local/lib/python3.7/dist-packages (from plotly>=5.0.0->pycaret) (8.0.1)\n",
            "Requirement already satisfied: urllib3 in /usr/local/lib/python3.7/dist-packages (from pmdarima>=1.8.0->pycaret) (1.24.3)\n",
            "Requirement already satisfied: Cython!=0.29.18,>=0.29 in /usr/local/lib/python3.7/dist-packages (from pmdarima>=1.8.0->pycaret) (0.29.30)\n",
            "Requirement already satisfied: wcwidth in /usr/local/lib/python3.7/dist-packages (from prompt-toolkit<2.0.0,>=1.0.4->ipython>=5.5.0->pycaret) (0.2.5)\n",
            "Requirement already satisfied: idna<4,>=2.5 in /usr/local/lib/python3.7/dist-packages (from requests>=2.27.1->pycaret) (2.10)\n",
            "Requirement already satisfied: charset-normalizer~=2.0.0 in /usr/local/lib/python3.7/dist-packages (from requests>=2.27.1->pycaret) (2.0.12)\n",
            "Requirement already satisfied: certifi>=2017.4.17 in /usr/local/lib/python3.7/dist-packages (from requests>=2.27.1->pycaret) (2022.6.15)\n",
            "Requirement already satisfied: threadpoolctl>=2.0.0 in /usr/local/lib/python3.7/dist-packages (from scikit-learn>=1.0->pycaret) (3.1.0)\n",
            "Requirement already satisfied: deprecated>=1.2.13 in /usr/local/lib/python3.7/dist-packages (from sktime>=0.11.4->pycaret) (1.2.13)\n",
            "Requirement already satisfied: wrapt<2,>=1.10 in /usr/local/lib/python3.7/dist-packages (from deprecated>=1.2.13->sktime>=0.11.4->pycaret) (1.14.1)\n",
            "Requirement already satisfied: notebook>=4.4.1 in /usr/local/lib/python3.7/dist-packages (from widgetsnbextension~=3.6.0->ipywidgets>=7.6.5->pycaret) (5.3.1)\n",
            "Requirement already satisfied: nbconvert in /usr/local/lib/python3.7/dist-packages (from notebook>=4.4.1->widgetsnbextension~=3.6.0->ipywidgets>=7.6.5->pycaret) (5.6.1)\n",
            "Requirement already satisfied: terminado>=0.8.1 in /usr/local/lib/python3.7/dist-packages (from notebook>=4.4.1->widgetsnbextension~=3.6.0->ipywidgets>=7.6.5->pycaret) (0.13.3)\n",
            "Requirement already satisfied: Send2Trash in /usr/local/lib/python3.7/dist-packages (from notebook>=4.4.1->widgetsnbextension~=3.6.0->ipywidgets>=7.6.5->pycaret) (1.8.0)\n",
            "Requirement already satisfied: pyzmq>=13 in /usr/local/lib/python3.7/dist-packages (from jupyter-client->ipykernel>=4.5.1->ipywidgets>=7.6.5->pycaret) (23.1.0)\n",
            "Requirement already satisfied: ptyprocess in /usr/local/lib/python3.7/dist-packages (from terminado>=0.8.1->notebook>=4.4.1->widgetsnbextension~=3.6.0->ipywidgets>=7.6.5->pycaret) (0.7.0)\n",
            "Requirement already satisfied: bleach in /usr/local/lib/python3.7/dist-packages (from nbconvert->notebook>=4.4.1->widgetsnbextension~=3.6.0->ipywidgets>=7.6.5->pycaret) (5.0.0)\n",
            "Requirement already satisfied: entrypoints>=0.2.2 in /usr/local/lib/python3.7/dist-packages (from nbconvert->notebook>=4.4.1->widgetsnbextension~=3.6.0->ipywidgets>=7.6.5->pycaret) (0.4)\n",
            "Requirement already satisfied: mistune<2,>=0.8.1 in /usr/local/lib/python3.7/dist-packages (from nbconvert->notebook>=4.4.1->widgetsnbextension~=3.6.0->ipywidgets>=7.6.5->pycaret) (0.8.4)\n",
            "Requirement already satisfied: testpath in /usr/local/lib/python3.7/dist-packages (from nbconvert->notebook>=4.4.1->widgetsnbextension~=3.6.0->ipywidgets>=7.6.5->pycaret) (0.6.0)\n",
            "Requirement already satisfied: defusedxml in /usr/local/lib/python3.7/dist-packages (from nbconvert->notebook>=4.4.1->widgetsnbextension~=3.6.0->ipywidgets>=7.6.5->pycaret) (0.7.1)\n",
            "Requirement already satisfied: pandocfilters>=1.4.1 in /usr/local/lib/python3.7/dist-packages (from nbconvert->notebook>=4.4.1->widgetsnbextension~=3.6.0->ipywidgets>=7.6.5->pycaret) (1.5.0)\n",
            "Requirement already satisfied: webencodings in /usr/local/lib/python3.7/dist-packages (from bleach->nbconvert->notebook>=4.4.1->widgetsnbextension~=3.6.0->ipywidgets>=7.6.5->pycaret) (0.5.1)\n"
          ]
        }
      ]
    },
    {
      "cell_type": "code",
      "source": [
        "from google.colab import drive\n",
        "drive.mount('/content/drive')"
      ],
      "metadata": {
        "colab": {
          "base_uri": "https://localhost:8080/"
        },
        "id": "zbSXxJdjYub-",
        "outputId": "e83a6e64-2402-429a-ed40-6be8b91b3d4c"
      },
      "id": "zbSXxJdjYub-",
      "execution_count": 2,
      "outputs": [
        {
          "output_type": "stream",
          "name": "stdout",
          "text": [
            "Drive already mounted at /content/drive; to attempt to forcibly remount, call drive.mount(\"/content/drive\", force_remount=True).\n"
          ]
        }
      ]
    },
    {
      "cell_type": "markdown",
      "id": "e7ff23ed",
      "metadata": {
        "id": "e7ff23ed"
      },
      "source": [
        "# 1. Acoustic Extinguisher Fire Dataset"
      ]
    },
    {
      "cell_type": "code",
      "execution_count": 3,
      "id": "731f5c98",
      "metadata": {
        "id": "731f5c98"
      },
      "outputs": [],
      "source": [
        "# Importamos las librerías necesarias\n",
        "import numpy as np\n",
        "import pandas as pd\n",
        "import matplotlib.pyplot as plt\n",
        "import seaborn as sns\n",
        "\n",
        "from sklearn.pipeline import Pipeline\n",
        "from sklearn.compose import ColumnTransformer\n",
        "from sklearn.impute import SimpleImputer\n",
        "from sklearn.model_selection import train_test_split\n",
        "from sklearn.preprocessing import StandardScaler, OneHotEncoder\n",
        "from sklearn.metrics import average_precision_score, accuracy_score,plot_confusion_matrix,roc_auc_score, classification_report, confusion_matrix, precision_recall_curve, auc\n",
        "from sklearn.tree import DecisionTreeClassifier\n",
        "from sklearn.ensemble import RandomForestClassifier\n",
        "from sklearn.neighbors import KNeighborsClassifier\n",
        "from sklearn.linear_model import LogisticRegression\n",
        "\n",
        "import pickle\n",
        "\n",
        "RANDOM_STATE = 30"
      ]
    },
    {
      "cell_type": "code",
      "execution_count": 4,
      "id": "dc67f10b",
      "metadata": {
        "id": "dc67f10b"
      },
      "outputs": [],
      "source": [
        "# Levantamos el dataset\n",
        "df = pd.read_excel('/content/drive/MyDrive/Aprendizaje de máquina 1/TP Integrador/data/Acoustic_Extinguisher_Fire_Dataset.xlsx')"
      ]
    },
    {
      "cell_type": "code",
      "execution_count": 5,
      "id": "734aaef5",
      "metadata": {
        "colab": {
          "base_uri": "https://localhost:8080/",
          "height": 206
        },
        "id": "734aaef5",
        "outputId": "896ac61a-38f3-446c-82ac-f59f3fb7ec04"
      },
      "outputs": [
        {
          "output_type": "execute_result",
          "data": {
            "text/plain": [
              "   SIZE      FUEL  DISTANCE  DESIBEL  AIRFLOW  FREQUENCY  STATUS\n",
              "0     1  gasoline        10       96      0.0         75       0\n",
              "1     1  gasoline        10       96      0.0         72       1\n",
              "2     1  gasoline        10       96      2.6         70       1\n",
              "3     1  gasoline        10       96      3.2         68       1\n",
              "4     1  gasoline        10      109      4.5         67       1"
            ],
            "text/html": [
              "\n",
              "  <div id=\"df-02a97b48-0553-4f4b-8bd1-fbcc7329c845\">\n",
              "    <div class=\"colab-df-container\">\n",
              "      <div>\n",
              "<style scoped>\n",
              "    .dataframe tbody tr th:only-of-type {\n",
              "        vertical-align: middle;\n",
              "    }\n",
              "\n",
              "    .dataframe tbody tr th {\n",
              "        vertical-align: top;\n",
              "    }\n",
              "\n",
              "    .dataframe thead th {\n",
              "        text-align: right;\n",
              "    }\n",
              "</style>\n",
              "<table border=\"1\" class=\"dataframe\">\n",
              "  <thead>\n",
              "    <tr style=\"text-align: right;\">\n",
              "      <th></th>\n",
              "      <th>SIZE</th>\n",
              "      <th>FUEL</th>\n",
              "      <th>DISTANCE</th>\n",
              "      <th>DESIBEL</th>\n",
              "      <th>AIRFLOW</th>\n",
              "      <th>FREQUENCY</th>\n",
              "      <th>STATUS</th>\n",
              "    </tr>\n",
              "  </thead>\n",
              "  <tbody>\n",
              "    <tr>\n",
              "      <th>0</th>\n",
              "      <td>1</td>\n",
              "      <td>gasoline</td>\n",
              "      <td>10</td>\n",
              "      <td>96</td>\n",
              "      <td>0.0</td>\n",
              "      <td>75</td>\n",
              "      <td>0</td>\n",
              "    </tr>\n",
              "    <tr>\n",
              "      <th>1</th>\n",
              "      <td>1</td>\n",
              "      <td>gasoline</td>\n",
              "      <td>10</td>\n",
              "      <td>96</td>\n",
              "      <td>0.0</td>\n",
              "      <td>72</td>\n",
              "      <td>1</td>\n",
              "    </tr>\n",
              "    <tr>\n",
              "      <th>2</th>\n",
              "      <td>1</td>\n",
              "      <td>gasoline</td>\n",
              "      <td>10</td>\n",
              "      <td>96</td>\n",
              "      <td>2.6</td>\n",
              "      <td>70</td>\n",
              "      <td>1</td>\n",
              "    </tr>\n",
              "    <tr>\n",
              "      <th>3</th>\n",
              "      <td>1</td>\n",
              "      <td>gasoline</td>\n",
              "      <td>10</td>\n",
              "      <td>96</td>\n",
              "      <td>3.2</td>\n",
              "      <td>68</td>\n",
              "      <td>1</td>\n",
              "    </tr>\n",
              "    <tr>\n",
              "      <th>4</th>\n",
              "      <td>1</td>\n",
              "      <td>gasoline</td>\n",
              "      <td>10</td>\n",
              "      <td>109</td>\n",
              "      <td>4.5</td>\n",
              "      <td>67</td>\n",
              "      <td>1</td>\n",
              "    </tr>\n",
              "  </tbody>\n",
              "</table>\n",
              "</div>\n",
              "      <button class=\"colab-df-convert\" onclick=\"convertToInteractive('df-02a97b48-0553-4f4b-8bd1-fbcc7329c845')\"\n",
              "              title=\"Convert this dataframe to an interactive table.\"\n",
              "              style=\"display:none;\">\n",
              "        \n",
              "  <svg xmlns=\"http://www.w3.org/2000/svg\" height=\"24px\"viewBox=\"0 0 24 24\"\n",
              "       width=\"24px\">\n",
              "    <path d=\"M0 0h24v24H0V0z\" fill=\"none\"/>\n",
              "    <path d=\"M18.56 5.44l.94 2.06.94-2.06 2.06-.94-2.06-.94-.94-2.06-.94 2.06-2.06.94zm-11 1L8.5 8.5l.94-2.06 2.06-.94-2.06-.94L8.5 2.5l-.94 2.06-2.06.94zm10 10l.94 2.06.94-2.06 2.06-.94-2.06-.94-.94-2.06-.94 2.06-2.06.94z\"/><path d=\"M17.41 7.96l-1.37-1.37c-.4-.4-.92-.59-1.43-.59-.52 0-1.04.2-1.43.59L10.3 9.45l-7.72 7.72c-.78.78-.78 2.05 0 2.83L4 21.41c.39.39.9.59 1.41.59.51 0 1.02-.2 1.41-.59l7.78-7.78 2.81-2.81c.8-.78.8-2.07 0-2.86zM5.41 20L4 18.59l7.72-7.72 1.47 1.35L5.41 20z\"/>\n",
              "  </svg>\n",
              "      </button>\n",
              "      \n",
              "  <style>\n",
              "    .colab-df-container {\n",
              "      display:flex;\n",
              "      flex-wrap:wrap;\n",
              "      gap: 12px;\n",
              "    }\n",
              "\n",
              "    .colab-df-convert {\n",
              "      background-color: #E8F0FE;\n",
              "      border: none;\n",
              "      border-radius: 50%;\n",
              "      cursor: pointer;\n",
              "      display: none;\n",
              "      fill: #1967D2;\n",
              "      height: 32px;\n",
              "      padding: 0 0 0 0;\n",
              "      width: 32px;\n",
              "    }\n",
              "\n",
              "    .colab-df-convert:hover {\n",
              "      background-color: #E2EBFA;\n",
              "      box-shadow: 0px 1px 2px rgba(60, 64, 67, 0.3), 0px 1px 3px 1px rgba(60, 64, 67, 0.15);\n",
              "      fill: #174EA6;\n",
              "    }\n",
              "\n",
              "    [theme=dark] .colab-df-convert {\n",
              "      background-color: #3B4455;\n",
              "      fill: #D2E3FC;\n",
              "    }\n",
              "\n",
              "    [theme=dark] .colab-df-convert:hover {\n",
              "      background-color: #434B5C;\n",
              "      box-shadow: 0px 1px 3px 1px rgba(0, 0, 0, 0.15);\n",
              "      filter: drop-shadow(0px 1px 2px rgba(0, 0, 0, 0.3));\n",
              "      fill: #FFFFFF;\n",
              "    }\n",
              "  </style>\n",
              "\n",
              "      <script>\n",
              "        const buttonEl =\n",
              "          document.querySelector('#df-02a97b48-0553-4f4b-8bd1-fbcc7329c845 button.colab-df-convert');\n",
              "        buttonEl.style.display =\n",
              "          google.colab.kernel.accessAllowed ? 'block' : 'none';\n",
              "\n",
              "        async function convertToInteractive(key) {\n",
              "          const element = document.querySelector('#df-02a97b48-0553-4f4b-8bd1-fbcc7329c845');\n",
              "          const dataTable =\n",
              "            await google.colab.kernel.invokeFunction('convertToInteractive',\n",
              "                                                     [key], {});\n",
              "          if (!dataTable) return;\n",
              "\n",
              "          const docLinkHtml = 'Like what you see? Visit the ' +\n",
              "            '<a target=\"_blank\" href=https://colab.research.google.com/notebooks/data_table.ipynb>data table notebook</a>'\n",
              "            + ' to learn more about interactive tables.';\n",
              "          element.innerHTML = '';\n",
              "          dataTable['output_type'] = 'display_data';\n",
              "          await google.colab.output.renderOutput(dataTable, element);\n",
              "          const docLink = document.createElement('div');\n",
              "          docLink.innerHTML = docLinkHtml;\n",
              "          element.appendChild(docLink);\n",
              "        }\n",
              "      </script>\n",
              "    </div>\n",
              "  </div>\n",
              "  "
            ]
          },
          "metadata": {},
          "execution_count": 5
        }
      ],
      "source": [
        "# Visualizamos los primeros 5 registros\n",
        "df.head()"
      ]
    },
    {
      "cell_type": "markdown",
      "id": "486c1284",
      "metadata": {
        "id": "486c1284"
      },
      "source": [
        "### Pre-procesamiento de los datos"
      ]
    },
    {
      "cell_type": "markdown",
      "id": "abccd616",
      "metadata": {
        "id": "abccd616"
      },
      "source": [
        "#### 1. Renombrar columnas"
      ]
    },
    {
      "cell_type": "code",
      "execution_count": 6,
      "id": "e62df87e",
      "metadata": {
        "id": "e62df87e"
      },
      "outputs": [],
      "source": [
        "columns = {\n",
        "    'SIZE': 'size',\n",
        "    'FUEL': 'fuel',\n",
        "    'DISTANCE': 'distance',\n",
        "    'DESIBEL': 'desibel',\n",
        "    'AIRFLOW': 'airflow',\n",
        "    'FREQUENCY': 'frequency',\n",
        "    'STATUS': 'status',\n",
        "}\n",
        "\n",
        "df.rename(columns=columns, inplace=True)"
      ]
    },
    {
      "cell_type": "markdown",
      "id": "47dbb471",
      "metadata": {
        "id": "47dbb471"
      },
      "source": [
        "#### 2. División de las variables predictoras (X) y variable objetivo (y)"
      ]
    },
    {
      "cell_type": "code",
      "execution_count": 7,
      "id": "38822bad",
      "metadata": {
        "id": "38822bad"
      },
      "outputs": [],
      "source": [
        "# Definición de X e Y\n",
        "X = df[['size', 'fuel', 'distance', 'desibel', 'airflow', 'frequency']]\n",
        "y = df[['status']]"
      ]
    },
    {
      "cell_type": "markdown",
      "id": "6db6e09a",
      "metadata": {
        "id": "6db6e09a"
      },
      "source": [
        "#### 3. Transformación de datos y pipeline de pre-procesamiento"
      ]
    },
    {
      "cell_type": "code",
      "execution_count": 8,
      "id": "7ef79b16",
      "metadata": {
        "id": "7ef79b16"
      },
      "outputs": [],
      "source": [
        "numeric_features = ['size', 'distance', 'desibel', 'airflow', 'frequency']\n",
        "categorical_features = ['fuel']\n",
        "\n",
        "numeric_transformer = Pipeline(steps=[\n",
        "    ('imputer', SimpleImputer(strategy='median')),\n",
        "    ('scaler', StandardScaler())])\n",
        "\n",
        "categorical_transformer = OneHotEncoder(handle_unknown='ignore')\n",
        "\n",
        "preprocessor = ColumnTransformer(\n",
        "    transformers=[\n",
        "        ('num', numeric_transformer, numeric_features),\n",
        "        ('cat', categorical_transformer, categorical_features)])"
      ]
    },
    {
      "cell_type": "markdown",
      "id": "903db93e",
      "metadata": {
        "id": "903db93e"
      },
      "source": [
        "#### 4. Separación en datos de entrenamiento y testeo"
      ]
    },
    {
      "cell_type": "code",
      "execution_count": 9,
      "id": "f30f2387",
      "metadata": {
        "id": "f30f2387"
      },
      "outputs": [],
      "source": [
        "X_train, X_test, y_train, y_test = train_test_split(X, y, test_size=0.3, random_state=42, stratify=y)"
      ]
    },
    {
      "cell_type": "code",
      "execution_count": 10,
      "id": "340be8a4",
      "metadata": {
        "colab": {
          "base_uri": "https://localhost:8080/"
        },
        "id": "340be8a4",
        "outputId": "01a2ffb8-7b2b-4909-ea71-f13c471a327c"
      },
      "outputs": [
        {
          "output_type": "stream",
          "name": "stdout",
          "text": [
            "Composición del training set:\n",
            "status\n",
            "0         6131\n",
            "1         6078\n",
            "dtype: int64\n",
            "\n",
            "Composición del test set:\n",
            "status\n",
            "0         2628\n",
            "1         2605\n",
            "dtype: int64\n"
          ]
        }
      ],
      "source": [
        "print('Composición del training set:')\n",
        "print(y_train.value_counts())\n",
        "\n",
        "print('\\nComposición del test set:')\n",
        "print(y_test.value_counts())"
      ]
    },
    {
      "cell_type": "markdown",
      "id": "edb4f406",
      "metadata": {
        "id": "edb4f406"
      },
      "source": [
        "### Preparación de la experimentación"
      ]
    },
    {
      "cell_type": "markdown",
      "id": "c5bcfa12",
      "metadata": {
        "id": "c5bcfa12"
      },
      "source": [
        "#### 1. Definición de los modelos"
      ]
    },
    {
      "cell_type": "code",
      "execution_count": 21,
      "id": "8f51d4d3",
      "metadata": {
        "id": "8f51d4d3"
      },
      "outputs": [],
      "source": [
        "logistic_regression_model = Pipeline(steps=[('preprocessor', preprocessor),\n",
        "                       ('classifier', LogisticRegression ())])\n",
        "\n",
        "\n",
        "random_forest_model = Pipeline(steps=[('preprocessor', preprocessor),\n",
        "                       ('classifier', RandomForestClassifier(criterion='gini', max_depth=30))])\n",
        "\n",
        "knn_model = Pipeline(steps=[('preprocessor', preprocessor),\n",
        "                       ('classifier', KNeighborsClassifier())])"
      ]
    },
    {
      "cell_type": "markdown",
      "id": "25d1a843",
      "metadata": {
        "id": "25d1a843"
      },
      "source": [
        "#### 2. Definición de las métricas"
      ]
    },
    {
      "cell_type": "code",
      "execution_count": 12,
      "id": "bfffd59b",
      "metadata": {
        "id": "bfffd59b"
      },
      "outputs": [],
      "source": [
        "def metric_report(y_test, y_pred, y_proba):  \n",
        "    print(classification_report(y_test, y_pred))  \n",
        "    print('Area bajo la curva ROC:',np.round(roc_auc_score(y_test, y_proba[:,1]), 4)) \n",
        "    precision, recall,threshold=precision_recall_curve(y_test, y_proba[:,1]);\n",
        "    print('Area bajo la curva Precision-Recall:',np.round(auc(recall, precision), 4))"
      ]
    },
    {
      "cell_type": "markdown",
      "id": "393391e4",
      "metadata": {
        "id": "393391e4"
      },
      "source": [
        "### Entrenamiento de y evaluación de los modelos"
      ]
    },
    {
      "cell_type": "markdown",
      "source": [
        "#### 1. Logistic Regression"
      ],
      "metadata": {
        "id": "2jvlsnEtifJ8"
      },
      "id": "2jvlsnEtifJ8"
    },
    {
      "cell_type": "code",
      "execution_count": 13,
      "id": "38bfe3a8",
      "metadata": {
        "colab": {
          "base_uri": "https://localhost:8080/"
        },
        "id": "38bfe3a8",
        "outputId": "854d2f9a-d7bd-444d-fb93-20e1a200549b"
      },
      "outputs": [
        {
          "output_type": "stream",
          "name": "stderr",
          "text": [
            "/usr/local/lib/python3.7/dist-packages/sklearn/utils/validation.py:993: DataConversionWarning: A column-vector y was passed when a 1d array was expected. Please change the shape of y to (n_samples, ), for example using ravel().\n",
            "  y = column_or_1d(y, warn=True)\n"
          ]
        },
        {
          "output_type": "execute_result",
          "data": {
            "text/plain": [
              "Pipeline(steps=[('preprocessor',\n",
              "                 ColumnTransformer(transformers=[('num',\n",
              "                                                  Pipeline(steps=[('imputer',\n",
              "                                                                   SimpleImputer(strategy='median')),\n",
              "                                                                  ('scaler',\n",
              "                                                                   StandardScaler())]),\n",
              "                                                  ['size', 'distance',\n",
              "                                                   'desibel', 'airflow',\n",
              "                                                   'frequency']),\n",
              "                                                 ('cat',\n",
              "                                                  OneHotEncoder(handle_unknown='ignore'),\n",
              "                                                  ['fuel'])])),\n",
              "                ('classifier', LogisticRegression())])"
            ]
          },
          "metadata": {},
          "execution_count": 13
        }
      ],
      "source": [
        "logistic_regression_model.fit(X_train, y_train)"
      ]
    },
    {
      "cell_type": "code",
      "execution_count": 14,
      "id": "47ca3a11",
      "metadata": {
        "id": "47ca3a11"
      },
      "outputs": [],
      "source": [
        "y_pred = logistic_regression_model.predict(X_test)"
      ]
    },
    {
      "cell_type": "code",
      "execution_count": 15,
      "id": "3fd705c1",
      "metadata": {
        "id": "3fd705c1"
      },
      "outputs": [],
      "source": [
        "y_proba = logistic_regression_model.predict_proba(X_test)"
      ]
    },
    {
      "cell_type": "code",
      "execution_count": 16,
      "id": "ce2b32e3",
      "metadata": {
        "colab": {
          "base_uri": "https://localhost:8080/"
        },
        "id": "ce2b32e3",
        "outputId": "2b614081-6bc4-4c18-c4ef-37e6e588beeb"
      },
      "outputs": [
        {
          "output_type": "stream",
          "name": "stdout",
          "text": [
            "              precision    recall  f1-score   support\n",
            "\n",
            "           0       0.89      0.91      0.90      2628\n",
            "           1       0.91      0.89      0.90      2605\n",
            "\n",
            "    accuracy                           0.90      5233\n",
            "   macro avg       0.90      0.90      0.90      5233\n",
            "weighted avg       0.90      0.90      0.90      5233\n",
            "\n",
            "Area bajo la curva ROC: 0.9665\n",
            "Area bajo la curva Precision-Recall: 0.9678\n"
          ]
        }
      ],
      "source": [
        "metric_report(y_test, y_pred, y_proba)"
      ]
    },
    {
      "cell_type": "markdown",
      "source": [
        "#### 2. Random Forest"
      ],
      "metadata": {
        "id": "78BWkD_-ipM9"
      },
      "id": "78BWkD_-ipM9"
    },
    {
      "cell_type": "code",
      "execution_count": 22,
      "id": "bfb4469d",
      "metadata": {
        "colab": {
          "base_uri": "https://localhost:8080/"
        },
        "id": "bfb4469d",
        "outputId": "c5a62ced-17a0-4dd7-f065-5312780acf07"
      },
      "outputs": [
        {
          "output_type": "stream",
          "name": "stderr",
          "text": [
            "/usr/local/lib/python3.7/dist-packages/sklearn/pipeline.py:394: DataConversionWarning: A column-vector y was passed when a 1d array was expected. Please change the shape of y to (n_samples,), for example using ravel().\n",
            "  self._final_estimator.fit(Xt, y, **fit_params_last_step)\n"
          ]
        },
        {
          "output_type": "execute_result",
          "data": {
            "text/plain": [
              "Pipeline(steps=[('preprocessor',\n",
              "                 ColumnTransformer(transformers=[('num',\n",
              "                                                  Pipeline(steps=[('imputer',\n",
              "                                                                   SimpleImputer(strategy='median')),\n",
              "                                                                  ('scaler',\n",
              "                                                                   StandardScaler())]),\n",
              "                                                  ['size', 'distance',\n",
              "                                                   'desibel', 'airflow',\n",
              "                                                   'frequency']),\n",
              "                                                 ('cat',\n",
              "                                                  OneHotEncoder(handle_unknown='ignore'),\n",
              "                                                  ['fuel'])])),\n",
              "                ('classifier', RandomForestClassifier(max_depth=30))])"
            ]
          },
          "metadata": {},
          "execution_count": 22
        }
      ],
      "source": [
        "random_forest_model.fit(X_train, y_train)"
      ]
    },
    {
      "cell_type": "code",
      "execution_count": 23,
      "id": "0c16463e",
      "metadata": {
        "id": "0c16463e"
      },
      "outputs": [],
      "source": [
        "y_pred = random_forest_model.predict(X_test)"
      ]
    },
    {
      "cell_type": "code",
      "execution_count": 24,
      "id": "907073c4",
      "metadata": {
        "id": "907073c4"
      },
      "outputs": [],
      "source": [
        "y_proba = random_forest_model.predict_proba(X_test)"
      ]
    },
    {
      "cell_type": "code",
      "execution_count": 25,
      "id": "1928746a",
      "metadata": {
        "colab": {
          "base_uri": "https://localhost:8080/"
        },
        "id": "1928746a",
        "outputId": "706c90a1-7423-4f99-e875-d10cd98cf426"
      },
      "outputs": [
        {
          "output_type": "stream",
          "name": "stdout",
          "text": [
            "              precision    recall  f1-score   support\n",
            "\n",
            "           0       0.96      0.97      0.97      2628\n",
            "           1       0.97      0.96      0.97      2605\n",
            "\n",
            "    accuracy                           0.97      5233\n",
            "   macro avg       0.97      0.97      0.97      5233\n",
            "weighted avg       0.97      0.97      0.97      5233\n",
            "\n",
            "Area bajo la curva ROC: 0.9957\n",
            "Area bajo la curva Precision-Recall: 0.9959\n"
          ]
        }
      ],
      "source": [
        "metric_report(y_test, y_pred, y_proba)"
      ]
    },
    {
      "cell_type": "markdown",
      "source": [
        "#### 3. KNN"
      ],
      "metadata": {
        "id": "tb6KwN58jA9s"
      },
      "id": "tb6KwN58jA9s"
    },
    {
      "cell_type": "code",
      "execution_count": 26,
      "id": "d13b7301",
      "metadata": {
        "colab": {
          "base_uri": "https://localhost:8080/"
        },
        "id": "d13b7301",
        "outputId": "aea8cc09-1d0f-4a22-fa21-ed62fb9703ba"
      },
      "outputs": [
        {
          "output_type": "stream",
          "name": "stderr",
          "text": [
            "/usr/local/lib/python3.7/dist-packages/sklearn/neighbors/_classification.py:198: DataConversionWarning: A column-vector y was passed when a 1d array was expected. Please change the shape of y to (n_samples,), for example using ravel().\n",
            "  return self._fit(X, y)\n"
          ]
        },
        {
          "output_type": "execute_result",
          "data": {
            "text/plain": [
              "Pipeline(steps=[('preprocessor',\n",
              "                 ColumnTransformer(transformers=[('num',\n",
              "                                                  Pipeline(steps=[('imputer',\n",
              "                                                                   SimpleImputer(strategy='median')),\n",
              "                                                                  ('scaler',\n",
              "                                                                   StandardScaler())]),\n",
              "                                                  ['size', 'distance',\n",
              "                                                   'desibel', 'airflow',\n",
              "                                                   'frequency']),\n",
              "                                                 ('cat',\n",
              "                                                  OneHotEncoder(handle_unknown='ignore'),\n",
              "                                                  ['fuel'])])),\n",
              "                ('classifier', KNeighborsClassifier())])"
            ]
          },
          "metadata": {},
          "execution_count": 26
        }
      ],
      "source": [
        "knn_model.fit(X_train, y_train)"
      ]
    },
    {
      "cell_type": "code",
      "execution_count": 27,
      "id": "9ae21c8b",
      "metadata": {
        "id": "9ae21c8b"
      },
      "outputs": [],
      "source": [
        "y_pred = knn_model.predict(X_test)"
      ]
    },
    {
      "cell_type": "code",
      "execution_count": 28,
      "id": "0966f878",
      "metadata": {
        "id": "0966f878"
      },
      "outputs": [],
      "source": [
        "y_proba = knn_model.predict_proba(X_test)"
      ]
    },
    {
      "cell_type": "code",
      "execution_count": 29,
      "id": "ff18fee0",
      "metadata": {
        "colab": {
          "base_uri": "https://localhost:8080/"
        },
        "id": "ff18fee0",
        "outputId": "0eb2ac8c-a2ed-437f-ec9f-f4bca3fca585"
      },
      "outputs": [
        {
          "output_type": "stream",
          "name": "stdout",
          "text": [
            "              precision    recall  f1-score   support\n",
            "\n",
            "           0       0.95      0.96      0.96      2628\n",
            "           1       0.96      0.95      0.96      2605\n",
            "\n",
            "    accuracy                           0.96      5233\n",
            "   macro avg       0.96      0.96      0.96      5233\n",
            "weighted avg       0.96      0.96      0.96      5233\n",
            "\n",
            "Area bajo la curva ROC: 0.9917\n",
            "Area bajo la curva Precision-Recall: 0.9928\n"
          ]
        }
      ],
      "source": [
        "metric_report(y_test, y_pred, y_proba)"
      ]
    },
    {
      "cell_type": "markdown",
      "source": [
        "## AutoML: PyCaret"
      ],
      "metadata": {
        "id": "SnwIID8cjOFd"
      },
      "id": "SnwIID8cjOFd"
    },
    {
      "cell_type": "code",
      "execution_count": 54,
      "id": "4247ba29",
      "metadata": {
        "id": "4247ba29"
      },
      "outputs": [],
      "source": [
        "from pycaret.classification import (\n",
        "    add_metric,\n",
        "    setup,\n",
        "    compare_models,\n",
        "    models,\n",
        "    create_model,\n",
        "    evaluate_model,\n",
        "    predict_model,\n",
        "    save_model,\n",
        ")"
      ]
    },
    {
      "cell_type": "code",
      "source": [
        "clf1 = setup(\n",
        "    df,\n",
        "    target=\"status\",\n",
        "    train_size=0.7,\n",
        "    # preprocess = False,\n",
        "    normalize=True,\n",
        "    normalize_method=\"zscore\",\n",
        "    pca=True,\n",
        "    pca_components=0.9,\n",
        "    # # remove_outliers = True,\n",
        "    # # outliters_threshold = 0.05,\n",
        "    remove_multicollinearity=True,\n",
        "    multicollinearity_threshold=0.9,\n",
        "    fix_imbalance=True,  # SMOTE method\n",
        "    data_split_shuffle=True,\n",
        "    data_split_stratify=True,\n",
        "    fold_strategy=\"stratifiedkfold\",\n",
        "    fold=5,\n",
        "    session_id=RANDOM_STATE,\n",
        "    ## silent=False,\n",
        "    log_experiment=False,\n",
        "    experiment_name=\"Fire-extinguishing\",\n",
        "    use_gpu=False,\n",
        ")"
      ],
      "metadata": {
        "colab": {
          "base_uri": "https://localhost:8080/",
          "height": 1000
        },
        "id": "SBjKf91Nyd7a",
        "outputId": "5dfd70c9-5702-4869-d44e-e89ec9107c72"
      },
      "id": "SBjKf91Nyd7a",
      "execution_count": 31,
      "outputs": [
        {
          "output_type": "display_data",
          "data": {
            "text/plain": [
              "<pandas.io.formats.style.Styler at 0x7f45a5c306d0>"
            ],
            "text/html": [
              "<style type=\"text/css\">\n",
              "#T_7b585_row9_col1, #T_7b585_row15_col1, #T_7b585_row17_col1, #T_7b585_row19_col1, #T_7b585_row21_col1 {\n",
              "  background-color: lightgreen;\n",
              "}\n",
              "</style>\n",
              "<table id=\"T_7b585_\" class=\"dataframe\">\n",
              "  <thead>\n",
              "    <tr>\n",
              "      <th class=\"blank level0\" >&nbsp;</th>\n",
              "      <th class=\"col_heading level0 col0\" >Description</th>\n",
              "      <th class=\"col_heading level0 col1\" >Value</th>\n",
              "    </tr>\n",
              "  </thead>\n",
              "  <tbody>\n",
              "    <tr>\n",
              "      <th id=\"T_7b585_level0_row0\" class=\"row_heading level0 row0\" >0</th>\n",
              "      <td id=\"T_7b585_row0_col0\" class=\"data row0 col0\" >Session id</td>\n",
              "      <td id=\"T_7b585_row0_col1\" class=\"data row0 col1\" >30</td>\n",
              "    </tr>\n",
              "    <tr>\n",
              "      <th id=\"T_7b585_level0_row1\" class=\"row_heading level0 row1\" >1</th>\n",
              "      <td id=\"T_7b585_row1_col0\" class=\"data row1 col0\" >Target</td>\n",
              "      <td id=\"T_7b585_row1_col1\" class=\"data row1 col1\" >status</td>\n",
              "    </tr>\n",
              "    <tr>\n",
              "      <th id=\"T_7b585_level0_row2\" class=\"row_heading level0 row2\" >2</th>\n",
              "      <td id=\"T_7b585_row2_col0\" class=\"data row2 col0\" >Target type</td>\n",
              "      <td id=\"T_7b585_row2_col1\" class=\"data row2 col1\" >Binary</td>\n",
              "    </tr>\n",
              "    <tr>\n",
              "      <th id=\"T_7b585_level0_row3\" class=\"row_heading level0 row3\" >3</th>\n",
              "      <td id=\"T_7b585_row3_col0\" class=\"data row3 col0\" >Original data shape</td>\n",
              "      <td id=\"T_7b585_row3_col1\" class=\"data row3 col1\" >(17442, 7)</td>\n",
              "    </tr>\n",
              "    <tr>\n",
              "      <th id=\"T_7b585_level0_row4\" class=\"row_heading level0 row4\" >4</th>\n",
              "      <td id=\"T_7b585_row4_col0\" class=\"data row4 col0\" >Transformed data shape</td>\n",
              "      <td id=\"T_7b585_row4_col1\" class=\"data row4 col1\" >(17495, 6)</td>\n",
              "    </tr>\n",
              "    <tr>\n",
              "      <th id=\"T_7b585_level0_row5\" class=\"row_heading level0 row5\" >5</th>\n",
              "      <td id=\"T_7b585_row5_col0\" class=\"data row5 col0\" >Transformed train set shape</td>\n",
              "      <td id=\"T_7b585_row5_col1\" class=\"data row5 col1\" >(12262, 6)</td>\n",
              "    </tr>\n",
              "    <tr>\n",
              "      <th id=\"T_7b585_level0_row6\" class=\"row_heading level0 row6\" >6</th>\n",
              "      <td id=\"T_7b585_row6_col0\" class=\"data row6 col0\" >Transformed test set shape</td>\n",
              "      <td id=\"T_7b585_row6_col1\" class=\"data row6 col1\" >(5233, 6)</td>\n",
              "    </tr>\n",
              "    <tr>\n",
              "      <th id=\"T_7b585_level0_row7\" class=\"row_heading level0 row7\" >7</th>\n",
              "      <td id=\"T_7b585_row7_col0\" class=\"data row7 col0\" >Numeric features</td>\n",
              "      <td id=\"T_7b585_row7_col1\" class=\"data row7 col1\" >5</td>\n",
              "    </tr>\n",
              "    <tr>\n",
              "      <th id=\"T_7b585_level0_row8\" class=\"row_heading level0 row8\" >8</th>\n",
              "      <td id=\"T_7b585_row8_col0\" class=\"data row8 col0\" >Categorical features</td>\n",
              "      <td id=\"T_7b585_row8_col1\" class=\"data row8 col1\" >1</td>\n",
              "    </tr>\n",
              "    <tr>\n",
              "      <th id=\"T_7b585_level0_row9\" class=\"row_heading level0 row9\" >9</th>\n",
              "      <td id=\"T_7b585_row9_col0\" class=\"data row9 col0\" >Preprocess</td>\n",
              "      <td id=\"T_7b585_row9_col1\" class=\"data row9 col1\" >True</td>\n",
              "    </tr>\n",
              "    <tr>\n",
              "      <th id=\"T_7b585_level0_row10\" class=\"row_heading level0 row10\" >10</th>\n",
              "      <td id=\"T_7b585_row10_col0\" class=\"data row10 col0\" >Imputation type</td>\n",
              "      <td id=\"T_7b585_row10_col1\" class=\"data row10 col1\" >simple</td>\n",
              "    </tr>\n",
              "    <tr>\n",
              "      <th id=\"T_7b585_level0_row11\" class=\"row_heading level0 row11\" >11</th>\n",
              "      <td id=\"T_7b585_row11_col0\" class=\"data row11 col0\" >Numeric imputation</td>\n",
              "      <td id=\"T_7b585_row11_col1\" class=\"data row11 col1\" >mean</td>\n",
              "    </tr>\n",
              "    <tr>\n",
              "      <th id=\"T_7b585_level0_row12\" class=\"row_heading level0 row12\" >12</th>\n",
              "      <td id=\"T_7b585_row12_col0\" class=\"data row12 col0\" >Categorical imputation</td>\n",
              "      <td id=\"T_7b585_row12_col1\" class=\"data row12 col1\" >constant</td>\n",
              "    </tr>\n",
              "    <tr>\n",
              "      <th id=\"T_7b585_level0_row13\" class=\"row_heading level0 row13\" >13</th>\n",
              "      <td id=\"T_7b585_row13_col0\" class=\"data row13 col0\" >Maximum one-hot encoding</td>\n",
              "      <td id=\"T_7b585_row13_col1\" class=\"data row13 col1\" >5</td>\n",
              "    </tr>\n",
              "    <tr>\n",
              "      <th id=\"T_7b585_level0_row14\" class=\"row_heading level0 row14\" >14</th>\n",
              "      <td id=\"T_7b585_row14_col0\" class=\"data row14 col0\" >Encoding method</td>\n",
              "      <td id=\"T_7b585_row14_col1\" class=\"data row14 col1\" >None</td>\n",
              "    </tr>\n",
              "    <tr>\n",
              "      <th id=\"T_7b585_level0_row15\" class=\"row_heading level0 row15\" >15</th>\n",
              "      <td id=\"T_7b585_row15_col0\" class=\"data row15 col0\" >Remove multicollinearity</td>\n",
              "      <td id=\"T_7b585_row15_col1\" class=\"data row15 col1\" >True</td>\n",
              "    </tr>\n",
              "    <tr>\n",
              "      <th id=\"T_7b585_level0_row16\" class=\"row_heading level0 row16\" >16</th>\n",
              "      <td id=\"T_7b585_row16_col0\" class=\"data row16 col0\" >Multicollinearity threshold</td>\n",
              "      <td id=\"T_7b585_row16_col1\" class=\"data row16 col1\" >0.900000</td>\n",
              "    </tr>\n",
              "    <tr>\n",
              "      <th id=\"T_7b585_level0_row17\" class=\"row_heading level0 row17\" >17</th>\n",
              "      <td id=\"T_7b585_row17_col0\" class=\"data row17 col0\" >Fix imbalance</td>\n",
              "      <td id=\"T_7b585_row17_col1\" class=\"data row17 col1\" >True</td>\n",
              "    </tr>\n",
              "    <tr>\n",
              "      <th id=\"T_7b585_level0_row18\" class=\"row_heading level0 row18\" >18</th>\n",
              "      <td id=\"T_7b585_row18_col0\" class=\"data row18 col0\" >Fix imbalance method</td>\n",
              "      <td id=\"T_7b585_row18_col1\" class=\"data row18 col1\" >None</td>\n",
              "    </tr>\n",
              "    <tr>\n",
              "      <th id=\"T_7b585_level0_row19\" class=\"row_heading level0 row19\" >19</th>\n",
              "      <td id=\"T_7b585_row19_col0\" class=\"data row19 col0\" >Normalize</td>\n",
              "      <td id=\"T_7b585_row19_col1\" class=\"data row19 col1\" >True</td>\n",
              "    </tr>\n",
              "    <tr>\n",
              "      <th id=\"T_7b585_level0_row20\" class=\"row_heading level0 row20\" >20</th>\n",
              "      <td id=\"T_7b585_row20_col0\" class=\"data row20 col0\" >Normalize method</td>\n",
              "      <td id=\"T_7b585_row20_col1\" class=\"data row20 col1\" >zscore</td>\n",
              "    </tr>\n",
              "    <tr>\n",
              "      <th id=\"T_7b585_level0_row21\" class=\"row_heading level0 row21\" >21</th>\n",
              "      <td id=\"T_7b585_row21_col0\" class=\"data row21 col0\" >PCA</td>\n",
              "      <td id=\"T_7b585_row21_col1\" class=\"data row21 col1\" >True</td>\n",
              "    </tr>\n",
              "    <tr>\n",
              "      <th id=\"T_7b585_level0_row22\" class=\"row_heading level0 row22\" >22</th>\n",
              "      <td id=\"T_7b585_row22_col0\" class=\"data row22 col0\" >PCA method</td>\n",
              "      <td id=\"T_7b585_row22_col1\" class=\"data row22 col1\" >linear</td>\n",
              "    </tr>\n",
              "    <tr>\n",
              "      <th id=\"T_7b585_level0_row23\" class=\"row_heading level0 row23\" >23</th>\n",
              "      <td id=\"T_7b585_row23_col0\" class=\"data row23 col0\" >PCA components</td>\n",
              "      <td id=\"T_7b585_row23_col1\" class=\"data row23 col1\" >0.900000</td>\n",
              "    </tr>\n",
              "    <tr>\n",
              "      <th id=\"T_7b585_level0_row24\" class=\"row_heading level0 row24\" >24</th>\n",
              "      <td id=\"T_7b585_row24_col0\" class=\"data row24 col0\" >Fold Generator</td>\n",
              "      <td id=\"T_7b585_row24_col1\" class=\"data row24 col1\" >StratifiedKFold</td>\n",
              "    </tr>\n",
              "    <tr>\n",
              "      <th id=\"T_7b585_level0_row25\" class=\"row_heading level0 row25\" >25</th>\n",
              "      <td id=\"T_7b585_row25_col0\" class=\"data row25 col0\" >Fold Number</td>\n",
              "      <td id=\"T_7b585_row25_col1\" class=\"data row25 col1\" >5</td>\n",
              "    </tr>\n",
              "    <tr>\n",
              "      <th id=\"T_7b585_level0_row26\" class=\"row_heading level0 row26\" >26</th>\n",
              "      <td id=\"T_7b585_row26_col0\" class=\"data row26 col0\" >CPU Jobs</td>\n",
              "      <td id=\"T_7b585_row26_col1\" class=\"data row26 col1\" >-1</td>\n",
              "    </tr>\n",
              "    <tr>\n",
              "      <th id=\"T_7b585_level0_row27\" class=\"row_heading level0 row27\" >27</th>\n",
              "      <td id=\"T_7b585_row27_col0\" class=\"data row27 col0\" >Use GPU</td>\n",
              "      <td id=\"T_7b585_row27_col1\" class=\"data row27 col1\" >False</td>\n",
              "    </tr>\n",
              "    <tr>\n",
              "      <th id=\"T_7b585_level0_row28\" class=\"row_heading level0 row28\" >28</th>\n",
              "      <td id=\"T_7b585_row28_col0\" class=\"data row28 col0\" >Log Experiment</td>\n",
              "      <td id=\"T_7b585_row28_col1\" class=\"data row28 col1\" >False</td>\n",
              "    </tr>\n",
              "    <tr>\n",
              "      <th id=\"T_7b585_level0_row29\" class=\"row_heading level0 row29\" >29</th>\n",
              "      <td id=\"T_7b585_row29_col0\" class=\"data row29 col0\" >Experiment Name</td>\n",
              "      <td id=\"T_7b585_row29_col1\" class=\"data row29 col1\" >Fire-extinguishing</td>\n",
              "    </tr>\n",
              "    <tr>\n",
              "      <th id=\"T_7b585_level0_row30\" class=\"row_heading level0 row30\" >30</th>\n",
              "      <td id=\"T_7b585_row30_col0\" class=\"data row30 col0\" >USI</td>\n",
              "      <td id=\"T_7b585_row30_col1\" class=\"data row30 col1\" >1887</td>\n",
              "    </tr>\n",
              "  </tbody>\n",
              "</table>\n"
            ]
          },
          "metadata": {}
        }
      ]
    },
    {
      "cell_type": "code",
      "source": [
        "models()"
      ],
      "metadata": {
        "colab": {
          "base_uri": "https://localhost:8080/",
          "height": 613
        },
        "id": "Tn7DA3_Fz1Tw",
        "outputId": "a9beecac-3a97-4c67-c3ef-1a6e4035bfd9"
      },
      "id": "Tn7DA3_Fz1Tw",
      "execution_count": 32,
      "outputs": [
        {
          "output_type": "execute_result",
          "data": {
            "text/plain": [
              "                                     Name  \\\n",
              "ID                                          \n",
              "lr                    Logistic Regression   \n",
              "knn                K Neighbors Classifier   \n",
              "nb                            Naive Bayes   \n",
              "dt               Decision Tree Classifier   \n",
              "svm                   SVM - Linear Kernel   \n",
              "rbfsvm                SVM - Radial Kernel   \n",
              "gpc           Gaussian Process Classifier   \n",
              "mlp                        MLP Classifier   \n",
              "ridge                    Ridge Classifier   \n",
              "rf               Random Forest Classifier   \n",
              "qda       Quadratic Discriminant Analysis   \n",
              "ada                  Ada Boost Classifier   \n",
              "gbc          Gradient Boosting Classifier   \n",
              "lda          Linear Discriminant Analysis   \n",
              "et                 Extra Trees Classifier   \n",
              "lightgbm  Light Gradient Boosting Machine   \n",
              "dummy                    Dummy Classifier   \n",
              "\n",
              "                                                  Reference  Turbo  \n",
              "ID                                                                  \n",
              "lr        sklearn.linear_model._logistic.LogisticRegression   True  \n",
              "knn       sklearn.neighbors._classification.KNeighborsCl...   True  \n",
              "nb                           sklearn.naive_bayes.GaussianNB   True  \n",
              "dt             sklearn.tree._classes.DecisionTreeClassifier   True  \n",
              "svm       sklearn.linear_model._stochastic_gradient.SGDC...   True  \n",
              "rbfsvm                             sklearn.svm._classes.SVC  False  \n",
              "gpc       sklearn.gaussian_process._gpc.GaussianProcessC...  False  \n",
              "mlp       sklearn.neural_network._multilayer_perceptron....  False  \n",
              "ridge           sklearn.linear_model._ridge.RidgeClassifier   True  \n",
              "rf          sklearn.ensemble._forest.RandomForestClassifier   True  \n",
              "qda       sklearn.discriminant_analysis.QuadraticDiscrim...   True  \n",
              "ada       sklearn.ensemble._weight_boosting.AdaBoostClas...   True  \n",
              "gbc         sklearn.ensemble._gb.GradientBoostingClassifier   True  \n",
              "lda       sklearn.discriminant_analysis.LinearDiscrimina...   True  \n",
              "et            sklearn.ensemble._forest.ExtraTreesClassifier   True  \n",
              "lightgbm                    lightgbm.sklearn.LGBMClassifier   True  \n",
              "dummy                         sklearn.dummy.DummyClassifier   True  "
            ],
            "text/html": [
              "\n",
              "  <div id=\"df-871d2b0f-efc9-46ed-bf29-3dfac0ae31f9\">\n",
              "    <div class=\"colab-df-container\">\n",
              "      <div>\n",
              "<style scoped>\n",
              "    .dataframe tbody tr th:only-of-type {\n",
              "        vertical-align: middle;\n",
              "    }\n",
              "\n",
              "    .dataframe tbody tr th {\n",
              "        vertical-align: top;\n",
              "    }\n",
              "\n",
              "    .dataframe thead th {\n",
              "        text-align: right;\n",
              "    }\n",
              "</style>\n",
              "<table border=\"1\" class=\"dataframe\">\n",
              "  <thead>\n",
              "    <tr style=\"text-align: right;\">\n",
              "      <th></th>\n",
              "      <th>Name</th>\n",
              "      <th>Reference</th>\n",
              "      <th>Turbo</th>\n",
              "    </tr>\n",
              "    <tr>\n",
              "      <th>ID</th>\n",
              "      <th></th>\n",
              "      <th></th>\n",
              "      <th></th>\n",
              "    </tr>\n",
              "  </thead>\n",
              "  <tbody>\n",
              "    <tr>\n",
              "      <th>lr</th>\n",
              "      <td>Logistic Regression</td>\n",
              "      <td>sklearn.linear_model._logistic.LogisticRegression</td>\n",
              "      <td>True</td>\n",
              "    </tr>\n",
              "    <tr>\n",
              "      <th>knn</th>\n",
              "      <td>K Neighbors Classifier</td>\n",
              "      <td>sklearn.neighbors._classification.KNeighborsCl...</td>\n",
              "      <td>True</td>\n",
              "    </tr>\n",
              "    <tr>\n",
              "      <th>nb</th>\n",
              "      <td>Naive Bayes</td>\n",
              "      <td>sklearn.naive_bayes.GaussianNB</td>\n",
              "      <td>True</td>\n",
              "    </tr>\n",
              "    <tr>\n",
              "      <th>dt</th>\n",
              "      <td>Decision Tree Classifier</td>\n",
              "      <td>sklearn.tree._classes.DecisionTreeClassifier</td>\n",
              "      <td>True</td>\n",
              "    </tr>\n",
              "    <tr>\n",
              "      <th>svm</th>\n",
              "      <td>SVM - Linear Kernel</td>\n",
              "      <td>sklearn.linear_model._stochastic_gradient.SGDC...</td>\n",
              "      <td>True</td>\n",
              "    </tr>\n",
              "    <tr>\n",
              "      <th>rbfsvm</th>\n",
              "      <td>SVM - Radial Kernel</td>\n",
              "      <td>sklearn.svm._classes.SVC</td>\n",
              "      <td>False</td>\n",
              "    </tr>\n",
              "    <tr>\n",
              "      <th>gpc</th>\n",
              "      <td>Gaussian Process Classifier</td>\n",
              "      <td>sklearn.gaussian_process._gpc.GaussianProcessC...</td>\n",
              "      <td>False</td>\n",
              "    </tr>\n",
              "    <tr>\n",
              "      <th>mlp</th>\n",
              "      <td>MLP Classifier</td>\n",
              "      <td>sklearn.neural_network._multilayer_perceptron....</td>\n",
              "      <td>False</td>\n",
              "    </tr>\n",
              "    <tr>\n",
              "      <th>ridge</th>\n",
              "      <td>Ridge Classifier</td>\n",
              "      <td>sklearn.linear_model._ridge.RidgeClassifier</td>\n",
              "      <td>True</td>\n",
              "    </tr>\n",
              "    <tr>\n",
              "      <th>rf</th>\n",
              "      <td>Random Forest Classifier</td>\n",
              "      <td>sklearn.ensemble._forest.RandomForestClassifier</td>\n",
              "      <td>True</td>\n",
              "    </tr>\n",
              "    <tr>\n",
              "      <th>qda</th>\n",
              "      <td>Quadratic Discriminant Analysis</td>\n",
              "      <td>sklearn.discriminant_analysis.QuadraticDiscrim...</td>\n",
              "      <td>True</td>\n",
              "    </tr>\n",
              "    <tr>\n",
              "      <th>ada</th>\n",
              "      <td>Ada Boost Classifier</td>\n",
              "      <td>sklearn.ensemble._weight_boosting.AdaBoostClas...</td>\n",
              "      <td>True</td>\n",
              "    </tr>\n",
              "    <tr>\n",
              "      <th>gbc</th>\n",
              "      <td>Gradient Boosting Classifier</td>\n",
              "      <td>sklearn.ensemble._gb.GradientBoostingClassifier</td>\n",
              "      <td>True</td>\n",
              "    </tr>\n",
              "    <tr>\n",
              "      <th>lda</th>\n",
              "      <td>Linear Discriminant Analysis</td>\n",
              "      <td>sklearn.discriminant_analysis.LinearDiscrimina...</td>\n",
              "      <td>True</td>\n",
              "    </tr>\n",
              "    <tr>\n",
              "      <th>et</th>\n",
              "      <td>Extra Trees Classifier</td>\n",
              "      <td>sklearn.ensemble._forest.ExtraTreesClassifier</td>\n",
              "      <td>True</td>\n",
              "    </tr>\n",
              "    <tr>\n",
              "      <th>lightgbm</th>\n",
              "      <td>Light Gradient Boosting Machine</td>\n",
              "      <td>lightgbm.sklearn.LGBMClassifier</td>\n",
              "      <td>True</td>\n",
              "    </tr>\n",
              "    <tr>\n",
              "      <th>dummy</th>\n",
              "      <td>Dummy Classifier</td>\n",
              "      <td>sklearn.dummy.DummyClassifier</td>\n",
              "      <td>True</td>\n",
              "    </tr>\n",
              "  </tbody>\n",
              "</table>\n",
              "</div>\n",
              "      <button class=\"colab-df-convert\" onclick=\"convertToInteractive('df-871d2b0f-efc9-46ed-bf29-3dfac0ae31f9')\"\n",
              "              title=\"Convert this dataframe to an interactive table.\"\n",
              "              style=\"display:none;\">\n",
              "        \n",
              "  <svg xmlns=\"http://www.w3.org/2000/svg\" height=\"24px\"viewBox=\"0 0 24 24\"\n",
              "       width=\"24px\">\n",
              "    <path d=\"M0 0h24v24H0V0z\" fill=\"none\"/>\n",
              "    <path d=\"M18.56 5.44l.94 2.06.94-2.06 2.06-.94-2.06-.94-.94-2.06-.94 2.06-2.06.94zm-11 1L8.5 8.5l.94-2.06 2.06-.94-2.06-.94L8.5 2.5l-.94 2.06-2.06.94zm10 10l.94 2.06.94-2.06 2.06-.94-2.06-.94-.94-2.06-.94 2.06-2.06.94z\"/><path d=\"M17.41 7.96l-1.37-1.37c-.4-.4-.92-.59-1.43-.59-.52 0-1.04.2-1.43.59L10.3 9.45l-7.72 7.72c-.78.78-.78 2.05 0 2.83L4 21.41c.39.39.9.59 1.41.59.51 0 1.02-.2 1.41-.59l7.78-7.78 2.81-2.81c.8-.78.8-2.07 0-2.86zM5.41 20L4 18.59l7.72-7.72 1.47 1.35L5.41 20z\"/>\n",
              "  </svg>\n",
              "      </button>\n",
              "      \n",
              "  <style>\n",
              "    .colab-df-container {\n",
              "      display:flex;\n",
              "      flex-wrap:wrap;\n",
              "      gap: 12px;\n",
              "    }\n",
              "\n",
              "    .colab-df-convert {\n",
              "      background-color: #E8F0FE;\n",
              "      border: none;\n",
              "      border-radius: 50%;\n",
              "      cursor: pointer;\n",
              "      display: none;\n",
              "      fill: #1967D2;\n",
              "      height: 32px;\n",
              "      padding: 0 0 0 0;\n",
              "      width: 32px;\n",
              "    }\n",
              "\n",
              "    .colab-df-convert:hover {\n",
              "      background-color: #E2EBFA;\n",
              "      box-shadow: 0px 1px 2px rgba(60, 64, 67, 0.3), 0px 1px 3px 1px rgba(60, 64, 67, 0.15);\n",
              "      fill: #174EA6;\n",
              "    }\n",
              "\n",
              "    [theme=dark] .colab-df-convert {\n",
              "      background-color: #3B4455;\n",
              "      fill: #D2E3FC;\n",
              "    }\n",
              "\n",
              "    [theme=dark] .colab-df-convert:hover {\n",
              "      background-color: #434B5C;\n",
              "      box-shadow: 0px 1px 3px 1px rgba(0, 0, 0, 0.15);\n",
              "      filter: drop-shadow(0px 1px 2px rgba(0, 0, 0, 0.3));\n",
              "      fill: #FFFFFF;\n",
              "    }\n",
              "  </style>\n",
              "\n",
              "      <script>\n",
              "        const buttonEl =\n",
              "          document.querySelector('#df-871d2b0f-efc9-46ed-bf29-3dfac0ae31f9 button.colab-df-convert');\n",
              "        buttonEl.style.display =\n",
              "          google.colab.kernel.accessAllowed ? 'block' : 'none';\n",
              "\n",
              "        async function convertToInteractive(key) {\n",
              "          const element = document.querySelector('#df-871d2b0f-efc9-46ed-bf29-3dfac0ae31f9');\n",
              "          const dataTable =\n",
              "            await google.colab.kernel.invokeFunction('convertToInteractive',\n",
              "                                                     [key], {});\n",
              "          if (!dataTable) return;\n",
              "\n",
              "          const docLinkHtml = 'Like what you see? Visit the ' +\n",
              "            '<a target=\"_blank\" href=https://colab.research.google.com/notebooks/data_table.ipynb>data table notebook</a>'\n",
              "            + ' to learn more about interactive tables.';\n",
              "          element.innerHTML = '';\n",
              "          dataTable['output_type'] = 'display_data';\n",
              "          await google.colab.output.renderOutput(dataTable, element);\n",
              "          const docLink = document.createElement('div');\n",
              "          docLink.innerHTML = docLinkHtml;\n",
              "          element.appendChild(docLink);\n",
              "        }\n",
              "      </script>\n",
              "    </div>\n",
              "  </div>\n",
              "  "
            ]
          },
          "metadata": {},
          "execution_count": 32
        }
      ]
    },
    {
      "cell_type": "code",
      "source": [
        "add_metric(\"averagePrecision\", \"Average Precision\", average_precision_score)"
      ],
      "metadata": {
        "colab": {
          "base_uri": "https://localhost:8080/"
        },
        "id": "RUVSGy__7LSJ",
        "outputId": "adcce1bf-e08c-4074-f02d-e504516bf3d4"
      },
      "id": "RUVSGy__7LSJ",
      "execution_count": 33,
      "outputs": [
        {
          "output_type": "execute_result",
          "data": {
            "text/plain": [
              "Name                                                 Average Precision\n",
              "Display Name                                         Average Precision\n",
              "Score Function       <function average_precision_score at 0x7f45c29...\n",
              "Scorer                            make_scorer(average_precision_score)\n",
              "Target                                                            pred\n",
              "Args                                                                {}\n",
              "Greater is Better                                                 True\n",
              "Multiclass                                                        True\n",
              "Custom                                                            True\n",
              "Name: averagePrecision, dtype: object"
            ]
          },
          "metadata": {},
          "execution_count": 33
        }
      ]
    },
    {
      "cell_type": "code",
      "source": [
        "best_model = compare_models(\n",
        "    include=[\n",
        "        \"lr\",  # Logistic Regression\n",
        "        \"knn\",  # K-Nearest Neighbors\n",
        "        \"dt\",  # Decision Tree Classifier\n",
        "        \"svm\",  # SVM - Linear Kernel\n",
        "        \"rbfsvm\",  # SVM - Radial Kernel\n",
        "        \"rf\",  # Random Forest Classifier\n",
        "        # RandomForestClassifier(n_estimators=10, random_state=RANDOM_STATE),\n",
        "    ],\n",
        "    fold=5,\n",
        "    cross_validation=True,\n",
        ")"
      ],
      "metadata": {
        "colab": {
          "base_uri": "https://localhost:8080/",
          "height": 237,
          "referenced_widgets": [
            "c896adba40b148a7a83e1b35283cdf5d",
            "ddb1f604e81643938ca65cd384300e5e",
            "9a35874ec62d43f9b1f278a0ccbf1bbf",
            "7e1b88e19f4c44198cc96ead9f6b3adc",
            "468611ae5b364123ad7cf1af026fd2f2",
            "8a004846e4474d9fbd29373aa703937e",
            "52b4cece5c234a78bc3f93c0f46d3edd",
            "09d679d22a704c599bc8e5764937470f",
            "bb81b99575d14bf395f38ebda76c915b",
            "db633d90f6a94fa791af90b22b981445",
            "a8318937041d4d2a838ccf2b96132ee5"
          ]
        },
        "id": "qVdFwEoPdJz5",
        "outputId": "152f0354-e2da-4ecf-a5af-e1d099112aaf"
      },
      "id": "qVdFwEoPdJz5",
      "execution_count": 34,
      "outputs": [
        {
          "output_type": "display_data",
          "data": {
            "text/plain": [
              "<IPython.core.display.HTML object>"
            ],
            "text/html": [
              ""
            ]
          },
          "metadata": {}
        },
        {
          "output_type": "display_data",
          "data": {
            "text/plain": [
              "<pandas.io.formats.style.Styler at 0x7f45a7fcea90>"
            ],
            "text/html": [
              "<style type=\"text/css\">\n",
              "#T_5117f_ th {\n",
              "  text-align: left;\n",
              "}\n",
              "#T_5117f_row0_col0, #T_5117f_row1_col0, #T_5117f_row1_col1, #T_5117f_row1_col2, #T_5117f_row1_col3, #T_5117f_row1_col4, #T_5117f_row1_col5, #T_5117f_row1_col6, #T_5117f_row1_col7, #T_5117f_row1_col8, #T_5117f_row2_col0, #T_5117f_row2_col1, #T_5117f_row2_col2, #T_5117f_row2_col3, #T_5117f_row2_col4, #T_5117f_row2_col5, #T_5117f_row2_col6, #T_5117f_row2_col7, #T_5117f_row2_col8, #T_5117f_row3_col0, #T_5117f_row3_col1, #T_5117f_row3_col2, #T_5117f_row3_col3, #T_5117f_row3_col4, #T_5117f_row3_col5, #T_5117f_row3_col6, #T_5117f_row3_col7, #T_5117f_row3_col8, #T_5117f_row4_col0, #T_5117f_row4_col1, #T_5117f_row4_col2, #T_5117f_row4_col3, #T_5117f_row4_col4, #T_5117f_row4_col5, #T_5117f_row4_col6, #T_5117f_row4_col7, #T_5117f_row4_col8, #T_5117f_row5_col0, #T_5117f_row5_col1, #T_5117f_row5_col2, #T_5117f_row5_col3, #T_5117f_row5_col4, #T_5117f_row5_col5, #T_5117f_row5_col6, #T_5117f_row5_col7, #T_5117f_row5_col8 {\n",
              "  text-align: left;\n",
              "}\n",
              "#T_5117f_row0_col1, #T_5117f_row0_col2, #T_5117f_row0_col3, #T_5117f_row0_col4, #T_5117f_row0_col5, #T_5117f_row0_col6, #T_5117f_row0_col7, #T_5117f_row0_col8 {\n",
              "  text-align: left;\n",
              "  background-color: yellow;\n",
              "}\n",
              "#T_5117f_row0_col9, #T_5117f_row1_col9, #T_5117f_row2_col9, #T_5117f_row3_col9, #T_5117f_row4_col9 {\n",
              "  text-align: left;\n",
              "  background-color: lightgrey;\n",
              "}\n",
              "#T_5117f_row5_col9 {\n",
              "  text-align: left;\n",
              "  background-color: yellow;\n",
              "  background-color: lightgrey;\n",
              "}\n",
              "</style>\n",
              "<table id=\"T_5117f_\" class=\"dataframe\">\n",
              "  <thead>\n",
              "    <tr>\n",
              "      <th class=\"blank level0\" >&nbsp;</th>\n",
              "      <th class=\"col_heading level0 col0\" >Model</th>\n",
              "      <th class=\"col_heading level0 col1\" >Accuracy</th>\n",
              "      <th class=\"col_heading level0 col2\" >AUC</th>\n",
              "      <th class=\"col_heading level0 col3\" >Recall</th>\n",
              "      <th class=\"col_heading level0 col4\" >Prec.</th>\n",
              "      <th class=\"col_heading level0 col5\" >F1</th>\n",
              "      <th class=\"col_heading level0 col6\" >Kappa</th>\n",
              "      <th class=\"col_heading level0 col7\" >MCC</th>\n",
              "      <th class=\"col_heading level0 col8\" >Average Precision</th>\n",
              "      <th class=\"col_heading level0 col9\" >TT (Sec)</th>\n",
              "    </tr>\n",
              "  </thead>\n",
              "  <tbody>\n",
              "    <tr>\n",
              "      <th id=\"T_5117f_level0_row0\" class=\"row_heading level0 row0\" >rf</th>\n",
              "      <td id=\"T_5117f_row0_col0\" class=\"data row0 col0\" >Random Forest Classifier</td>\n",
              "      <td id=\"T_5117f_row0_col1\" class=\"data row0 col1\" >0.9486</td>\n",
              "      <td id=\"T_5117f_row0_col2\" class=\"data row0 col2\" >0.9901</td>\n",
              "      <td id=\"T_5117f_row0_col3\" class=\"data row0 col3\" >0.9436</td>\n",
              "      <td id=\"T_5117f_row0_col4\" class=\"data row0 col4\" >0.9527</td>\n",
              "      <td id=\"T_5117f_row0_col5\" class=\"data row0 col5\" >0.9481</td>\n",
              "      <td id=\"T_5117f_row0_col6\" class=\"data row0 col6\" >0.8971</td>\n",
              "      <td id=\"T_5117f_row0_col7\" class=\"data row0 col7\" >0.8972</td>\n",
              "      <td id=\"T_5117f_row0_col8\" class=\"data row0 col8\" >0.9270</td>\n",
              "      <td id=\"T_5117f_row0_col9\" class=\"data row0 col9\" >1.5140</td>\n",
              "    </tr>\n",
              "    <tr>\n",
              "      <th id=\"T_5117f_level0_row1\" class=\"row_heading level0 row1\" >knn</th>\n",
              "      <td id=\"T_5117f_row1_col0\" class=\"data row1 col0\" >K Neighbors Classifier</td>\n",
              "      <td id=\"T_5117f_row1_col1\" class=\"data row1 col1\" >0.9445</td>\n",
              "      <td id=\"T_5117f_row1_col2\" class=\"data row1 col2\" >0.9821</td>\n",
              "      <td id=\"T_5117f_row1_col3\" class=\"data row1 col3\" >0.9391</td>\n",
              "      <td id=\"T_5117f_row1_col4\" class=\"data row1 col4\" >0.9489</td>\n",
              "      <td id=\"T_5117f_row1_col5\" class=\"data row1 col5\" >0.9439</td>\n",
              "      <td id=\"T_5117f_row1_col6\" class=\"data row1 col6\" >0.8889</td>\n",
              "      <td id=\"T_5117f_row1_col7\" class=\"data row1 col7\" >0.8891</td>\n",
              "      <td id=\"T_5117f_row1_col8\" class=\"data row1 col8\" >0.9214</td>\n",
              "      <td id=\"T_5117f_row1_col9\" class=\"data row1 col9\" >0.5220</td>\n",
              "    </tr>\n",
              "    <tr>\n",
              "      <th id=\"T_5117f_level0_row2\" class=\"row_heading level0 row2\" >dt</th>\n",
              "      <td id=\"T_5117f_row2_col0\" class=\"data row2 col0\" >Decision Tree Classifier</td>\n",
              "      <td id=\"T_5117f_row2_col1\" class=\"data row2 col1\" >0.9295</td>\n",
              "      <td id=\"T_5117f_row2_col2\" class=\"data row2 col2\" >0.9295</td>\n",
              "      <td id=\"T_5117f_row2_col3\" class=\"data row2 col3\" >0.9314</td>\n",
              "      <td id=\"T_5117f_row2_col4\" class=\"data row2 col4\" >0.9273</td>\n",
              "      <td id=\"T_5117f_row2_col5\" class=\"data row2 col5\" >0.9293</td>\n",
              "      <td id=\"T_5117f_row2_col6\" class=\"data row2 col6\" >0.8590</td>\n",
              "      <td id=\"T_5117f_row2_col7\" class=\"data row2 col7\" >0.8590</td>\n",
              "      <td id=\"T_5117f_row2_col8\" class=\"data row2 col8\" >0.8978</td>\n",
              "      <td id=\"T_5117f_row2_col9\" class=\"data row2 col9\" >0.3420</td>\n",
              "    </tr>\n",
              "    <tr>\n",
              "      <th id=\"T_5117f_level0_row3\" class=\"row_heading level0 row3\" >rbfsvm</th>\n",
              "      <td id=\"T_5117f_row3_col0\" class=\"data row3 col0\" >SVM - Radial Kernel</td>\n",
              "      <td id=\"T_5117f_row3_col1\" class=\"data row3 col1\" >0.9292</td>\n",
              "      <td id=\"T_5117f_row3_col2\" class=\"data row3 col2\" >0.9841</td>\n",
              "      <td id=\"T_5117f_row3_col3\" class=\"data row3 col3\" >0.9260</td>\n",
              "      <td id=\"T_5117f_row3_col4\" class=\"data row3 col4\" >0.9316</td>\n",
              "      <td id=\"T_5117f_row3_col5\" class=\"data row3 col5\" >0.9287</td>\n",
              "      <td id=\"T_5117f_row3_col6\" class=\"data row3 col6\" >0.8585</td>\n",
              "      <td id=\"T_5117f_row3_col7\" class=\"data row3 col7\" >0.8586</td>\n",
              "      <td id=\"T_5117f_row3_col8\" class=\"data row3 col8\" >0.8994</td>\n",
              "      <td id=\"T_5117f_row3_col9\" class=\"data row3 col9\" >6.0440</td>\n",
              "    </tr>\n",
              "    <tr>\n",
              "      <th id=\"T_5117f_level0_row4\" class=\"row_heading level0 row4\" >lr</th>\n",
              "      <td id=\"T_5117f_row4_col0\" class=\"data row4 col0\" >Logistic Regression</td>\n",
              "      <td id=\"T_5117f_row4_col1\" class=\"data row4 col1\" >0.8718</td>\n",
              "      <td id=\"T_5117f_row4_col2\" class=\"data row4 col2\" >0.9523</td>\n",
              "      <td id=\"T_5117f_row4_col3\" class=\"data row4 col3\" >0.8578</td>\n",
              "      <td id=\"T_5117f_row4_col4\" class=\"data row4 col4\" >0.8816</td>\n",
              "      <td id=\"T_5117f_row4_col5\" class=\"data row4 col5\" >0.8695</td>\n",
              "      <td id=\"T_5117f_row4_col6\" class=\"data row4 col6\" >0.7436</td>\n",
              "      <td id=\"T_5117f_row4_col7\" class=\"data row4 col7\" >0.7439</td>\n",
              "      <td id=\"T_5117f_row4_col8\" class=\"data row4 col8\" >0.8270</td>\n",
              "      <td id=\"T_5117f_row4_col9\" class=\"data row4 col9\" >1.3200</td>\n",
              "    </tr>\n",
              "    <tr>\n",
              "      <th id=\"T_5117f_level0_row5\" class=\"row_heading level0 row5\" >svm</th>\n",
              "      <td id=\"T_5117f_row5_col0\" class=\"data row5 col0\" >SVM - Linear Kernel</td>\n",
              "      <td id=\"T_5117f_row5_col1\" class=\"data row5 col1\" >0.8676</td>\n",
              "      <td id=\"T_5117f_row5_col2\" class=\"data row5 col2\" >0.0000</td>\n",
              "      <td id=\"T_5117f_row5_col3\" class=\"data row5 col3\" >0.8506</td>\n",
              "      <td id=\"T_5117f_row5_col4\" class=\"data row5 col4\" >0.8803</td>\n",
              "      <td id=\"T_5117f_row5_col5\" class=\"data row5 col5\" >0.8647</td>\n",
              "      <td id=\"T_5117f_row5_col6\" class=\"data row5 col6\" >0.7352</td>\n",
              "      <td id=\"T_5117f_row5_col7\" class=\"data row5 col7\" >0.7364</td>\n",
              "      <td id=\"T_5117f_row5_col8\" class=\"data row5 col8\" >0.8228</td>\n",
              "      <td id=\"T_5117f_row5_col9\" class=\"data row5 col9\" >0.1860</td>\n",
              "    </tr>\n",
              "  </tbody>\n",
              "</table>\n"
            ]
          },
          "metadata": {}
        },
        {
          "output_type": "display_data",
          "data": {
            "text/plain": [
              "Processing:   0%|          | 0/29 [00:00<?, ?it/s]"
            ],
            "application/vnd.jupyter.widget-view+json": {
              "version_major": 2,
              "version_minor": 0,
              "model_id": "c896adba40b148a7a83e1b35283cdf5d"
            }
          },
          "metadata": {
            "application/vnd.jupyter.widget-view+json": {
              "colab": {
                "custom_widget_manager": {
                  "url": "https://ssl.gstatic.com/colaboratory-static/widgets/colab-cdn-widget-manager/a8874ba6619b6106/manager.min.js"
                }
              }
            }
          }
        },
        {
          "output_type": "display_data",
          "data": {
            "text/plain": [
              "<IPython.core.display.HTML object>"
            ],
            "text/html": [
              ""
            ]
          },
          "metadata": {}
        }
      ]
    },
    {
      "cell_type": "code",
      "source": [
        "print(best_model)"
      ],
      "metadata": {
        "colab": {
          "base_uri": "https://localhost:8080/"
        },
        "id": "uIxCBji2j7B_",
        "outputId": "92e08a69-a728-4a93-c3bf-ee13d5ece37a"
      },
      "id": "uIxCBji2j7B_",
      "execution_count": 35,
      "outputs": [
        {
          "output_type": "stream",
          "name": "stdout",
          "text": [
            "RandomForestClassifier(bootstrap=True, ccp_alpha=0.0, class_weight=None,\n",
            "                       criterion='gini', max_depth=None, max_features='auto',\n",
            "                       max_leaf_nodes=None, max_samples=None,\n",
            "                       min_impurity_decrease=0.0, min_samples_leaf=1,\n",
            "                       min_samples_split=2, min_weight_fraction_leaf=0.0,\n",
            "                       n_estimators=100, n_jobs=-1, oob_score=False,\n",
            "                       random_state=30, verbose=0, warm_start=False)\n"
          ]
        }
      ]
    },
    {
      "cell_type": "markdown",
      "source": [
        "### Creamos el modelo"
      ],
      "metadata": {
        "id": "ZZncRNloj_xi"
      },
      "id": "ZZncRNloj_xi"
    },
    {
      "cell_type": "code",
      "source": [
        "rf = create_model('rf')"
      ],
      "metadata": {
        "colab": {
          "base_uri": "https://localhost:8080/",
          "height": 300,
          "referenced_widgets": [
            "a1b2c535d5c2444591791646622d22b2",
            "c0bcc0ef4eae414ea34d17d7faa8dbe5",
            "69b4654ef23f47f59856c72be1847b73",
            "f4ec1d1c46104333b6aaa73ab8b18829",
            "88dc7695b96c4924b25a7a79391c6729",
            "bf6e38bc22ba4b60a324bd3b8bd44613",
            "008b72dc9171409eb491ce6841e7499d",
            "1afeefa66fc2410295505b81aef643ba",
            "3be55b8dac504f58bea0ab8668a46671",
            "8a827bf274a54872954259c588f55bbb",
            "e50a98cc8f984df48c2187794d086769"
          ]
        },
        "id": "XAKmHBN4j-9T",
        "outputId": "43af2c8c-8308-4eea-b4c9-49fbaef148bd"
      },
      "id": "XAKmHBN4j-9T",
      "execution_count": 40,
      "outputs": [
        {
          "output_type": "display_data",
          "data": {
            "text/plain": [
              "<IPython.core.display.HTML object>"
            ],
            "text/html": [
              ""
            ]
          },
          "metadata": {}
        },
        {
          "output_type": "display_data",
          "data": {
            "text/plain": [
              "<pandas.io.formats.style.Styler at 0x7f459cb24c10>"
            ],
            "text/html": [
              "<style type=\"text/css\">\n",
              "#T_306bd_row5_col0, #T_306bd_row5_col1, #T_306bd_row5_col2, #T_306bd_row5_col3, #T_306bd_row5_col4, #T_306bd_row5_col5, #T_306bd_row5_col6, #T_306bd_row5_col7 {\n",
              "  background: yellow;\n",
              "}\n",
              "</style>\n",
              "<table id=\"T_306bd_\" class=\"dataframe\">\n",
              "  <thead>\n",
              "    <tr>\n",
              "      <th class=\"blank level0\" >&nbsp;</th>\n",
              "      <th class=\"col_heading level0 col0\" >Accuracy</th>\n",
              "      <th class=\"col_heading level0 col1\" >AUC</th>\n",
              "      <th class=\"col_heading level0 col2\" >Recall</th>\n",
              "      <th class=\"col_heading level0 col3\" >Prec.</th>\n",
              "      <th class=\"col_heading level0 col4\" >F1</th>\n",
              "      <th class=\"col_heading level0 col5\" >Kappa</th>\n",
              "      <th class=\"col_heading level0 col6\" >MCC</th>\n",
              "      <th class=\"col_heading level0 col7\" >Average Precision</th>\n",
              "    </tr>\n",
              "    <tr>\n",
              "      <th class=\"index_name level0\" >Fold</th>\n",
              "      <th class=\"blank col0\" >&nbsp;</th>\n",
              "      <th class=\"blank col1\" >&nbsp;</th>\n",
              "      <th class=\"blank col2\" >&nbsp;</th>\n",
              "      <th class=\"blank col3\" >&nbsp;</th>\n",
              "      <th class=\"blank col4\" >&nbsp;</th>\n",
              "      <th class=\"blank col5\" >&nbsp;</th>\n",
              "      <th class=\"blank col6\" >&nbsp;</th>\n",
              "      <th class=\"blank col7\" >&nbsp;</th>\n",
              "    </tr>\n",
              "  </thead>\n",
              "  <tbody>\n",
              "    <tr>\n",
              "      <th id=\"T_306bd_level0_row0\" class=\"row_heading level0 row0\" >0</th>\n",
              "      <td id=\"T_306bd_row0_col0\" class=\"data row0 col0\" >0.9525</td>\n",
              "      <td id=\"T_306bd_row0_col1\" class=\"data row0 col1\" >0.9911</td>\n",
              "      <td id=\"T_306bd_row0_col2\" class=\"data row0 col2\" >0.9482</td>\n",
              "      <td id=\"T_306bd_row0_col3\" class=\"data row0 col3\" >0.9561</td>\n",
              "      <td id=\"T_306bd_row0_col4\" class=\"data row0 col4\" >0.9521</td>\n",
              "      <td id=\"T_306bd_row0_col5\" class=\"data row0 col5\" >0.9050</td>\n",
              "      <td id=\"T_306bd_row0_col6\" class=\"data row0 col6\" >0.9050</td>\n",
              "      <td id=\"T_306bd_row0_col7\" class=\"data row0 col7\" >0.9323</td>\n",
              "    </tr>\n",
              "    <tr>\n",
              "      <th id=\"T_306bd_level0_row1\" class=\"row_heading level0 row1\" >1</th>\n",
              "      <td id=\"T_306bd_row1_col0\" class=\"data row1 col0\" >0.9476</td>\n",
              "      <td id=\"T_306bd_row1_col1\" class=\"data row1 col1\" >0.9880</td>\n",
              "      <td id=\"T_306bd_row1_col2\" class=\"data row1 col2\" >0.9515</td>\n",
              "      <td id=\"T_306bd_row1_col3\" class=\"data row1 col3\" >0.9437</td>\n",
              "      <td id=\"T_306bd_row1_col4\" class=\"data row1 col4\" >0.9476</td>\n",
              "      <td id=\"T_306bd_row1_col5\" class=\"data row1 col5\" >0.8952</td>\n",
              "      <td id=\"T_306bd_row1_col6\" class=\"data row1 col6\" >0.8952</td>\n",
              "      <td id=\"T_306bd_row1_col7\" class=\"data row1 col7\" >0.9221</td>\n",
              "    </tr>\n",
              "    <tr>\n",
              "      <th id=\"T_306bd_level0_row2\" class=\"row_heading level0 row2\" >2</th>\n",
              "      <td id=\"T_306bd_row2_col0\" class=\"data row2 col0\" >0.9427</td>\n",
              "      <td id=\"T_306bd_row2_col1\" class=\"data row2 col1\" >0.9894</td>\n",
              "      <td id=\"T_306bd_row2_col2\" class=\"data row2 col2\" >0.9301</td>\n",
              "      <td id=\"T_306bd_row2_col3\" class=\"data row2 col3\" >0.9536</td>\n",
              "      <td id=\"T_306bd_row2_col4\" class=\"data row2 col4\" >0.9417</td>\n",
              "      <td id=\"T_306bd_row2_col5\" class=\"data row2 col5\" >0.8853</td>\n",
              "      <td id=\"T_306bd_row2_col6\" class=\"data row2 col6\" >0.8856</td>\n",
              "      <td id=\"T_306bd_row2_col7\" class=\"data row2 col7\" >0.9218</td>\n",
              "    </tr>\n",
              "    <tr>\n",
              "      <th id=\"T_306bd_level0_row3\" class=\"row_heading level0 row3\" >3</th>\n",
              "      <td id=\"T_306bd_row3_col0\" class=\"data row3 col0\" >0.9505</td>\n",
              "      <td id=\"T_306bd_row3_col1\" class=\"data row3 col1\" >0.9913</td>\n",
              "      <td id=\"T_306bd_row3_col2\" class=\"data row3 col2\" >0.9490</td>\n",
              "      <td id=\"T_306bd_row3_col3\" class=\"data row3 col3\" >0.9513</td>\n",
              "      <td id=\"T_306bd_row3_col4\" class=\"data row3 col4\" >0.9501</td>\n",
              "      <td id=\"T_306bd_row3_col5\" class=\"data row3 col5\" >0.9009</td>\n",
              "      <td id=\"T_306bd_row3_col6\" class=\"data row3 col6\" >0.9009</td>\n",
              "      <td id=\"T_306bd_row3_col7\" class=\"data row3 col7\" >0.9282</td>\n",
              "    </tr>\n",
              "    <tr>\n",
              "      <th id=\"T_306bd_level0_row4\" class=\"row_heading level0 row4\" >4</th>\n",
              "      <td id=\"T_306bd_row4_col0\" class=\"data row4 col0\" >0.9496</td>\n",
              "      <td id=\"T_306bd_row4_col1\" class=\"data row4 col1\" >0.9906</td>\n",
              "      <td id=\"T_306bd_row4_col2\" class=\"data row4 col2\" >0.9391</td>\n",
              "      <td id=\"T_306bd_row4_col3\" class=\"data row4 col3\" >0.9588</td>\n",
              "      <td id=\"T_306bd_row4_col4\" class=\"data row4 col4\" >0.9489</td>\n",
              "      <td id=\"T_306bd_row4_col5\" class=\"data row4 col5\" >0.8992</td>\n",
              "      <td id=\"T_306bd_row4_col6\" class=\"data row4 col6\" >0.8994</td>\n",
              "      <td id=\"T_306bd_row4_col7\" class=\"data row4 col7\" >0.9307</td>\n",
              "    </tr>\n",
              "    <tr>\n",
              "      <th id=\"T_306bd_level0_row5\" class=\"row_heading level0 row5\" >Mean</th>\n",
              "      <td id=\"T_306bd_row5_col0\" class=\"data row5 col0\" >0.9486</td>\n",
              "      <td id=\"T_306bd_row5_col1\" class=\"data row5 col1\" >0.9901</td>\n",
              "      <td id=\"T_306bd_row5_col2\" class=\"data row5 col2\" >0.9436</td>\n",
              "      <td id=\"T_306bd_row5_col3\" class=\"data row5 col3\" >0.9527</td>\n",
              "      <td id=\"T_306bd_row5_col4\" class=\"data row5 col4\" >0.9481</td>\n",
              "      <td id=\"T_306bd_row5_col5\" class=\"data row5 col5\" >0.8971</td>\n",
              "      <td id=\"T_306bd_row5_col6\" class=\"data row5 col6\" >0.8972</td>\n",
              "      <td id=\"T_306bd_row5_col7\" class=\"data row5 col7\" >0.9270</td>\n",
              "    </tr>\n",
              "    <tr>\n",
              "      <th id=\"T_306bd_level0_row6\" class=\"row_heading level0 row6\" >Std</th>\n",
              "      <td id=\"T_306bd_row6_col0\" class=\"data row6 col0\" >0.0033</td>\n",
              "      <td id=\"T_306bd_row6_col1\" class=\"data row6 col1\" >0.0012</td>\n",
              "      <td id=\"T_306bd_row6_col2\" class=\"data row6 col2\" >0.0079</td>\n",
              "      <td id=\"T_306bd_row6_col3\" class=\"data row6 col3\" >0.0051</td>\n",
              "      <td id=\"T_306bd_row6_col4\" class=\"data row6 col4\" >0.0035</td>\n",
              "      <td id=\"T_306bd_row6_col5\" class=\"data row6 col5\" >0.0067</td>\n",
              "      <td id=\"T_306bd_row6_col6\" class=\"data row6 col6\" >0.0066</td>\n",
              "      <td id=\"T_306bd_row6_col7\" class=\"data row6 col7\" >0.0044</td>\n",
              "    </tr>\n",
              "  </tbody>\n",
              "</table>\n"
            ]
          },
          "metadata": {}
        },
        {
          "output_type": "display_data",
          "data": {
            "text/plain": [
              "Processing:   0%|          | 0/4 [00:00<?, ?it/s]"
            ],
            "application/vnd.jupyter.widget-view+json": {
              "version_major": 2,
              "version_minor": 0,
              "model_id": "a1b2c535d5c2444591791646622d22b2"
            }
          },
          "metadata": {
            "application/vnd.jupyter.widget-view+json": {
              "colab": {
                "custom_widget_manager": {
                  "url": "https://ssl.gstatic.com/colaboratory-static/widgets/colab-cdn-widget-manager/a8874ba6619b6106/manager.min.js"
                }
              }
            }
          }
        },
        {
          "output_type": "display_data",
          "data": {
            "text/plain": [
              "<IPython.core.display.HTML object>"
            ],
            "text/html": [
              ""
            ]
          },
          "metadata": {}
        }
      ]
    },
    {
      "cell_type": "code",
      "source": [
        "print(rf)"
      ],
      "metadata": {
        "colab": {
          "base_uri": "https://localhost:8080/"
        },
        "id": "OsvYbf6TkUpy",
        "outputId": "32836909-5022-4f42-837a-9845a72bf246"
      },
      "id": "OsvYbf6TkUpy",
      "execution_count": 41,
      "outputs": [
        {
          "output_type": "stream",
          "name": "stdout",
          "text": [
            "RandomForestClassifier(bootstrap=True, ccp_alpha=0.0, class_weight=None,\n",
            "                       criterion='gini', max_depth=None, max_features='auto',\n",
            "                       max_leaf_nodes=None, max_samples=None,\n",
            "                       min_impurity_decrease=0.0, min_samples_leaf=1,\n",
            "                       min_samples_split=2, min_weight_fraction_leaf=0.0,\n",
            "                       n_estimators=100, n_jobs=-1, oob_score=False,\n",
            "                       random_state=30, verbose=0, warm_start=False)\n"
          ]
        }
      ]
    },
    {
      "cell_type": "markdown",
      "source": [
        "### Evaluamos el modelo"
      ],
      "metadata": {
        "id": "RZ0_ICkPkJy_"
      },
      "id": "RZ0_ICkPkJy_"
    },
    {
      "cell_type": "code",
      "source": [
        "evaluate_model(rf)"
      ],
      "metadata": {
        "colab": {
          "base_uri": "https://localhost:8080/",
          "height": 409,
          "referenced_widgets": [
            "37d9716e1fe647299a64e91d12561e77",
            "d1b20dea3ec944c3942ec35b8799bace",
            "46d015d7d6a64d6c9e70eee2e8d701a3",
            "57fc916b07e24844921aff067f136159",
            "b56920784cf64e5191e862f2b1b45d06",
            "17cdb1bbad8a44449781771742c0b841",
            "14ed6c87589e4d2b9bf1f90068459eb1"
          ]
        },
        "id": "RNOnUmLWkrXQ",
        "outputId": "13b6076b-d084-4f9c-a6d7-5a2c5a686810"
      },
      "id": "RNOnUmLWkrXQ",
      "execution_count": 47,
      "outputs": [
        {
          "output_type": "display_data",
          "data": {
            "text/plain": [
              "interactive(children=(ToggleButtons(description='Plot Type:', icons=('',), options=(('Pipeline Plot', 'pipelin…"
            ],
            "application/vnd.jupyter.widget-view+json": {
              "version_major": 2,
              "version_minor": 0,
              "model_id": "37d9716e1fe647299a64e91d12561e77"
            }
          },
          "metadata": {
            "application/vnd.jupyter.widget-view+json": {
              "colab": {
                "custom_widget_manager": {
                  "url": "https://ssl.gstatic.com/colaboratory-static/widgets/colab-cdn-widget-manager/a8874ba6619b6106/manager.min.js"
                }
              }
            }
          }
        }
      ]
    },
    {
      "cell_type": "code",
      "source": [
        "predict_model(rf);"
      ],
      "metadata": {
        "colab": {
          "base_uri": "https://localhost:8080/",
          "height": 81
        },
        "id": "f9vAD7-xlx-t",
        "outputId": "2bb54f62-2452-4529-becc-d52a3c9f6c43"
      },
      "id": "f9vAD7-xlx-t",
      "execution_count": 48,
      "outputs": [
        {
          "output_type": "display_data",
          "data": {
            "text/plain": [
              "<pandas.io.formats.style.Styler at 0x7f459af2a610>"
            ],
            "text/html": [
              "<style type=\"text/css\">\n",
              "</style>\n",
              "<table id=\"T_68e46_\" class=\"dataframe\">\n",
              "  <thead>\n",
              "    <tr>\n",
              "      <th class=\"blank level0\" >&nbsp;</th>\n",
              "      <th class=\"col_heading level0 col0\" >Model</th>\n",
              "      <th class=\"col_heading level0 col1\" >Accuracy</th>\n",
              "      <th class=\"col_heading level0 col2\" >AUC</th>\n",
              "      <th class=\"col_heading level0 col3\" >Recall</th>\n",
              "      <th class=\"col_heading level0 col4\" >Prec.</th>\n",
              "      <th class=\"col_heading level0 col5\" >F1</th>\n",
              "      <th class=\"col_heading level0 col6\" >Kappa</th>\n",
              "      <th class=\"col_heading level0 col7\" >MCC</th>\n",
              "      <th class=\"col_heading level0 col8\" >Average Precision</th>\n",
              "    </tr>\n",
              "  </thead>\n",
              "  <tbody>\n",
              "    <tr>\n",
              "      <th id=\"T_68e46_level0_row0\" class=\"row_heading level0 row0\" >0</th>\n",
              "      <td id=\"T_68e46_row0_col0\" class=\"data row0 col0\" >Random Forest Classifier</td>\n",
              "      <td id=\"T_68e46_row0_col1\" class=\"data row0 col1\" >0.9478</td>\n",
              "      <td id=\"T_68e46_row0_col2\" class=\"data row0 col2\" >0.9916</td>\n",
              "      <td id=\"T_68e46_row0_col3\" class=\"data row0 col3\" >0.9432</td>\n",
              "      <td id=\"T_68e46_row0_col4\" class=\"data row0 col4\" >0.9516</td>\n",
              "      <td id=\"T_68e46_row0_col5\" class=\"data row0 col5\" >0.9474</td>\n",
              "      <td id=\"T_68e46_row0_col6\" class=\"data row0 col6\" >0.8957</td>\n",
              "      <td id=\"T_68e46_row0_col7\" class=\"data row0 col7\" >0.8957</td>\n",
              "      <td id=\"T_68e46_row0_col8\" class=\"data row0 col8\" >0.9258</td>\n",
              "    </tr>\n",
              "  </tbody>\n",
              "</table>\n"
            ]
          },
          "metadata": {}
        }
      ]
    },
    {
      "cell_type": "markdown",
      "source": [
        "### Predicciones sobre el conjunto de test"
      ],
      "metadata": {
        "id": "YAv9IIZbmrx2"
      },
      "id": "YAv9IIZbmrx2"
    },
    {
      "cell_type": "code",
      "source": [
        "test_df = [X_test, y_test]\n",
        "test_df = pd.concat(test_df, axis=1)"
      ],
      "metadata": {
        "id": "Uu5LJmZ6nKgc"
      },
      "id": "Uu5LJmZ6nKgc",
      "execution_count": 51,
      "outputs": []
    },
    {
      "cell_type": "code",
      "source": [
        "unseen_predictions = predict_model(rf, data=test_df)\n",
        "unseen_predictions.head()"
      ],
      "metadata": {
        "colab": {
          "base_uri": "https://localhost:8080/",
          "height": 270
        },
        "id": "kbN-nmTkmBWV",
        "outputId": "56a64333-59f1-44a0-9cff-8a15a32c134b"
      },
      "id": "kbN-nmTkmBWV",
      "execution_count": 52,
      "outputs": [
        {
          "output_type": "display_data",
          "data": {
            "text/plain": [
              "<pandas.io.formats.style.Styler at 0x7f459b6d6810>"
            ],
            "text/html": [
              "<style type=\"text/css\">\n",
              "</style>\n",
              "<table id=\"T_f2824_\" class=\"dataframe\">\n",
              "  <thead>\n",
              "    <tr>\n",
              "      <th class=\"blank level0\" >&nbsp;</th>\n",
              "      <th class=\"col_heading level0 col0\" >Model</th>\n",
              "      <th class=\"col_heading level0 col1\" >Accuracy</th>\n",
              "      <th class=\"col_heading level0 col2\" >AUC</th>\n",
              "      <th class=\"col_heading level0 col3\" >Recall</th>\n",
              "      <th class=\"col_heading level0 col4\" >Prec.</th>\n",
              "      <th class=\"col_heading level0 col5\" >F1</th>\n",
              "      <th class=\"col_heading level0 col6\" >Kappa</th>\n",
              "      <th class=\"col_heading level0 col7\" >MCC</th>\n",
              "      <th class=\"col_heading level0 col8\" >Average Precision</th>\n",
              "    </tr>\n",
              "  </thead>\n",
              "  <tbody>\n",
              "    <tr>\n",
              "      <th id=\"T_f2824_level0_row0\" class=\"row_heading level0 row0\" >0</th>\n",
              "      <td id=\"T_f2824_row0_col0\" class=\"data row0 col0\" >Random Forest Classifier</td>\n",
              "      <td id=\"T_f2824_row0_col1\" class=\"data row0 col1\" >0.9838</td>\n",
              "      <td id=\"T_f2824_row0_col2\" class=\"data row0 col2\" >0.9982</td>\n",
              "      <td id=\"T_f2824_row0_col3\" class=\"data row0 col3\" >0.9804</td>\n",
              "      <td id=\"T_f2824_row0_col4\" class=\"data row0 col4\" >0.9869</td>\n",
              "      <td id=\"T_f2824_row0_col5\" class=\"data row0 col5\" >0.9836</td>\n",
              "      <td id=\"T_f2824_row0_col6\" class=\"data row0 col6\" >0.9675</td>\n",
              "      <td id=\"T_f2824_row0_col7\" class=\"data row0 col7\" >0.9675</td>\n",
              "      <td id=\"T_f2824_row0_col8\" class=\"data row0 col8\" >0.9773</td>\n",
              "    </tr>\n",
              "  </tbody>\n",
              "</table>\n"
            ]
          },
          "metadata": {}
        },
        {
          "output_type": "execute_result",
          "data": {
            "text/plain": [
              "       feature 3  feature 4  feature 5  feature 6  feature 7  status  Label  \\\n",
              "2682    0.221480  -0.401519   0.366076  -0.062317   1.783611       1      1   \n",
              "1848    0.739539  -0.797999   1.878424  -0.119104   1.445883       0      0   \n",
              "13928   0.944001  -0.041481  -1.571161   1.645334  -0.490631       0      0   \n",
              "1391    0.187399  -0.760894  -1.186530  -0.001355   2.129169       1      1   \n",
              "5515   -0.171728  -1.251000   0.617607  -1.548397  -1.092791       0      1   \n",
              "\n",
              "       Score  \n",
              "2682    0.98  \n",
              "1848    1.00  \n",
              "13928   0.99  \n",
              "1391    1.00  \n",
              "5515    0.98  "
            ],
            "text/html": [
              "\n",
              "  <div id=\"df-507b12e0-2421-489e-a80c-effbf78032aa\">\n",
              "    <div class=\"colab-df-container\">\n",
              "      <div>\n",
              "<style scoped>\n",
              "    .dataframe tbody tr th:only-of-type {\n",
              "        vertical-align: middle;\n",
              "    }\n",
              "\n",
              "    .dataframe tbody tr th {\n",
              "        vertical-align: top;\n",
              "    }\n",
              "\n",
              "    .dataframe thead th {\n",
              "        text-align: right;\n",
              "    }\n",
              "</style>\n",
              "<table border=\"1\" class=\"dataframe\">\n",
              "  <thead>\n",
              "    <tr style=\"text-align: right;\">\n",
              "      <th></th>\n",
              "      <th>feature 3</th>\n",
              "      <th>feature 4</th>\n",
              "      <th>feature 5</th>\n",
              "      <th>feature 6</th>\n",
              "      <th>feature 7</th>\n",
              "      <th>status</th>\n",
              "      <th>Label</th>\n",
              "      <th>Score</th>\n",
              "    </tr>\n",
              "  </thead>\n",
              "  <tbody>\n",
              "    <tr>\n",
              "      <th>2682</th>\n",
              "      <td>0.221480</td>\n",
              "      <td>-0.401519</td>\n",
              "      <td>0.366076</td>\n",
              "      <td>-0.062317</td>\n",
              "      <td>1.783611</td>\n",
              "      <td>1</td>\n",
              "      <td>1</td>\n",
              "      <td>0.98</td>\n",
              "    </tr>\n",
              "    <tr>\n",
              "      <th>1848</th>\n",
              "      <td>0.739539</td>\n",
              "      <td>-0.797999</td>\n",
              "      <td>1.878424</td>\n",
              "      <td>-0.119104</td>\n",
              "      <td>1.445883</td>\n",
              "      <td>0</td>\n",
              "      <td>0</td>\n",
              "      <td>1.00</td>\n",
              "    </tr>\n",
              "    <tr>\n",
              "      <th>13928</th>\n",
              "      <td>0.944001</td>\n",
              "      <td>-0.041481</td>\n",
              "      <td>-1.571161</td>\n",
              "      <td>1.645334</td>\n",
              "      <td>-0.490631</td>\n",
              "      <td>0</td>\n",
              "      <td>0</td>\n",
              "      <td>0.99</td>\n",
              "    </tr>\n",
              "    <tr>\n",
              "      <th>1391</th>\n",
              "      <td>0.187399</td>\n",
              "      <td>-0.760894</td>\n",
              "      <td>-1.186530</td>\n",
              "      <td>-0.001355</td>\n",
              "      <td>2.129169</td>\n",
              "      <td>1</td>\n",
              "      <td>1</td>\n",
              "      <td>1.00</td>\n",
              "    </tr>\n",
              "    <tr>\n",
              "      <th>5515</th>\n",
              "      <td>-0.171728</td>\n",
              "      <td>-1.251000</td>\n",
              "      <td>0.617607</td>\n",
              "      <td>-1.548397</td>\n",
              "      <td>-1.092791</td>\n",
              "      <td>0</td>\n",
              "      <td>1</td>\n",
              "      <td>0.98</td>\n",
              "    </tr>\n",
              "  </tbody>\n",
              "</table>\n",
              "</div>\n",
              "      <button class=\"colab-df-convert\" onclick=\"convertToInteractive('df-507b12e0-2421-489e-a80c-effbf78032aa')\"\n",
              "              title=\"Convert this dataframe to an interactive table.\"\n",
              "              style=\"display:none;\">\n",
              "        \n",
              "  <svg xmlns=\"http://www.w3.org/2000/svg\" height=\"24px\"viewBox=\"0 0 24 24\"\n",
              "       width=\"24px\">\n",
              "    <path d=\"M0 0h24v24H0V0z\" fill=\"none\"/>\n",
              "    <path d=\"M18.56 5.44l.94 2.06.94-2.06 2.06-.94-2.06-.94-.94-2.06-.94 2.06-2.06.94zm-11 1L8.5 8.5l.94-2.06 2.06-.94-2.06-.94L8.5 2.5l-.94 2.06-2.06.94zm10 10l.94 2.06.94-2.06 2.06-.94-2.06-.94-.94-2.06-.94 2.06-2.06.94z\"/><path d=\"M17.41 7.96l-1.37-1.37c-.4-.4-.92-.59-1.43-.59-.52 0-1.04.2-1.43.59L10.3 9.45l-7.72 7.72c-.78.78-.78 2.05 0 2.83L4 21.41c.39.39.9.59 1.41.59.51 0 1.02-.2 1.41-.59l7.78-7.78 2.81-2.81c.8-.78.8-2.07 0-2.86zM5.41 20L4 18.59l7.72-7.72 1.47 1.35L5.41 20z\"/>\n",
              "  </svg>\n",
              "      </button>\n",
              "      \n",
              "  <style>\n",
              "    .colab-df-container {\n",
              "      display:flex;\n",
              "      flex-wrap:wrap;\n",
              "      gap: 12px;\n",
              "    }\n",
              "\n",
              "    .colab-df-convert {\n",
              "      background-color: #E8F0FE;\n",
              "      border: none;\n",
              "      border-radius: 50%;\n",
              "      cursor: pointer;\n",
              "      display: none;\n",
              "      fill: #1967D2;\n",
              "      height: 32px;\n",
              "      padding: 0 0 0 0;\n",
              "      width: 32px;\n",
              "    }\n",
              "\n",
              "    .colab-df-convert:hover {\n",
              "      background-color: #E2EBFA;\n",
              "      box-shadow: 0px 1px 2px rgba(60, 64, 67, 0.3), 0px 1px 3px 1px rgba(60, 64, 67, 0.15);\n",
              "      fill: #174EA6;\n",
              "    }\n",
              "\n",
              "    [theme=dark] .colab-df-convert {\n",
              "      background-color: #3B4455;\n",
              "      fill: #D2E3FC;\n",
              "    }\n",
              "\n",
              "    [theme=dark] .colab-df-convert:hover {\n",
              "      background-color: #434B5C;\n",
              "      box-shadow: 0px 1px 3px 1px rgba(0, 0, 0, 0.15);\n",
              "      filter: drop-shadow(0px 1px 2px rgba(0, 0, 0, 0.3));\n",
              "      fill: #FFFFFF;\n",
              "    }\n",
              "  </style>\n",
              "\n",
              "      <script>\n",
              "        const buttonEl =\n",
              "          document.querySelector('#df-507b12e0-2421-489e-a80c-effbf78032aa button.colab-df-convert');\n",
              "        buttonEl.style.display =\n",
              "          google.colab.kernel.accessAllowed ? 'block' : 'none';\n",
              "\n",
              "        async function convertToInteractive(key) {\n",
              "          const element = document.querySelector('#df-507b12e0-2421-489e-a80c-effbf78032aa');\n",
              "          const dataTable =\n",
              "            await google.colab.kernel.invokeFunction('convertToInteractive',\n",
              "                                                     [key], {});\n",
              "          if (!dataTable) return;\n",
              "\n",
              "          const docLinkHtml = 'Like what you see? Visit the ' +\n",
              "            '<a target=\"_blank\" href=https://colab.research.google.com/notebooks/data_table.ipynb>data table notebook</a>'\n",
              "            + ' to learn more about interactive tables.';\n",
              "          element.innerHTML = '';\n",
              "          dataTable['output_type'] = 'display_data';\n",
              "          await google.colab.output.renderOutput(dataTable, element);\n",
              "          const docLink = document.createElement('div');\n",
              "          docLink.innerHTML = docLinkHtml;\n",
              "          element.appendChild(docLink);\n",
              "        }\n",
              "      </script>\n",
              "    </div>\n",
              "  </div>\n",
              "  "
            ]
          },
          "metadata": {},
          "execution_count": 52
        }
      ]
    },
    {
      "cell_type": "code",
      "source": [
        "from pycaret.utils import check_metric\n",
        "check_metric(unseen_predictions['status'], unseen_predictions['Label'], metric = 'Accuracy')"
      ],
      "metadata": {
        "colab": {
          "base_uri": "https://localhost:8080/"
        },
        "id": "UpPP0hNFm3FW",
        "outputId": "5696ae9a-124b-4f46-f8f7-5938e6f0ddd5"
      },
      "id": "UpPP0hNFm3FW",
      "execution_count": 53,
      "outputs": [
        {
          "output_type": "execute_result",
          "data": {
            "text/plain": [
              "0.9838"
            ]
          },
          "metadata": {},
          "execution_count": 53
        }
      ]
    },
    {
      "cell_type": "markdown",
      "source": [
        "### Guardamos el modelo"
      ],
      "metadata": {
        "id": "K6XJbk2Wnx1h"
      },
      "id": "K6XJbk2Wnx1h"
    },
    {
      "cell_type": "code",
      "source": [
        "save_model(rf,'/content/drive/MyDrive/Aprendizaje de máquina 1/TP Integrador/models/pycaret_rf')"
      ],
      "metadata": {
        "colab": {
          "base_uri": "https://localhost:8080/"
        },
        "id": "9k9ZrNCQm90F",
        "outputId": "6f48edad-c88f-4fe8-c7d7-e568e8536dc3"
      },
      "id": "9k9ZrNCQm90F",
      "execution_count": 56,
      "outputs": [
        {
          "output_type": "stream",
          "name": "stdout",
          "text": [
            "Transformation Pipeline and Model Successfully Saved\n"
          ]
        },
        {
          "output_type": "execute_result",
          "data": {
            "text/plain": [
              "(Pipeline(memory=Memory(location=/tmp/joblib),\n",
              "          steps=[('numerical_imputer',\n",
              "                  TransformerWrapper(exclude=None, include=['size', 'distance', 'desibel', 'airflow', 'frequency'], transformer=SimpleImputer(add_indicator=False, copy=True, fill_value=None, missing_values=nan, strategy='mean', verbose=0))),\n",
              "                 ('categorical_imputer',\n",
              "                  TransformerWrapper(exclude=None, include=['...\n",
              "                  RandomForestClassifier(bootstrap=True, ccp_alpha=0.0,\n",
              "                                         class_weight=None, criterion='gini',\n",
              "                                         max_depth=None, max_features='auto',\n",
              "                                         max_leaf_nodes=None, max_samples=None,\n",
              "                                         min_impurity_decrease=0.0,\n",
              "                                         min_samples_leaf=1, min_samples_split=2,\n",
              "                                         min_weight_fraction_leaf=0.0,\n",
              "                                         n_estimators=100, n_jobs=-1,\n",
              "                                         oob_score=False, random_state=30,\n",
              "                                         verbose=0, warm_start=False)]],\n",
              "          verbose=False),\n",
              " '/content/drive/MyDrive/Aprendizaje de máquina 1/TP Integrador/models/pycaret_rf.pkl')"
            ]
          },
          "metadata": {},
          "execution_count": 56
        }
      ]
    },
    {
      "cell_type": "markdown",
      "source": [
        "### Conclusiones\n",
        "\n",
        "A partir de la experimentación en el presente notebook, notamos que el algoritmo que arroja las métricas más altas es el Random Forest. Pudimos comprobar esto experimentando manualmente con los modelos vistos en clase y además utilizando la herramienta de AutoML Pycaret. \n",
        "\n",
        "Cómo proximos pasos, intentaremos incrementar la performance del modelo de Random Forest, experimentando con diferentes hiper parámetros."
      ],
      "metadata": {
        "id": "5p_1C-CnoNsR"
      },
      "id": "5p_1C-CnoNsR"
    }
  ],
  "metadata": {
    "kernelspec": {
      "display_name": "Python 3 (ipykernel)",
      "language": "python",
      "name": "python3"
    },
    "language_info": {
      "codemirror_mode": {
        "name": "ipython",
        "version": 3
      },
      "file_extension": ".py",
      "mimetype": "text/x-python",
      "name": "python",
      "nbconvert_exporter": "python",
      "pygments_lexer": "ipython3",
      "version": "3.10.4"
    },
    "colab": {
      "name": "2. Experimentation.ipynb",
      "provenance": [],
      "collapsed_sections": []
    },
    "widgets": {
      "application/vnd.jupyter.widget-state+json": {
        "c896adba40b148a7a83e1b35283cdf5d": {
          "model_module": "@jupyter-widgets/controls",
          "model_name": "HBoxModel",
          "model_module_version": "1.5.0",
          "state": {
            "_dom_classes": [],
            "_model_module": "@jupyter-widgets/controls",
            "_model_module_version": "1.5.0",
            "_model_name": "HBoxModel",
            "_view_count": null,
            "_view_module": "@jupyter-widgets/controls",
            "_view_module_version": "1.5.0",
            "_view_name": "HBoxView",
            "box_style": "",
            "children": [
              "IPY_MODEL_ddb1f604e81643938ca65cd384300e5e",
              "IPY_MODEL_9a35874ec62d43f9b1f278a0ccbf1bbf",
              "IPY_MODEL_7e1b88e19f4c44198cc96ead9f6b3adc"
            ],
            "layout": "IPY_MODEL_468611ae5b364123ad7cf1af026fd2f2"
          }
        },
        "ddb1f604e81643938ca65cd384300e5e": {
          "model_module": "@jupyter-widgets/controls",
          "model_name": "HTMLModel",
          "model_module_version": "1.5.0",
          "state": {
            "_dom_classes": [],
            "_model_module": "@jupyter-widgets/controls",
            "_model_module_version": "1.5.0",
            "_model_name": "HTMLModel",
            "_view_count": null,
            "_view_module": "@jupyter-widgets/controls",
            "_view_module_version": "1.5.0",
            "_view_name": "HTMLView",
            "description": "",
            "description_tooltip": null,
            "layout": "IPY_MODEL_8a004846e4474d9fbd29373aa703937e",
            "placeholder": "​",
            "style": "IPY_MODEL_52b4cece5c234a78bc3f93c0f46d3edd",
            "value": "Processing: 100%"
          }
        },
        "9a35874ec62d43f9b1f278a0ccbf1bbf": {
          "model_module": "@jupyter-widgets/controls",
          "model_name": "FloatProgressModel",
          "model_module_version": "1.5.0",
          "state": {
            "_dom_classes": [],
            "_model_module": "@jupyter-widgets/controls",
            "_model_module_version": "1.5.0",
            "_model_name": "FloatProgressModel",
            "_view_count": null,
            "_view_module": "@jupyter-widgets/controls",
            "_view_module_version": "1.5.0",
            "_view_name": "ProgressView",
            "bar_style": "",
            "description": "",
            "description_tooltip": null,
            "layout": "IPY_MODEL_09d679d22a704c599bc8e5764937470f",
            "max": 29,
            "min": 0,
            "orientation": "horizontal",
            "style": "IPY_MODEL_bb81b99575d14bf395f38ebda76c915b",
            "value": 29
          }
        },
        "7e1b88e19f4c44198cc96ead9f6b3adc": {
          "model_module": "@jupyter-widgets/controls",
          "model_name": "HTMLModel",
          "model_module_version": "1.5.0",
          "state": {
            "_dom_classes": [],
            "_model_module": "@jupyter-widgets/controls",
            "_model_module_version": "1.5.0",
            "_model_name": "HTMLModel",
            "_view_count": null,
            "_view_module": "@jupyter-widgets/controls",
            "_view_module_version": "1.5.0",
            "_view_name": "HTMLView",
            "description": "",
            "description_tooltip": null,
            "layout": "IPY_MODEL_db633d90f6a94fa791af90b22b981445",
            "placeholder": "​",
            "style": "IPY_MODEL_a8318937041d4d2a838ccf2b96132ee5",
            "value": " 29/29 [00:54&lt;00:00,  2.10s/it]"
          }
        },
        "468611ae5b364123ad7cf1af026fd2f2": {
          "model_module": "@jupyter-widgets/base",
          "model_name": "LayoutModel",
          "model_module_version": "1.2.0",
          "state": {
            "_model_module": "@jupyter-widgets/base",
            "_model_module_version": "1.2.0",
            "_model_name": "LayoutModel",
            "_view_count": null,
            "_view_module": "@jupyter-widgets/base",
            "_view_module_version": "1.2.0",
            "_view_name": "LayoutView",
            "align_content": null,
            "align_items": null,
            "align_self": null,
            "border": null,
            "bottom": null,
            "display": null,
            "flex": null,
            "flex_flow": null,
            "grid_area": null,
            "grid_auto_columns": null,
            "grid_auto_flow": null,
            "grid_auto_rows": null,
            "grid_column": null,
            "grid_gap": null,
            "grid_row": null,
            "grid_template_areas": null,
            "grid_template_columns": null,
            "grid_template_rows": null,
            "height": null,
            "justify_content": null,
            "justify_items": null,
            "left": null,
            "margin": null,
            "max_height": null,
            "max_width": null,
            "min_height": null,
            "min_width": null,
            "object_fit": null,
            "object_position": null,
            "order": null,
            "overflow": null,
            "overflow_x": null,
            "overflow_y": null,
            "padding": null,
            "right": null,
            "top": null,
            "visibility": null,
            "width": null
          }
        },
        "8a004846e4474d9fbd29373aa703937e": {
          "model_module": "@jupyter-widgets/base",
          "model_name": "LayoutModel",
          "model_module_version": "1.2.0",
          "state": {
            "_model_module": "@jupyter-widgets/base",
            "_model_module_version": "1.2.0",
            "_model_name": "LayoutModel",
            "_view_count": null,
            "_view_module": "@jupyter-widgets/base",
            "_view_module_version": "1.2.0",
            "_view_name": "LayoutView",
            "align_content": null,
            "align_items": null,
            "align_self": null,
            "border": null,
            "bottom": null,
            "display": null,
            "flex": null,
            "flex_flow": null,
            "grid_area": null,
            "grid_auto_columns": null,
            "grid_auto_flow": null,
            "grid_auto_rows": null,
            "grid_column": null,
            "grid_gap": null,
            "grid_row": null,
            "grid_template_areas": null,
            "grid_template_columns": null,
            "grid_template_rows": null,
            "height": null,
            "justify_content": null,
            "justify_items": null,
            "left": null,
            "margin": null,
            "max_height": null,
            "max_width": null,
            "min_height": null,
            "min_width": null,
            "object_fit": null,
            "object_position": null,
            "order": null,
            "overflow": null,
            "overflow_x": null,
            "overflow_y": null,
            "padding": null,
            "right": null,
            "top": null,
            "visibility": null,
            "width": null
          }
        },
        "52b4cece5c234a78bc3f93c0f46d3edd": {
          "model_module": "@jupyter-widgets/controls",
          "model_name": "DescriptionStyleModel",
          "model_module_version": "1.5.0",
          "state": {
            "_model_module": "@jupyter-widgets/controls",
            "_model_module_version": "1.5.0",
            "_model_name": "DescriptionStyleModel",
            "_view_count": null,
            "_view_module": "@jupyter-widgets/base",
            "_view_module_version": "1.2.0",
            "_view_name": "StyleView",
            "description_width": ""
          }
        },
        "09d679d22a704c599bc8e5764937470f": {
          "model_module": "@jupyter-widgets/base",
          "model_name": "LayoutModel",
          "model_module_version": "1.2.0",
          "state": {
            "_model_module": "@jupyter-widgets/base",
            "_model_module_version": "1.2.0",
            "_model_name": "LayoutModel",
            "_view_count": null,
            "_view_module": "@jupyter-widgets/base",
            "_view_module_version": "1.2.0",
            "_view_name": "LayoutView",
            "align_content": null,
            "align_items": null,
            "align_self": null,
            "border": null,
            "bottom": null,
            "display": null,
            "flex": null,
            "flex_flow": null,
            "grid_area": null,
            "grid_auto_columns": null,
            "grid_auto_flow": null,
            "grid_auto_rows": null,
            "grid_column": null,
            "grid_gap": null,
            "grid_row": null,
            "grid_template_areas": null,
            "grid_template_columns": null,
            "grid_template_rows": null,
            "height": null,
            "justify_content": null,
            "justify_items": null,
            "left": null,
            "margin": null,
            "max_height": null,
            "max_width": null,
            "min_height": null,
            "min_width": null,
            "object_fit": null,
            "object_position": null,
            "order": null,
            "overflow": null,
            "overflow_x": null,
            "overflow_y": null,
            "padding": null,
            "right": null,
            "top": null,
            "visibility": null,
            "width": null
          }
        },
        "bb81b99575d14bf395f38ebda76c915b": {
          "model_module": "@jupyter-widgets/controls",
          "model_name": "ProgressStyleModel",
          "model_module_version": "1.5.0",
          "state": {
            "_model_module": "@jupyter-widgets/controls",
            "_model_module_version": "1.5.0",
            "_model_name": "ProgressStyleModel",
            "_view_count": null,
            "_view_module": "@jupyter-widgets/base",
            "_view_module_version": "1.2.0",
            "_view_name": "StyleView",
            "bar_color": null,
            "description_width": ""
          }
        },
        "db633d90f6a94fa791af90b22b981445": {
          "model_module": "@jupyter-widgets/base",
          "model_name": "LayoutModel",
          "model_module_version": "1.2.0",
          "state": {
            "_model_module": "@jupyter-widgets/base",
            "_model_module_version": "1.2.0",
            "_model_name": "LayoutModel",
            "_view_count": null,
            "_view_module": "@jupyter-widgets/base",
            "_view_module_version": "1.2.0",
            "_view_name": "LayoutView",
            "align_content": null,
            "align_items": null,
            "align_self": null,
            "border": null,
            "bottom": null,
            "display": null,
            "flex": null,
            "flex_flow": null,
            "grid_area": null,
            "grid_auto_columns": null,
            "grid_auto_flow": null,
            "grid_auto_rows": null,
            "grid_column": null,
            "grid_gap": null,
            "grid_row": null,
            "grid_template_areas": null,
            "grid_template_columns": null,
            "grid_template_rows": null,
            "height": null,
            "justify_content": null,
            "justify_items": null,
            "left": null,
            "margin": null,
            "max_height": null,
            "max_width": null,
            "min_height": null,
            "min_width": null,
            "object_fit": null,
            "object_position": null,
            "order": null,
            "overflow": null,
            "overflow_x": null,
            "overflow_y": null,
            "padding": null,
            "right": null,
            "top": null,
            "visibility": null,
            "width": null
          }
        },
        "a8318937041d4d2a838ccf2b96132ee5": {
          "model_module": "@jupyter-widgets/controls",
          "model_name": "DescriptionStyleModel",
          "model_module_version": "1.5.0",
          "state": {
            "_model_module": "@jupyter-widgets/controls",
            "_model_module_version": "1.5.0",
            "_model_name": "DescriptionStyleModel",
            "_view_count": null,
            "_view_module": "@jupyter-widgets/base",
            "_view_module_version": "1.2.0",
            "_view_name": "StyleView",
            "description_width": ""
          }
        },
        "a1b2c535d5c2444591791646622d22b2": {
          "model_module": "@jupyter-widgets/controls",
          "model_name": "HBoxModel",
          "model_module_version": "1.5.0",
          "state": {
            "_dom_classes": [],
            "_model_module": "@jupyter-widgets/controls",
            "_model_module_version": "1.5.0",
            "_model_name": "HBoxModel",
            "_view_count": null,
            "_view_module": "@jupyter-widgets/controls",
            "_view_module_version": "1.5.0",
            "_view_name": "HBoxView",
            "box_style": "",
            "children": [
              "IPY_MODEL_c0bcc0ef4eae414ea34d17d7faa8dbe5",
              "IPY_MODEL_69b4654ef23f47f59856c72be1847b73",
              "IPY_MODEL_f4ec1d1c46104333b6aaa73ab8b18829"
            ],
            "layout": "IPY_MODEL_88dc7695b96c4924b25a7a79391c6729"
          }
        },
        "c0bcc0ef4eae414ea34d17d7faa8dbe5": {
          "model_module": "@jupyter-widgets/controls",
          "model_name": "HTMLModel",
          "model_module_version": "1.5.0",
          "state": {
            "_dom_classes": [],
            "_model_module": "@jupyter-widgets/controls",
            "_model_module_version": "1.5.0",
            "_model_name": "HTMLModel",
            "_view_count": null,
            "_view_module": "@jupyter-widgets/controls",
            "_view_module_version": "1.5.0",
            "_view_name": "HTMLView",
            "description": "",
            "description_tooltip": null,
            "layout": "IPY_MODEL_bf6e38bc22ba4b60a324bd3b8bd44613",
            "placeholder": "​",
            "style": "IPY_MODEL_008b72dc9171409eb491ce6841e7499d",
            "value": "Processing: 100%"
          }
        },
        "69b4654ef23f47f59856c72be1847b73": {
          "model_module": "@jupyter-widgets/controls",
          "model_name": "FloatProgressModel",
          "model_module_version": "1.5.0",
          "state": {
            "_dom_classes": [],
            "_model_module": "@jupyter-widgets/controls",
            "_model_module_version": "1.5.0",
            "_model_name": "FloatProgressModel",
            "_view_count": null,
            "_view_module": "@jupyter-widgets/controls",
            "_view_module_version": "1.5.0",
            "_view_name": "ProgressView",
            "bar_style": "",
            "description": "",
            "description_tooltip": null,
            "layout": "IPY_MODEL_1afeefa66fc2410295505b81aef643ba",
            "max": 4,
            "min": 0,
            "orientation": "horizontal",
            "style": "IPY_MODEL_3be55b8dac504f58bea0ab8668a46671",
            "value": 4
          }
        },
        "f4ec1d1c46104333b6aaa73ab8b18829": {
          "model_module": "@jupyter-widgets/controls",
          "model_name": "HTMLModel",
          "model_module_version": "1.5.0",
          "state": {
            "_dom_classes": [],
            "_model_module": "@jupyter-widgets/controls",
            "_model_module_version": "1.5.0",
            "_model_name": "HTMLModel",
            "_view_count": null,
            "_view_module": "@jupyter-widgets/controls",
            "_view_module_version": "1.5.0",
            "_view_name": "HTMLView",
            "description": "",
            "description_tooltip": null,
            "layout": "IPY_MODEL_8a827bf274a54872954259c588f55bbb",
            "placeholder": "​",
            "style": "IPY_MODEL_e50a98cc8f984df48c2187794d086769",
            "value": " 4/4 [00:10&lt;00:00,  2.52s/it]"
          }
        },
        "88dc7695b96c4924b25a7a79391c6729": {
          "model_module": "@jupyter-widgets/base",
          "model_name": "LayoutModel",
          "model_module_version": "1.2.0",
          "state": {
            "_model_module": "@jupyter-widgets/base",
            "_model_module_version": "1.2.0",
            "_model_name": "LayoutModel",
            "_view_count": null,
            "_view_module": "@jupyter-widgets/base",
            "_view_module_version": "1.2.0",
            "_view_name": "LayoutView",
            "align_content": null,
            "align_items": null,
            "align_self": null,
            "border": null,
            "bottom": null,
            "display": null,
            "flex": null,
            "flex_flow": null,
            "grid_area": null,
            "grid_auto_columns": null,
            "grid_auto_flow": null,
            "grid_auto_rows": null,
            "grid_column": null,
            "grid_gap": null,
            "grid_row": null,
            "grid_template_areas": null,
            "grid_template_columns": null,
            "grid_template_rows": null,
            "height": null,
            "justify_content": null,
            "justify_items": null,
            "left": null,
            "margin": null,
            "max_height": null,
            "max_width": null,
            "min_height": null,
            "min_width": null,
            "object_fit": null,
            "object_position": null,
            "order": null,
            "overflow": null,
            "overflow_x": null,
            "overflow_y": null,
            "padding": null,
            "right": null,
            "top": null,
            "visibility": null,
            "width": null
          }
        },
        "bf6e38bc22ba4b60a324bd3b8bd44613": {
          "model_module": "@jupyter-widgets/base",
          "model_name": "LayoutModel",
          "model_module_version": "1.2.0",
          "state": {
            "_model_module": "@jupyter-widgets/base",
            "_model_module_version": "1.2.0",
            "_model_name": "LayoutModel",
            "_view_count": null,
            "_view_module": "@jupyter-widgets/base",
            "_view_module_version": "1.2.0",
            "_view_name": "LayoutView",
            "align_content": null,
            "align_items": null,
            "align_self": null,
            "border": null,
            "bottom": null,
            "display": null,
            "flex": null,
            "flex_flow": null,
            "grid_area": null,
            "grid_auto_columns": null,
            "grid_auto_flow": null,
            "grid_auto_rows": null,
            "grid_column": null,
            "grid_gap": null,
            "grid_row": null,
            "grid_template_areas": null,
            "grid_template_columns": null,
            "grid_template_rows": null,
            "height": null,
            "justify_content": null,
            "justify_items": null,
            "left": null,
            "margin": null,
            "max_height": null,
            "max_width": null,
            "min_height": null,
            "min_width": null,
            "object_fit": null,
            "object_position": null,
            "order": null,
            "overflow": null,
            "overflow_x": null,
            "overflow_y": null,
            "padding": null,
            "right": null,
            "top": null,
            "visibility": null,
            "width": null
          }
        },
        "008b72dc9171409eb491ce6841e7499d": {
          "model_module": "@jupyter-widgets/controls",
          "model_name": "DescriptionStyleModel",
          "model_module_version": "1.5.0",
          "state": {
            "_model_module": "@jupyter-widgets/controls",
            "_model_module_version": "1.5.0",
            "_model_name": "DescriptionStyleModel",
            "_view_count": null,
            "_view_module": "@jupyter-widgets/base",
            "_view_module_version": "1.2.0",
            "_view_name": "StyleView",
            "description_width": ""
          }
        },
        "1afeefa66fc2410295505b81aef643ba": {
          "model_module": "@jupyter-widgets/base",
          "model_name": "LayoutModel",
          "model_module_version": "1.2.0",
          "state": {
            "_model_module": "@jupyter-widgets/base",
            "_model_module_version": "1.2.0",
            "_model_name": "LayoutModel",
            "_view_count": null,
            "_view_module": "@jupyter-widgets/base",
            "_view_module_version": "1.2.0",
            "_view_name": "LayoutView",
            "align_content": null,
            "align_items": null,
            "align_self": null,
            "border": null,
            "bottom": null,
            "display": null,
            "flex": null,
            "flex_flow": null,
            "grid_area": null,
            "grid_auto_columns": null,
            "grid_auto_flow": null,
            "grid_auto_rows": null,
            "grid_column": null,
            "grid_gap": null,
            "grid_row": null,
            "grid_template_areas": null,
            "grid_template_columns": null,
            "grid_template_rows": null,
            "height": null,
            "justify_content": null,
            "justify_items": null,
            "left": null,
            "margin": null,
            "max_height": null,
            "max_width": null,
            "min_height": null,
            "min_width": null,
            "object_fit": null,
            "object_position": null,
            "order": null,
            "overflow": null,
            "overflow_x": null,
            "overflow_y": null,
            "padding": null,
            "right": null,
            "top": null,
            "visibility": null,
            "width": null
          }
        },
        "3be55b8dac504f58bea0ab8668a46671": {
          "model_module": "@jupyter-widgets/controls",
          "model_name": "ProgressStyleModel",
          "model_module_version": "1.5.0",
          "state": {
            "_model_module": "@jupyter-widgets/controls",
            "_model_module_version": "1.5.0",
            "_model_name": "ProgressStyleModel",
            "_view_count": null,
            "_view_module": "@jupyter-widgets/base",
            "_view_module_version": "1.2.0",
            "_view_name": "StyleView",
            "bar_color": null,
            "description_width": ""
          }
        },
        "8a827bf274a54872954259c588f55bbb": {
          "model_module": "@jupyter-widgets/base",
          "model_name": "LayoutModel",
          "model_module_version": "1.2.0",
          "state": {
            "_model_module": "@jupyter-widgets/base",
            "_model_module_version": "1.2.0",
            "_model_name": "LayoutModel",
            "_view_count": null,
            "_view_module": "@jupyter-widgets/base",
            "_view_module_version": "1.2.0",
            "_view_name": "LayoutView",
            "align_content": null,
            "align_items": null,
            "align_self": null,
            "border": null,
            "bottom": null,
            "display": null,
            "flex": null,
            "flex_flow": null,
            "grid_area": null,
            "grid_auto_columns": null,
            "grid_auto_flow": null,
            "grid_auto_rows": null,
            "grid_column": null,
            "grid_gap": null,
            "grid_row": null,
            "grid_template_areas": null,
            "grid_template_columns": null,
            "grid_template_rows": null,
            "height": null,
            "justify_content": null,
            "justify_items": null,
            "left": null,
            "margin": null,
            "max_height": null,
            "max_width": null,
            "min_height": null,
            "min_width": null,
            "object_fit": null,
            "object_position": null,
            "order": null,
            "overflow": null,
            "overflow_x": null,
            "overflow_y": null,
            "padding": null,
            "right": null,
            "top": null,
            "visibility": null,
            "width": null
          }
        },
        "e50a98cc8f984df48c2187794d086769": {
          "model_module": "@jupyter-widgets/controls",
          "model_name": "DescriptionStyleModel",
          "model_module_version": "1.5.0",
          "state": {
            "_model_module": "@jupyter-widgets/controls",
            "_model_module_version": "1.5.0",
            "_model_name": "DescriptionStyleModel",
            "_view_count": null,
            "_view_module": "@jupyter-widgets/base",
            "_view_module_version": "1.2.0",
            "_view_name": "StyleView",
            "description_width": ""
          }
        },
        "37d9716e1fe647299a64e91d12561e77": {
          "model_module": "@jupyter-widgets/controls",
          "model_name": "VBoxModel",
          "model_module_version": "1.5.0",
          "state": {
            "_dom_classes": [
              "widget-interact"
            ],
            "_model_module": "@jupyter-widgets/controls",
            "_model_module_version": "1.5.0",
            "_model_name": "VBoxModel",
            "_view_count": null,
            "_view_module": "@jupyter-widgets/controls",
            "_view_module_version": "1.5.0",
            "_view_name": "VBoxView",
            "box_style": "",
            "children": [
              "IPY_MODEL_d1b20dea3ec944c3942ec35b8799bace",
              "IPY_MODEL_46d015d7d6a64d6c9e70eee2e8d701a3"
            ],
            "layout": "IPY_MODEL_57fc916b07e24844921aff067f136159"
          }
        },
        "d1b20dea3ec944c3942ec35b8799bace": {
          "model_module": "@jupyter-widgets/controls",
          "model_name": "ToggleButtonsModel",
          "model_module_version": "1.5.0",
          "state": {
            "_dom_classes": [],
            "_model_module": "@jupyter-widgets/controls",
            "_model_module_version": "1.5.0",
            "_model_name": "ToggleButtonsModel",
            "_options_labels": [
              "Pipeline Plot",
              "Hyperparameters",
              "AUC",
              "Confusion Matrix",
              "Threshold",
              "Precision Recall",
              "Prediction Error",
              "Class Report",
              "Feature Selection",
              "Learning Curve",
              "Manifold Learning",
              "Calibration Curve",
              "Validation Curve",
              "Dimensions",
              "Feature Importance",
              "Feature Importance (All)",
              "Decision Boundary",
              "Lift Chart",
              "Gain Chart",
              "Decision Tree",
              "KS Statistic Plot"
            ],
            "_view_count": null,
            "_view_module": "@jupyter-widgets/controls",
            "_view_module_version": "1.5.0",
            "_view_name": "ToggleButtonsView",
            "button_style": "",
            "description": "Plot Type:",
            "description_tooltip": null,
            "disabled": false,
            "icons": [
              ""
            ],
            "index": 3,
            "layout": "IPY_MODEL_b56920784cf64e5191e862f2b1b45d06",
            "style": "IPY_MODEL_17cdb1bbad8a44449781771742c0b841",
            "tooltips": []
          }
        },
        "46d015d7d6a64d6c9e70eee2e8d701a3": {
          "model_module": "@jupyter-widgets/output",
          "model_name": "OutputModel",
          "model_module_version": "1.0.0",
          "state": {
            "_dom_classes": [],
            "_model_module": "@jupyter-widgets/output",
            "_model_module_version": "1.0.0",
            "_model_name": "OutputModel",
            "_view_count": null,
            "_view_module": "@jupyter-widgets/output",
            "_view_module_version": "1.0.0",
            "_view_name": "OutputView",
            "layout": "IPY_MODEL_14ed6c87589e4d2b9bf1f90068459eb1",
            "msg_id": "",
            "outputs": [
              {
                "output_type": "display_data",
                "data": {
                  "text/plain": "<Figure size 432x288 with 1 Axes>",
                  "image/png": "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\n"
                },
                "metadata": {
                  "needs_background": "light"
                }
              }
            ]
          }
        },
        "57fc916b07e24844921aff067f136159": {
          "model_module": "@jupyter-widgets/base",
          "model_name": "LayoutModel",
          "model_module_version": "1.2.0",
          "state": {
            "_model_module": "@jupyter-widgets/base",
            "_model_module_version": "1.2.0",
            "_model_name": "LayoutModel",
            "_view_count": null,
            "_view_module": "@jupyter-widgets/base",
            "_view_module_version": "1.2.0",
            "_view_name": "LayoutView",
            "align_content": null,
            "align_items": null,
            "align_self": null,
            "border": null,
            "bottom": null,
            "display": null,
            "flex": null,
            "flex_flow": null,
            "grid_area": null,
            "grid_auto_columns": null,
            "grid_auto_flow": null,
            "grid_auto_rows": null,
            "grid_column": null,
            "grid_gap": null,
            "grid_row": null,
            "grid_template_areas": null,
            "grid_template_columns": null,
            "grid_template_rows": null,
            "height": null,
            "justify_content": null,
            "justify_items": null,
            "left": null,
            "margin": null,
            "max_height": null,
            "max_width": null,
            "min_height": null,
            "min_width": null,
            "object_fit": null,
            "object_position": null,
            "order": null,
            "overflow": null,
            "overflow_x": null,
            "overflow_y": null,
            "padding": null,
            "right": null,
            "top": null,
            "visibility": null,
            "width": null
          }
        },
        "b56920784cf64e5191e862f2b1b45d06": {
          "model_module": "@jupyter-widgets/base",
          "model_name": "LayoutModel",
          "model_module_version": "1.2.0",
          "state": {
            "_model_module": "@jupyter-widgets/base",
            "_model_module_version": "1.2.0",
            "_model_name": "LayoutModel",
            "_view_count": null,
            "_view_module": "@jupyter-widgets/base",
            "_view_module_version": "1.2.0",
            "_view_name": "LayoutView",
            "align_content": null,
            "align_items": null,
            "align_self": null,
            "border": null,
            "bottom": null,
            "display": null,
            "flex": null,
            "flex_flow": null,
            "grid_area": null,
            "grid_auto_columns": null,
            "grid_auto_flow": null,
            "grid_auto_rows": null,
            "grid_column": null,
            "grid_gap": null,
            "grid_row": null,
            "grid_template_areas": null,
            "grid_template_columns": null,
            "grid_template_rows": null,
            "height": null,
            "justify_content": null,
            "justify_items": null,
            "left": null,
            "margin": null,
            "max_height": null,
            "max_width": null,
            "min_height": null,
            "min_width": null,
            "object_fit": null,
            "object_position": null,
            "order": null,
            "overflow": null,
            "overflow_x": null,
            "overflow_y": null,
            "padding": null,
            "right": null,
            "top": null,
            "visibility": null,
            "width": null
          }
        },
        "17cdb1bbad8a44449781771742c0b841": {
          "model_module": "@jupyter-widgets/controls",
          "model_name": "ToggleButtonsStyleModel",
          "model_module_version": "1.5.0",
          "state": {
            "_model_module": "@jupyter-widgets/controls",
            "_model_module_version": "1.5.0",
            "_model_name": "ToggleButtonsStyleModel",
            "_view_count": null,
            "_view_module": "@jupyter-widgets/base",
            "_view_module_version": "1.2.0",
            "_view_name": "StyleView",
            "button_width": "",
            "description_width": "",
            "font_weight": ""
          }
        },
        "14ed6c87589e4d2b9bf1f90068459eb1": {
          "model_module": "@jupyter-widgets/base",
          "model_name": "LayoutModel",
          "model_module_version": "1.2.0",
          "state": {
            "_model_module": "@jupyter-widgets/base",
            "_model_module_version": "1.2.0",
            "_model_name": "LayoutModel",
            "_view_count": null,
            "_view_module": "@jupyter-widgets/base",
            "_view_module_version": "1.2.0",
            "_view_name": "LayoutView",
            "align_content": null,
            "align_items": null,
            "align_self": null,
            "border": null,
            "bottom": null,
            "display": null,
            "flex": null,
            "flex_flow": null,
            "grid_area": null,
            "grid_auto_columns": null,
            "grid_auto_flow": null,
            "grid_auto_rows": null,
            "grid_column": null,
            "grid_gap": null,
            "grid_row": null,
            "grid_template_areas": null,
            "grid_template_columns": null,
            "grid_template_rows": null,
            "height": null,
            "justify_content": null,
            "justify_items": null,
            "left": null,
            "margin": null,
            "max_height": null,
            "max_width": null,
            "min_height": null,
            "min_width": null,
            "object_fit": null,
            "object_position": null,
            "order": null,
            "overflow": null,
            "overflow_x": null,
            "overflow_y": null,
            "padding": null,
            "right": null,
            "top": null,
            "visibility": null,
            "width": null
          }
        }
      }
    }
  },
  "nbformat": 4,
  "nbformat_minor": 5
}