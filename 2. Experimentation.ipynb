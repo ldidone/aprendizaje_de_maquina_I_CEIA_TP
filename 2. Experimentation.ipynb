{
  "cells": [
    {
      "cell_type": "code",
      "source": [
        "!pip install --pre pycaret"
      ],
      "metadata": {
        "id": "UTWviIFNyzdK"
      },
      "id": "UTWviIFNyzdK",
      "execution_count": null,
      "outputs": []
    },
    {
      "cell_type": "markdown",
      "id": "e7ff23ed",
      "metadata": {
        "id": "e7ff23ed"
      },
      "source": [
        "# 1. Acoustic Extinguisher Fire Dataset"
      ]
    },
    {
      "cell_type": "code",
      "execution_count": null,
      "id": "731f5c98",
      "metadata": {
        "id": "731f5c98"
      },
      "outputs": [],
      "source": [
        "# Importamos las librerías necesarias\n",
        "import numpy as np\n",
        "import pandas as pd\n",
        "import matplotlib.pyplot as plt\n",
        "import seaborn as sns\n",
        "\n",
        "from sklearn.pipeline import Pipeline\n",
        "from sklearn.compose import ColumnTransformer\n",
        "from sklearn.impute import SimpleImputer\n",
        "from sklearn.model_selection import train_test_split\n",
        "from sklearn.preprocessing import StandardScaler, OneHotEncoder\n",
        "from sklearn.metrics import average_precision_score, accuracy_score,plot_confusion_matrix,roc_auc_score, classification_report, confusion_matrix, precision_recall_curve, auc\n",
        "from sklearn.tree import DecisionTreeClassifier\n",
        "from sklearn.ensemble import RandomForestClassifier\n",
        "from sklearn.neighbors import KNeighborsClassifier\n",
        "from sklearn.linear_model import LogisticRegression\n",
        "\n",
        "import pickle\n",
        "\n",
        "RANDOM_STATE = 30"
      ]
    },
    {
      "cell_type": "code",
      "execution_count": null,
      "id": "dc67f10b",
      "metadata": {
        "id": "dc67f10b"
      },
      "outputs": [],
      "source": [
        "# Levantamos el dataset\n",
        "df = pd.read_excel('Acoustic_Extinguisher_Fire_Dataset.xlsx')"
      ]
    },
    {
      "cell_type": "code",
      "execution_count": null,
      "id": "734aaef5",
      "metadata": {
        "colab": {
          "base_uri": "https://localhost:8080/",
          "height": 206
        },
        "id": "734aaef5",
        "outputId": "13db03af-0d98-4f78-94ea-b4b4424bd7ca"
      },
      "outputs": [
        {
          "output_type": "execute_result",
          "data": {
            "text/plain": [
              "   SIZE      FUEL  DISTANCE  DESIBEL  AIRFLOW  FREQUENCY  STATUS\n",
              "0     1  gasoline        10       96      0.0         75       0\n",
              "1     1  gasoline        10       96      0.0         72       1\n",
              "2     1  gasoline        10       96      2.6         70       1\n",
              "3     1  gasoline        10       96      3.2         68       1\n",
              "4     1  gasoline        10      109      4.5         67       1"
            ],
            "text/html": [
              "\n",
              "  <div id=\"df-12031d80-ef14-421a-bbb8-a379d35ea093\">\n",
              "    <div class=\"colab-df-container\">\n",
              "      <div>\n",
              "<style scoped>\n",
              "    .dataframe tbody tr th:only-of-type {\n",
              "        vertical-align: middle;\n",
              "    }\n",
              "\n",
              "    .dataframe tbody tr th {\n",
              "        vertical-align: top;\n",
              "    }\n",
              "\n",
              "    .dataframe thead th {\n",
              "        text-align: right;\n",
              "    }\n",
              "</style>\n",
              "<table border=\"1\" class=\"dataframe\">\n",
              "  <thead>\n",
              "    <tr style=\"text-align: right;\">\n",
              "      <th></th>\n",
              "      <th>SIZE</th>\n",
              "      <th>FUEL</th>\n",
              "      <th>DISTANCE</th>\n",
              "      <th>DESIBEL</th>\n",
              "      <th>AIRFLOW</th>\n",
              "      <th>FREQUENCY</th>\n",
              "      <th>STATUS</th>\n",
              "    </tr>\n",
              "  </thead>\n",
              "  <tbody>\n",
              "    <tr>\n",
              "      <th>0</th>\n",
              "      <td>1</td>\n",
              "      <td>gasoline</td>\n",
              "      <td>10</td>\n",
              "      <td>96</td>\n",
              "      <td>0.0</td>\n",
              "      <td>75</td>\n",
              "      <td>0</td>\n",
              "    </tr>\n",
              "    <tr>\n",
              "      <th>1</th>\n",
              "      <td>1</td>\n",
              "      <td>gasoline</td>\n",
              "      <td>10</td>\n",
              "      <td>96</td>\n",
              "      <td>0.0</td>\n",
              "      <td>72</td>\n",
              "      <td>1</td>\n",
              "    </tr>\n",
              "    <tr>\n",
              "      <th>2</th>\n",
              "      <td>1</td>\n",
              "      <td>gasoline</td>\n",
              "      <td>10</td>\n",
              "      <td>96</td>\n",
              "      <td>2.6</td>\n",
              "      <td>70</td>\n",
              "      <td>1</td>\n",
              "    </tr>\n",
              "    <tr>\n",
              "      <th>3</th>\n",
              "      <td>1</td>\n",
              "      <td>gasoline</td>\n",
              "      <td>10</td>\n",
              "      <td>96</td>\n",
              "      <td>3.2</td>\n",
              "      <td>68</td>\n",
              "      <td>1</td>\n",
              "    </tr>\n",
              "    <tr>\n",
              "      <th>4</th>\n",
              "      <td>1</td>\n",
              "      <td>gasoline</td>\n",
              "      <td>10</td>\n",
              "      <td>109</td>\n",
              "      <td>4.5</td>\n",
              "      <td>67</td>\n",
              "      <td>1</td>\n",
              "    </tr>\n",
              "  </tbody>\n",
              "</table>\n",
              "</div>\n",
              "      <button class=\"colab-df-convert\" onclick=\"convertToInteractive('df-12031d80-ef14-421a-bbb8-a379d35ea093')\"\n",
              "              title=\"Convert this dataframe to an interactive table.\"\n",
              "              style=\"display:none;\">\n",
              "        \n",
              "  <svg xmlns=\"http://www.w3.org/2000/svg\" height=\"24px\"viewBox=\"0 0 24 24\"\n",
              "       width=\"24px\">\n",
              "    <path d=\"M0 0h24v24H0V0z\" fill=\"none\"/>\n",
              "    <path d=\"M18.56 5.44l.94 2.06.94-2.06 2.06-.94-2.06-.94-.94-2.06-.94 2.06-2.06.94zm-11 1L8.5 8.5l.94-2.06 2.06-.94-2.06-.94L8.5 2.5l-.94 2.06-2.06.94zm10 10l.94 2.06.94-2.06 2.06-.94-2.06-.94-.94-2.06-.94 2.06-2.06.94z\"/><path d=\"M17.41 7.96l-1.37-1.37c-.4-.4-.92-.59-1.43-.59-.52 0-1.04.2-1.43.59L10.3 9.45l-7.72 7.72c-.78.78-.78 2.05 0 2.83L4 21.41c.39.39.9.59 1.41.59.51 0 1.02-.2 1.41-.59l7.78-7.78 2.81-2.81c.8-.78.8-2.07 0-2.86zM5.41 20L4 18.59l7.72-7.72 1.47 1.35L5.41 20z\"/>\n",
              "  </svg>\n",
              "      </button>\n",
              "      \n",
              "  <style>\n",
              "    .colab-df-container {\n",
              "      display:flex;\n",
              "      flex-wrap:wrap;\n",
              "      gap: 12px;\n",
              "    }\n",
              "\n",
              "    .colab-df-convert {\n",
              "      background-color: #E8F0FE;\n",
              "      border: none;\n",
              "      border-radius: 50%;\n",
              "      cursor: pointer;\n",
              "      display: none;\n",
              "      fill: #1967D2;\n",
              "      height: 32px;\n",
              "      padding: 0 0 0 0;\n",
              "      width: 32px;\n",
              "    }\n",
              "\n",
              "    .colab-df-convert:hover {\n",
              "      background-color: #E2EBFA;\n",
              "      box-shadow: 0px 1px 2px rgba(60, 64, 67, 0.3), 0px 1px 3px 1px rgba(60, 64, 67, 0.15);\n",
              "      fill: #174EA6;\n",
              "    }\n",
              "\n",
              "    [theme=dark] .colab-df-convert {\n",
              "      background-color: #3B4455;\n",
              "      fill: #D2E3FC;\n",
              "    }\n",
              "\n",
              "    [theme=dark] .colab-df-convert:hover {\n",
              "      background-color: #434B5C;\n",
              "      box-shadow: 0px 1px 3px 1px rgba(0, 0, 0, 0.15);\n",
              "      filter: drop-shadow(0px 1px 2px rgba(0, 0, 0, 0.3));\n",
              "      fill: #FFFFFF;\n",
              "    }\n",
              "  </style>\n",
              "\n",
              "      <script>\n",
              "        const buttonEl =\n",
              "          document.querySelector('#df-12031d80-ef14-421a-bbb8-a379d35ea093 button.colab-df-convert');\n",
              "        buttonEl.style.display =\n",
              "          google.colab.kernel.accessAllowed ? 'block' : 'none';\n",
              "\n",
              "        async function convertToInteractive(key) {\n",
              "          const element = document.querySelector('#df-12031d80-ef14-421a-bbb8-a379d35ea093');\n",
              "          const dataTable =\n",
              "            await google.colab.kernel.invokeFunction('convertToInteractive',\n",
              "                                                     [key], {});\n",
              "          if (!dataTable) return;\n",
              "\n",
              "          const docLinkHtml = 'Like what you see? Visit the ' +\n",
              "            '<a target=\"_blank\" href=https://colab.research.google.com/notebooks/data_table.ipynb>data table notebook</a>'\n",
              "            + ' to learn more about interactive tables.';\n",
              "          element.innerHTML = '';\n",
              "          dataTable['output_type'] = 'display_data';\n",
              "          await google.colab.output.renderOutput(dataTable, element);\n",
              "          const docLink = document.createElement('div');\n",
              "          docLink.innerHTML = docLinkHtml;\n",
              "          element.appendChild(docLink);\n",
              "        }\n",
              "      </script>\n",
              "    </div>\n",
              "  </div>\n",
              "  "
            ]
          },
          "metadata": {},
          "execution_count": 39
        }
      ],
      "source": [
        "# Visualizamos los primeros 5 registros\n",
        "df.head()"
      ]
    },
    {
      "cell_type": "markdown",
      "id": "486c1284",
      "metadata": {
        "id": "486c1284"
      },
      "source": [
        "### Pre-procesamiento de los datos"
      ]
    },
    {
      "cell_type": "markdown",
      "id": "abccd616",
      "metadata": {
        "id": "abccd616"
      },
      "source": [
        "#### 1. Renombrar columnas"
      ]
    },
    {
      "cell_type": "code",
      "execution_count": null,
      "id": "e62df87e",
      "metadata": {
        "id": "e62df87e"
      },
      "outputs": [],
      "source": [
        "columns = {\n",
        "    'SIZE': 'size',\n",
        "    'FUEL': 'fuel',\n",
        "    'DISTANCE': 'distance',\n",
        "    'DESIBEL': 'desibel',\n",
        "    'AIRFLOW': 'airflow',\n",
        "    'FREQUENCY': 'frequency',\n",
        "    'STATUS': 'status',\n",
        "}\n",
        "\n",
        "df.rename(columns=columns, inplace=True)"
      ]
    },
    {
      "cell_type": "markdown",
      "id": "47dbb471",
      "metadata": {
        "id": "47dbb471"
      },
      "source": [
        "#### 2. División de las variables predictoras (X) y variable objetivo (y)"
      ]
    },
    {
      "cell_type": "code",
      "execution_count": null,
      "id": "38822bad",
      "metadata": {
        "id": "38822bad"
      },
      "outputs": [],
      "source": [
        "# Definición de X e Y\n",
        "X = df[['size', 'fuel', 'distance', 'desibel', 'airflow', 'frequency']]\n",
        "y = df[['status']]"
      ]
    },
    {
      "cell_type": "markdown",
      "id": "6db6e09a",
      "metadata": {
        "id": "6db6e09a"
      },
      "source": [
        "#### 3. Transformación de datos y pipeline de pre-procesamiento"
      ]
    },
    {
      "cell_type": "code",
      "execution_count": null,
      "id": "7ef79b16",
      "metadata": {
        "id": "7ef79b16"
      },
      "outputs": [],
      "source": [
        "numeric_features = ['size', 'distance', 'desibel', 'airflow', 'frequency']\n",
        "categorical_features = ['fuel']\n",
        "\n",
        "numeric_transformer = Pipeline(steps=[\n",
        "    ('imputer', SimpleImputer(strategy='median')),\n",
        "    ('scaler', StandardScaler())])\n",
        "\n",
        "categorical_transformer = OneHotEncoder(handle_unknown='ignore')\n",
        "\n",
        "preprocessor = ColumnTransformer(\n",
        "    transformers=[\n",
        "        ('num', numeric_transformer, numeric_features),\n",
        "        ('cat', categorical_transformer, categorical_features)])"
      ]
    },
    {
      "cell_type": "markdown",
      "id": "903db93e",
      "metadata": {
        "id": "903db93e"
      },
      "source": [
        "#### 4. Separación en datos de entrenamiento y testeo"
      ]
    },
    {
      "cell_type": "code",
      "execution_count": null,
      "id": "f30f2387",
      "metadata": {
        "id": "f30f2387"
      },
      "outputs": [],
      "source": [
        "X_train, X_test, y_train, y_test = train_test_split(X, y, test_size=0.3, random_state=42, stratify=y)"
      ]
    },
    {
      "cell_type": "code",
      "execution_count": null,
      "id": "340be8a4",
      "metadata": {
        "colab": {
          "base_uri": "https://localhost:8080/"
        },
        "id": "340be8a4",
        "outputId": "90741556-5c0d-40e9-9ddb-e777634e2945"
      },
      "outputs": [
        {
          "output_type": "stream",
          "name": "stdout",
          "text": [
            "Composición del training set:\n",
            "status\n",
            "0         6131\n",
            "1         6078\n",
            "dtype: int64\n",
            "\n",
            "Composición del test set:\n",
            "status\n",
            "0         2628\n",
            "1         2605\n",
            "dtype: int64\n"
          ]
        }
      ],
      "source": [
        "print('Composición del training set:')\n",
        "print(y_train.value_counts())\n",
        "\n",
        "print('\\nComposición del test set:')\n",
        "print(y_test.value_counts())"
      ]
    },
    {
      "cell_type": "markdown",
      "id": "edb4f406",
      "metadata": {
        "id": "edb4f406"
      },
      "source": [
        "### Preparación de la experimentación"
      ]
    },
    {
      "cell_type": "markdown",
      "id": "c5bcfa12",
      "metadata": {
        "id": "c5bcfa12"
      },
      "source": [
        "#### 1. Definición del modelo"
      ]
    },
    {
      "cell_type": "code",
      "execution_count": null,
      "id": "8f51d4d3",
      "metadata": {
        "id": "8f51d4d3"
      },
      "outputs": [],
      "source": [
        "decision_tree_model = Pipeline(steps=[('preprocessor', preprocessor),\n",
        "                       ('classifier', DecisionTreeClassifier(criterion='gini', max_depth=30))])"
      ]
    },
    {
      "cell_type": "markdown",
      "id": "25d1a843",
      "metadata": {
        "id": "25d1a843"
      },
      "source": [
        "#### 2. Definición de las métricas"
      ]
    },
    {
      "cell_type": "code",
      "execution_count": null,
      "id": "bfffd59b",
      "metadata": {
        "id": "bfffd59b"
      },
      "outputs": [],
      "source": [
        "def metric_report(y_test, y_pred, y_proba):  \n",
        "    print(classification_report(y_test, y_pred))  \n",
        "    print('Area bajo la curva ROC:',np.round(roc_auc_score(y_test, y_proba[:,1]), 4)) \n",
        "    precision, recall,threshold=precision_recall_curve(y_test, y_proba[:,1]);\n",
        "    print('Area bajo la curva Precision-Recall:',np.round(auc(recall, precision), 4))"
      ]
    },
    {
      "cell_type": "markdown",
      "id": "393391e4",
      "metadata": {
        "id": "393391e4"
      },
      "source": [
        "#### 3. Entrenamiento del modelo"
      ]
    },
    {
      "cell_type": "code",
      "execution_count": null,
      "id": "38bfe3a8",
      "metadata": {
        "colab": {
          "base_uri": "https://localhost:8080/"
        },
        "id": "38bfe3a8",
        "outputId": "c1d38557-f7f0-4d45-e629-bda974cea130"
      },
      "outputs": [
        {
          "output_type": "execute_result",
          "data": {
            "text/plain": [
              "Pipeline(memory=None,\n",
              "         steps=[('preprocessor',\n",
              "                 ColumnTransformer(n_jobs=None, remainder='drop',\n",
              "                                   sparse_threshold=0.3,\n",
              "                                   transformer_weights=None,\n",
              "                                   transformers=[('num',\n",
              "                                                  Pipeline(memory=None,\n",
              "                                                           steps=[('imputer',\n",
              "                                                                   SimpleImputer(add_indicator=False,\n",
              "                                                                                 copy=True,\n",
              "                                                                                 fill_value=None,\n",
              "                                                                                 missing_values=nan,\n",
              "                                                                                 strategy='median',\n",
              "                                                                                 verbose=0)),\n",
              "                                                                  ('scaler',\n",
              "                                                                   StandardScaler(copy=True,\n",
              "                                                                                  with_mean...\n",
              "                                                                sparse=True),\n",
              "                                                  ['fuel'])],\n",
              "                                   verbose=False,\n",
              "                                   verbose_feature_names_out=True)),\n",
              "                ('classifier',\n",
              "                 DecisionTreeClassifier(ccp_alpha=0.0, class_weight=None,\n",
              "                                        criterion='gini', max_depth=30,\n",
              "                                        max_features=None, max_leaf_nodes=None,\n",
              "                                        min_impurity_decrease=0.0,\n",
              "                                        min_samples_leaf=1, min_samples_split=2,\n",
              "                                        min_weight_fraction_leaf=0.0,\n",
              "                                        random_state=None, splitter='best'))],\n",
              "         verbose=False)"
            ]
          },
          "metadata": {},
          "execution_count": 47
        }
      ],
      "source": [
        "decision_tree_model.fit(X_train, y_train)"
      ]
    },
    {
      "cell_type": "markdown",
      "id": "dde9fbdd",
      "metadata": {
        "id": "dde9fbdd"
      },
      "source": [
        "#### 4. Análisis del resultado obtenido"
      ]
    },
    {
      "cell_type": "code",
      "execution_count": null,
      "id": "47ca3a11",
      "metadata": {
        "id": "47ca3a11"
      },
      "outputs": [],
      "source": [
        "y_pred = decision_tree_model.predict(X_test)"
      ]
    },
    {
      "cell_type": "code",
      "execution_count": null,
      "id": "3fd705c1",
      "metadata": {
        "id": "3fd705c1"
      },
      "outputs": [],
      "source": [
        "y_proba = decision_tree_model.predict_proba(X_test)"
      ]
    },
    {
      "cell_type": "code",
      "execution_count": null,
      "id": "ce2b32e3",
      "metadata": {
        "colab": {
          "base_uri": "https://localhost:8080/"
        },
        "id": "ce2b32e3",
        "outputId": "d63fb43d-41b0-4a3d-dcd8-e767d37fda29"
      },
      "outputs": [
        {
          "output_type": "stream",
          "name": "stdout",
          "text": [
            "              precision    recall  f1-score   support\n",
            "\n",
            "           0       0.95      0.96      0.96      2628\n",
            "           1       0.96      0.95      0.96      2605\n",
            "\n",
            "    accuracy                           0.96      5233\n",
            "   macro avg       0.96      0.96      0.96      5233\n",
            "weighted avg       0.96      0.96      0.96      5233\n",
            "\n",
            "Area bajo la curva ROC: 0.957\n",
            "Area bajo la curva Precision-Recall: 0.969\n"
          ]
        }
      ],
      "source": [
        "metric_report(y_test, y_pred, y_proba)"
      ]
    },
    {
      "cell_type": "code",
      "execution_count": null,
      "id": "8f6f6220",
      "metadata": {
        "id": "8f6f6220"
      },
      "outputs": [],
      "source": [
        "RandomForestClassifier_model = Pipeline(steps=[('preprocessor', preprocessor),\n",
        "                       ('classifier', DecisionTreeClassifier(criterion='gini', max_depth=30))])"
      ]
    },
    {
      "cell_type": "code",
      "execution_count": null,
      "id": "bfb4469d",
      "metadata": {
        "colab": {
          "base_uri": "https://localhost:8080/"
        },
        "id": "bfb4469d",
        "outputId": "06d99d81-7c45-4c5f-bffe-e6ba188da3bc"
      },
      "outputs": [
        {
          "output_type": "execute_result",
          "data": {
            "text/plain": [
              "Pipeline(memory=None,\n",
              "         steps=[('preprocessor',\n",
              "                 ColumnTransformer(n_jobs=None, remainder='drop',\n",
              "                                   sparse_threshold=0.3,\n",
              "                                   transformer_weights=None,\n",
              "                                   transformers=[('num',\n",
              "                                                  Pipeline(memory=None,\n",
              "                                                           steps=[('imputer',\n",
              "                                                                   SimpleImputer(add_indicator=False,\n",
              "                                                                                 copy=True,\n",
              "                                                                                 fill_value=None,\n",
              "                                                                                 missing_values=nan,\n",
              "                                                                                 strategy='median',\n",
              "                                                                                 verbose=0)),\n",
              "                                                                  ('scaler',\n",
              "                                                                   StandardScaler(copy=True,\n",
              "                                                                                  with_mean...\n",
              "                                                                sparse=True),\n",
              "                                                  ['fuel'])],\n",
              "                                   verbose=False,\n",
              "                                   verbose_feature_names_out=True)),\n",
              "                ('classifier',\n",
              "                 DecisionTreeClassifier(ccp_alpha=0.0, class_weight=None,\n",
              "                                        criterion='gini', max_depth=30,\n",
              "                                        max_features=None, max_leaf_nodes=None,\n",
              "                                        min_impurity_decrease=0.0,\n",
              "                                        min_samples_leaf=1, min_samples_split=2,\n",
              "                                        min_weight_fraction_leaf=0.0,\n",
              "                                        random_state=None, splitter='best'))],\n",
              "         verbose=False)"
            ]
          },
          "metadata": {},
          "execution_count": 52
        }
      ],
      "source": [
        "RandomForestClassifier_model.fit(X_train, y_train)"
      ]
    },
    {
      "cell_type": "code",
      "execution_count": null,
      "id": "0c16463e",
      "metadata": {
        "id": "0c16463e"
      },
      "outputs": [],
      "source": [
        "y_pred = RandomForestClassifier_model.predict(X_test)"
      ]
    },
    {
      "cell_type": "code",
      "execution_count": null,
      "id": "907073c4",
      "metadata": {
        "id": "907073c4"
      },
      "outputs": [],
      "source": [
        "y_proba = RandomForestClassifier_model.predict_proba(X_test)"
      ]
    },
    {
      "cell_type": "code",
      "execution_count": null,
      "id": "1928746a",
      "metadata": {
        "colab": {
          "base_uri": "https://localhost:8080/"
        },
        "id": "1928746a",
        "outputId": "f427d220-8034-4e98-cfb5-10fda62477c2"
      },
      "outputs": [
        {
          "output_type": "stream",
          "name": "stdout",
          "text": [
            "              precision    recall  f1-score   support\n",
            "\n",
            "           0       0.95      0.96      0.96      2628\n",
            "           1       0.96      0.95      0.96      2605\n",
            "\n",
            "    accuracy                           0.96      5233\n",
            "   macro avg       0.96      0.96      0.96      5233\n",
            "weighted avg       0.96      0.96      0.96      5233\n",
            "\n",
            "Area bajo la curva ROC: 0.9581\n",
            "Area bajo la curva Precision-Recall: 0.9695\n"
          ]
        }
      ],
      "source": [
        "metric_report(y_test, y_pred, y_proba)"
      ]
    },
    {
      "cell_type": "code",
      "execution_count": null,
      "id": "ca6821ab",
      "metadata": {
        "id": "ca6821ab"
      },
      "outputs": [],
      "source": [
        "KNeighborsClassifier_model = Pipeline(steps=[('preprocessor', preprocessor),\n",
        "                       ('classifier', KNeighborsClassifier())])\n"
      ]
    },
    {
      "cell_type": "code",
      "execution_count": null,
      "id": "d13b7301",
      "metadata": {
        "colab": {
          "base_uri": "https://localhost:8080/"
        },
        "id": "d13b7301",
        "outputId": "7269c8e3-7364-4d1b-efe9-de463da3e48a"
      },
      "outputs": [
        {
          "output_type": "execute_result",
          "data": {
            "text/plain": [
              "Pipeline(memory=None,\n",
              "         steps=[('preprocessor',\n",
              "                 ColumnTransformer(n_jobs=None, remainder='drop',\n",
              "                                   sparse_threshold=0.3,\n",
              "                                   transformer_weights=None,\n",
              "                                   transformers=[('num',\n",
              "                                                  Pipeline(memory=None,\n",
              "                                                           steps=[('imputer',\n",
              "                                                                   SimpleImputer(add_indicator=False,\n",
              "                                                                                 copy=True,\n",
              "                                                                                 fill_value=None,\n",
              "                                                                                 missing_values=nan,\n",
              "                                                                                 strategy='median',\n",
              "                                                                                 verbose=0)),\n",
              "                                                                  ('scaler',\n",
              "                                                                   StandardScaler(copy=True,\n",
              "                                                                                  with_mean...\n",
              "                                                   'frequency']),\n",
              "                                                 ('cat',\n",
              "                                                  OneHotEncoder(categories='auto',\n",
              "                                                                drop=None,\n",
              "                                                                dtype=<class 'numpy.float64'>,\n",
              "                                                                handle_unknown='ignore',\n",
              "                                                                sparse=True),\n",
              "                                                  ['fuel'])],\n",
              "                                   verbose=False,\n",
              "                                   verbose_feature_names_out=True)),\n",
              "                ('classifier',\n",
              "                 KNeighborsClassifier(algorithm='auto', leaf_size=30,\n",
              "                                      metric='minkowski', metric_params=None,\n",
              "                                      n_jobs=None, n_neighbors=5, p=2,\n",
              "                                      weights='uniform'))],\n",
              "         verbose=False)"
            ]
          },
          "metadata": {},
          "execution_count": 57
        }
      ],
      "source": [
        "KNeighborsClassifier_model.fit(X_train, y_train)"
      ]
    },
    {
      "cell_type": "code",
      "execution_count": null,
      "id": "9ae21c8b",
      "metadata": {
        "id": "9ae21c8b"
      },
      "outputs": [],
      "source": [
        "y_pred = KNeighborsClassifier_model.predict(X_test)"
      ]
    },
    {
      "cell_type": "code",
      "execution_count": null,
      "id": "0966f878",
      "metadata": {
        "id": "0966f878"
      },
      "outputs": [],
      "source": [
        "y_proba = KNeighborsClassifier_model.predict_proba(X_test)"
      ]
    },
    {
      "cell_type": "code",
      "execution_count": null,
      "id": "ff18fee0",
      "metadata": {
        "colab": {
          "base_uri": "https://localhost:8080/"
        },
        "id": "ff18fee0",
        "outputId": "61545f95-619c-4318-daf7-5a87c81027fd"
      },
      "outputs": [
        {
          "output_type": "stream",
          "name": "stdout",
          "text": [
            "              precision    recall  f1-score   support\n",
            "\n",
            "           0       0.95      0.96      0.96      2628\n",
            "           1       0.96      0.95      0.96      2605\n",
            "\n",
            "    accuracy                           0.96      5233\n",
            "   macro avg       0.96      0.96      0.96      5233\n",
            "weighted avg       0.96      0.96      0.96      5233\n",
            "\n",
            "Area bajo la curva ROC: 0.9917\n",
            "Area bajo la curva Precision-Recall: 0.9928\n"
          ]
        }
      ],
      "source": [
        "metric_report(y_test, y_pred, y_proba)"
      ]
    },
    {
      "cell_type": "code",
      "execution_count": null,
      "id": "8661678b",
      "metadata": {
        "id": "8661678b"
      },
      "outputs": [],
      "source": [
        "LogisticRegression_model = Pipeline(steps=[('preprocessor', preprocessor),\n",
        "                       ('classifier', LogisticRegression ())])\n",
        "\n"
      ]
    },
    {
      "cell_type": "code",
      "execution_count": null,
      "id": "cc8e41dd",
      "metadata": {
        "colab": {
          "base_uri": "https://localhost:8080/"
        },
        "id": "cc8e41dd",
        "outputId": "83788be2-f665-4449-b9eb-64160c7f3032"
      },
      "outputs": [
        {
          "output_type": "execute_result",
          "data": {
            "text/plain": [
              "Pipeline(memory=None,\n",
              "         steps=[('preprocessor',\n",
              "                 ColumnTransformer(n_jobs=None, remainder='drop',\n",
              "                                   sparse_threshold=0.3,\n",
              "                                   transformer_weights=None,\n",
              "                                   transformers=[('num',\n",
              "                                                  Pipeline(memory=None,\n",
              "                                                           steps=[('imputer',\n",
              "                                                                   SimpleImputer(add_indicator=False,\n",
              "                                                                                 copy=True,\n",
              "                                                                                 fill_value=None,\n",
              "                                                                                 missing_values=nan,\n",
              "                                                                                 strategy='median',\n",
              "                                                                                 verbose=0)),\n",
              "                                                                  ('scaler',\n",
              "                                                                   StandardScaler(copy=True,\n",
              "                                                                                  with_mean...\n",
              "                                                                handle_unknown='ignore',\n",
              "                                                                sparse=True),\n",
              "                                                  ['fuel'])],\n",
              "                                   verbose=False,\n",
              "                                   verbose_feature_names_out=True)),\n",
              "                ('classifier',\n",
              "                 LogisticRegression(C=1.0, class_weight=None, dual=False,\n",
              "                                    fit_intercept=True, intercept_scaling=1,\n",
              "                                    l1_ratio=None, max_iter=100,\n",
              "                                    multi_class='auto', n_jobs=None,\n",
              "                                    penalty='l2', random_state=None,\n",
              "                                    solver='lbfgs', tol=0.0001, verbose=0,\n",
              "                                    warm_start=False))],\n",
              "         verbose=False)"
            ]
          },
          "metadata": {},
          "execution_count": 62
        }
      ],
      "source": [
        "LogisticRegression_model.fit(X_train, y_train)"
      ]
    },
    {
      "cell_type": "code",
      "execution_count": null,
      "id": "8b70bb13",
      "metadata": {
        "id": "8b70bb13"
      },
      "outputs": [],
      "source": [
        "y_pred = LogisticRegression_model.predict(X_test)"
      ]
    },
    {
      "cell_type": "code",
      "execution_count": null,
      "id": "a3fcaf3b",
      "metadata": {
        "id": "a3fcaf3b"
      },
      "outputs": [],
      "source": [
        "y_proba = LogisticRegression_model.predict_proba(X_test)"
      ]
    },
    {
      "cell_type": "code",
      "execution_count": null,
      "id": "f1889b4a",
      "metadata": {
        "colab": {
          "base_uri": "https://localhost:8080/"
        },
        "id": "f1889b4a",
        "outputId": "7c4aa664-9afc-421f-d4d4-8cbe741bb2d0"
      },
      "outputs": [
        {
          "output_type": "stream",
          "name": "stdout",
          "text": [
            "              precision    recall  f1-score   support\n",
            "\n",
            "           0       0.89      0.91      0.90      2628\n",
            "           1       0.91      0.89      0.90      2605\n",
            "\n",
            "    accuracy                           0.90      5233\n",
            "   macro avg       0.90      0.90      0.90      5233\n",
            "weighted avg       0.90      0.90      0.90      5233\n",
            "\n",
            "Area bajo la curva ROC: 0.9665\n",
            "Area bajo la curva Precision-Recall: 0.9678\n"
          ]
        }
      ],
      "source": [
        "metric_report(y_test, y_pred, y_proba)"
      ]
    },
    {
      "cell_type": "code",
      "execution_count": null,
      "id": "4247ba29",
      "metadata": {
        "id": "4247ba29"
      },
      "outputs": [],
      "source": [
        "from pycaret.classification import (\n",
        "    add_metric,\n",
        "    setup,\n",
        "    compare_models,\n",
        "    models,\n",
        ")"
      ]
    },
    {
      "cell_type": "code",
      "source": [
        "clf1 = setup(\n",
        "    df,\n",
        "    target=\"status\",\n",
        "    train_size=0.7,\n",
        "    # preprocess = False,\n",
        "    normalize=True,\n",
        "    normalize_method=\"zscore\",\n",
        "    pca=True,\n",
        "    pca_components=0.9,\n",
        "    # # remove_outliers = True,\n",
        "    # # outliters_threshold = 0.05,\n",
        "    remove_multicollinearity=True,\n",
        "    multicollinearity_threshold=0.9,\n",
        "    fix_imbalance=True,  # SMOTE method\n",
        "    data_split_shuffle=True,\n",
        "    data_split_stratify=True,\n",
        "    fold_strategy=\"stratifiedkfold\",\n",
        "    fold=5,\n",
        "    session_id=RANDOM_STATE,\n",
        "    ## silent=False,\n",
        "    log_experiment=False,\n",
        "    experiment_name=\"Fire-extinguishing\",\n",
        "    use_gpu=False,\n",
        ")"
      ],
      "metadata": {
        "colab": {
          "base_uri": "https://localhost:8080/",
          "height": 1000
        },
        "id": "SBjKf91Nyd7a",
        "outputId": "e7cead1c-9133-46ef-846f-c0504826e136"
      },
      "id": "SBjKf91Nyd7a",
      "execution_count": null,
      "outputs": [
        {
          "output_type": "display_data",
          "data": {
            "text/plain": [
              "<pandas.io.formats.style.Styler at 0x7f244ce68dd0>"
            ],
            "text/html": [
              "<style type=\"text/css\">\n",
              "#T_3415c_row9_col1, #T_3415c_row15_col1, #T_3415c_row17_col1, #T_3415c_row19_col1, #T_3415c_row21_col1 {\n",
              "  background-color: lightgreen;\n",
              "}\n",
              "</style>\n",
              "<table id=\"T_3415c_\" class=\"dataframe\">\n",
              "  <thead>\n",
              "    <tr>\n",
              "      <th class=\"blank level0\" >&nbsp;</th>\n",
              "      <th class=\"col_heading level0 col0\" >Description</th>\n",
              "      <th class=\"col_heading level0 col1\" >Value</th>\n",
              "    </tr>\n",
              "  </thead>\n",
              "  <tbody>\n",
              "    <tr>\n",
              "      <th id=\"T_3415c_level0_row0\" class=\"row_heading level0 row0\" >0</th>\n",
              "      <td id=\"T_3415c_row0_col0\" class=\"data row0 col0\" >Session id</td>\n",
              "      <td id=\"T_3415c_row0_col1\" class=\"data row0 col1\" >30</td>\n",
              "    </tr>\n",
              "    <tr>\n",
              "      <th id=\"T_3415c_level0_row1\" class=\"row_heading level0 row1\" >1</th>\n",
              "      <td id=\"T_3415c_row1_col0\" class=\"data row1 col0\" >Target</td>\n",
              "      <td id=\"T_3415c_row1_col1\" class=\"data row1 col1\" >status</td>\n",
              "    </tr>\n",
              "    <tr>\n",
              "      <th id=\"T_3415c_level0_row2\" class=\"row_heading level0 row2\" >2</th>\n",
              "      <td id=\"T_3415c_row2_col0\" class=\"data row2 col0\" >Target type</td>\n",
              "      <td id=\"T_3415c_row2_col1\" class=\"data row2 col1\" >Binary</td>\n",
              "    </tr>\n",
              "    <tr>\n",
              "      <th id=\"T_3415c_level0_row3\" class=\"row_heading level0 row3\" >3</th>\n",
              "      <td id=\"T_3415c_row3_col0\" class=\"data row3 col0\" >Original data shape</td>\n",
              "      <td id=\"T_3415c_row3_col1\" class=\"data row3 col1\" >(17442, 7)</td>\n",
              "    </tr>\n",
              "    <tr>\n",
              "      <th id=\"T_3415c_level0_row4\" class=\"row_heading level0 row4\" >4</th>\n",
              "      <td id=\"T_3415c_row4_col0\" class=\"data row4 col0\" >Transformed data shape</td>\n",
              "      <td id=\"T_3415c_row4_col1\" class=\"data row4 col1\" >(17495, 6)</td>\n",
              "    </tr>\n",
              "    <tr>\n",
              "      <th id=\"T_3415c_level0_row5\" class=\"row_heading level0 row5\" >5</th>\n",
              "      <td id=\"T_3415c_row5_col0\" class=\"data row5 col0\" >Transformed train set shape</td>\n",
              "      <td id=\"T_3415c_row5_col1\" class=\"data row5 col1\" >(12262, 6)</td>\n",
              "    </tr>\n",
              "    <tr>\n",
              "      <th id=\"T_3415c_level0_row6\" class=\"row_heading level0 row6\" >6</th>\n",
              "      <td id=\"T_3415c_row6_col0\" class=\"data row6 col0\" >Transformed test set shape</td>\n",
              "      <td id=\"T_3415c_row6_col1\" class=\"data row6 col1\" >(5233, 6)</td>\n",
              "    </tr>\n",
              "    <tr>\n",
              "      <th id=\"T_3415c_level0_row7\" class=\"row_heading level0 row7\" >7</th>\n",
              "      <td id=\"T_3415c_row7_col0\" class=\"data row7 col0\" >Numeric features</td>\n",
              "      <td id=\"T_3415c_row7_col1\" class=\"data row7 col1\" >5</td>\n",
              "    </tr>\n",
              "    <tr>\n",
              "      <th id=\"T_3415c_level0_row8\" class=\"row_heading level0 row8\" >8</th>\n",
              "      <td id=\"T_3415c_row8_col0\" class=\"data row8 col0\" >Categorical features</td>\n",
              "      <td id=\"T_3415c_row8_col1\" class=\"data row8 col1\" >1</td>\n",
              "    </tr>\n",
              "    <tr>\n",
              "      <th id=\"T_3415c_level0_row9\" class=\"row_heading level0 row9\" >9</th>\n",
              "      <td id=\"T_3415c_row9_col0\" class=\"data row9 col0\" >Preprocess</td>\n",
              "      <td id=\"T_3415c_row9_col1\" class=\"data row9 col1\" >True</td>\n",
              "    </tr>\n",
              "    <tr>\n",
              "      <th id=\"T_3415c_level0_row10\" class=\"row_heading level0 row10\" >10</th>\n",
              "      <td id=\"T_3415c_row10_col0\" class=\"data row10 col0\" >Imputation type</td>\n",
              "      <td id=\"T_3415c_row10_col1\" class=\"data row10 col1\" >simple</td>\n",
              "    </tr>\n",
              "    <tr>\n",
              "      <th id=\"T_3415c_level0_row11\" class=\"row_heading level0 row11\" >11</th>\n",
              "      <td id=\"T_3415c_row11_col0\" class=\"data row11 col0\" >Numeric imputation</td>\n",
              "      <td id=\"T_3415c_row11_col1\" class=\"data row11 col1\" >mean</td>\n",
              "    </tr>\n",
              "    <tr>\n",
              "      <th id=\"T_3415c_level0_row12\" class=\"row_heading level0 row12\" >12</th>\n",
              "      <td id=\"T_3415c_row12_col0\" class=\"data row12 col0\" >Categorical imputation</td>\n",
              "      <td id=\"T_3415c_row12_col1\" class=\"data row12 col1\" >constant</td>\n",
              "    </tr>\n",
              "    <tr>\n",
              "      <th id=\"T_3415c_level0_row13\" class=\"row_heading level0 row13\" >13</th>\n",
              "      <td id=\"T_3415c_row13_col0\" class=\"data row13 col0\" >Maximum one-hot encoding</td>\n",
              "      <td id=\"T_3415c_row13_col1\" class=\"data row13 col1\" >5</td>\n",
              "    </tr>\n",
              "    <tr>\n",
              "      <th id=\"T_3415c_level0_row14\" class=\"row_heading level0 row14\" >14</th>\n",
              "      <td id=\"T_3415c_row14_col0\" class=\"data row14 col0\" >Encoding method</td>\n",
              "      <td id=\"T_3415c_row14_col1\" class=\"data row14 col1\" >None</td>\n",
              "    </tr>\n",
              "    <tr>\n",
              "      <th id=\"T_3415c_level0_row15\" class=\"row_heading level0 row15\" >15</th>\n",
              "      <td id=\"T_3415c_row15_col0\" class=\"data row15 col0\" >Remove multicollinearity</td>\n",
              "      <td id=\"T_3415c_row15_col1\" class=\"data row15 col1\" >True</td>\n",
              "    </tr>\n",
              "    <tr>\n",
              "      <th id=\"T_3415c_level0_row16\" class=\"row_heading level0 row16\" >16</th>\n",
              "      <td id=\"T_3415c_row16_col0\" class=\"data row16 col0\" >Multicollinearity threshold</td>\n",
              "      <td id=\"T_3415c_row16_col1\" class=\"data row16 col1\" >0.900000</td>\n",
              "    </tr>\n",
              "    <tr>\n",
              "      <th id=\"T_3415c_level0_row17\" class=\"row_heading level0 row17\" >17</th>\n",
              "      <td id=\"T_3415c_row17_col0\" class=\"data row17 col0\" >Fix imbalance</td>\n",
              "      <td id=\"T_3415c_row17_col1\" class=\"data row17 col1\" >True</td>\n",
              "    </tr>\n",
              "    <tr>\n",
              "      <th id=\"T_3415c_level0_row18\" class=\"row_heading level0 row18\" >18</th>\n",
              "      <td id=\"T_3415c_row18_col0\" class=\"data row18 col0\" >Fix imbalance method</td>\n",
              "      <td id=\"T_3415c_row18_col1\" class=\"data row18 col1\" >None</td>\n",
              "    </tr>\n",
              "    <tr>\n",
              "      <th id=\"T_3415c_level0_row19\" class=\"row_heading level0 row19\" >19</th>\n",
              "      <td id=\"T_3415c_row19_col0\" class=\"data row19 col0\" >Normalize</td>\n",
              "      <td id=\"T_3415c_row19_col1\" class=\"data row19 col1\" >True</td>\n",
              "    </tr>\n",
              "    <tr>\n",
              "      <th id=\"T_3415c_level0_row20\" class=\"row_heading level0 row20\" >20</th>\n",
              "      <td id=\"T_3415c_row20_col0\" class=\"data row20 col0\" >Normalize method</td>\n",
              "      <td id=\"T_3415c_row20_col1\" class=\"data row20 col1\" >zscore</td>\n",
              "    </tr>\n",
              "    <tr>\n",
              "      <th id=\"T_3415c_level0_row21\" class=\"row_heading level0 row21\" >21</th>\n",
              "      <td id=\"T_3415c_row21_col0\" class=\"data row21 col0\" >PCA</td>\n",
              "      <td id=\"T_3415c_row21_col1\" class=\"data row21 col1\" >True</td>\n",
              "    </tr>\n",
              "    <tr>\n",
              "      <th id=\"T_3415c_level0_row22\" class=\"row_heading level0 row22\" >22</th>\n",
              "      <td id=\"T_3415c_row22_col0\" class=\"data row22 col0\" >PCA method</td>\n",
              "      <td id=\"T_3415c_row22_col1\" class=\"data row22 col1\" >linear</td>\n",
              "    </tr>\n",
              "    <tr>\n",
              "      <th id=\"T_3415c_level0_row23\" class=\"row_heading level0 row23\" >23</th>\n",
              "      <td id=\"T_3415c_row23_col0\" class=\"data row23 col0\" >PCA components</td>\n",
              "      <td id=\"T_3415c_row23_col1\" class=\"data row23 col1\" >0.900000</td>\n",
              "    </tr>\n",
              "    <tr>\n",
              "      <th id=\"T_3415c_level0_row24\" class=\"row_heading level0 row24\" >24</th>\n",
              "      <td id=\"T_3415c_row24_col0\" class=\"data row24 col0\" >Fold Generator</td>\n",
              "      <td id=\"T_3415c_row24_col1\" class=\"data row24 col1\" >StratifiedKFold</td>\n",
              "    </tr>\n",
              "    <tr>\n",
              "      <th id=\"T_3415c_level0_row25\" class=\"row_heading level0 row25\" >25</th>\n",
              "      <td id=\"T_3415c_row25_col0\" class=\"data row25 col0\" >Fold Number</td>\n",
              "      <td id=\"T_3415c_row25_col1\" class=\"data row25 col1\" >5</td>\n",
              "    </tr>\n",
              "    <tr>\n",
              "      <th id=\"T_3415c_level0_row26\" class=\"row_heading level0 row26\" >26</th>\n",
              "      <td id=\"T_3415c_row26_col0\" class=\"data row26 col0\" >CPU Jobs</td>\n",
              "      <td id=\"T_3415c_row26_col1\" class=\"data row26 col1\" >-1</td>\n",
              "    </tr>\n",
              "    <tr>\n",
              "      <th id=\"T_3415c_level0_row27\" class=\"row_heading level0 row27\" >27</th>\n",
              "      <td id=\"T_3415c_row27_col0\" class=\"data row27 col0\" >Use GPU</td>\n",
              "      <td id=\"T_3415c_row27_col1\" class=\"data row27 col1\" >False</td>\n",
              "    </tr>\n",
              "    <tr>\n",
              "      <th id=\"T_3415c_level0_row28\" class=\"row_heading level0 row28\" >28</th>\n",
              "      <td id=\"T_3415c_row28_col0\" class=\"data row28 col0\" >Log Experiment</td>\n",
              "      <td id=\"T_3415c_row28_col1\" class=\"data row28 col1\" >False</td>\n",
              "    </tr>\n",
              "    <tr>\n",
              "      <th id=\"T_3415c_level0_row29\" class=\"row_heading level0 row29\" >29</th>\n",
              "      <td id=\"T_3415c_row29_col0\" class=\"data row29 col0\" >Experiment Name</td>\n",
              "      <td id=\"T_3415c_row29_col1\" class=\"data row29 col1\" >Fire-extinguishing</td>\n",
              "    </tr>\n",
              "    <tr>\n",
              "      <th id=\"T_3415c_level0_row30\" class=\"row_heading level0 row30\" >30</th>\n",
              "      <td id=\"T_3415c_row30_col0\" class=\"data row30 col0\" >USI</td>\n",
              "      <td id=\"T_3415c_row30_col1\" class=\"data row30 col1\" >2c05</td>\n",
              "    </tr>\n",
              "  </tbody>\n",
              "</table>\n"
            ]
          },
          "metadata": {}
        }
      ]
    },
    {
      "cell_type": "code",
      "source": [
        "models()"
      ],
      "metadata": {
        "colab": {
          "base_uri": "https://localhost:8080/",
          "height": 614
        },
        "id": "Tn7DA3_Fz1Tw",
        "outputId": "7b830e81-2fc6-4683-89a0-8e5c6f4ff5e3"
      },
      "id": "Tn7DA3_Fz1Tw",
      "execution_count": null,
      "outputs": [
        {
          "output_type": "execute_result",
          "data": {
            "text/plain": [
              "                                     Name  \\\n",
              "ID                                          \n",
              "lr                    Logistic Regression   \n",
              "knn                K Neighbors Classifier   \n",
              "nb                            Naive Bayes   \n",
              "dt               Decision Tree Classifier   \n",
              "svm                   SVM - Linear Kernel   \n",
              "rbfsvm                SVM - Radial Kernel   \n",
              "gpc           Gaussian Process Classifier   \n",
              "mlp                        MLP Classifier   \n",
              "ridge                    Ridge Classifier   \n",
              "rf               Random Forest Classifier   \n",
              "qda       Quadratic Discriminant Analysis   \n",
              "ada                  Ada Boost Classifier   \n",
              "gbc          Gradient Boosting Classifier   \n",
              "lda          Linear Discriminant Analysis   \n",
              "et                 Extra Trees Classifier   \n",
              "lightgbm  Light Gradient Boosting Machine   \n",
              "dummy                    Dummy Classifier   \n",
              "\n",
              "                                                  Reference  Turbo  \n",
              "ID                                                                  \n",
              "lr        sklearn.linear_model._logistic.LogisticRegression   True  \n",
              "knn       sklearn.neighbors._classification.KNeighborsCl...   True  \n",
              "nb                           sklearn.naive_bayes.GaussianNB   True  \n",
              "dt             sklearn.tree._classes.DecisionTreeClassifier   True  \n",
              "svm       sklearn.linear_model._stochastic_gradient.SGDC...   True  \n",
              "rbfsvm                             sklearn.svm._classes.SVC  False  \n",
              "gpc       sklearn.gaussian_process._gpc.GaussianProcessC...  False  \n",
              "mlp       sklearn.neural_network._multilayer_perceptron....  False  \n",
              "ridge           sklearn.linear_model._ridge.RidgeClassifier   True  \n",
              "rf          sklearn.ensemble._forest.RandomForestClassifier   True  \n",
              "qda       sklearn.discriminant_analysis.QuadraticDiscrim...   True  \n",
              "ada       sklearn.ensemble._weight_boosting.AdaBoostClas...   True  \n",
              "gbc         sklearn.ensemble._gb.GradientBoostingClassifier   True  \n",
              "lda       sklearn.discriminant_analysis.LinearDiscrimina...   True  \n",
              "et            sklearn.ensemble._forest.ExtraTreesClassifier   True  \n",
              "lightgbm                    lightgbm.sklearn.LGBMClassifier   True  \n",
              "dummy                         sklearn.dummy.DummyClassifier   True  "
            ],
            "text/html": [
              "\n",
              "  <div id=\"df-c88fcf61-be3b-4fae-8aa3-24e9c4a415e7\">\n",
              "    <div class=\"colab-df-container\">\n",
              "      <div>\n",
              "<style scoped>\n",
              "    .dataframe tbody tr th:only-of-type {\n",
              "        vertical-align: middle;\n",
              "    }\n",
              "\n",
              "    .dataframe tbody tr th {\n",
              "        vertical-align: top;\n",
              "    }\n",
              "\n",
              "    .dataframe thead th {\n",
              "        text-align: right;\n",
              "    }\n",
              "</style>\n",
              "<table border=\"1\" class=\"dataframe\">\n",
              "  <thead>\n",
              "    <tr style=\"text-align: right;\">\n",
              "      <th></th>\n",
              "      <th>Name</th>\n",
              "      <th>Reference</th>\n",
              "      <th>Turbo</th>\n",
              "    </tr>\n",
              "    <tr>\n",
              "      <th>ID</th>\n",
              "      <th></th>\n",
              "      <th></th>\n",
              "      <th></th>\n",
              "    </tr>\n",
              "  </thead>\n",
              "  <tbody>\n",
              "    <tr>\n",
              "      <th>lr</th>\n",
              "      <td>Logistic Regression</td>\n",
              "      <td>sklearn.linear_model._logistic.LogisticRegression</td>\n",
              "      <td>True</td>\n",
              "    </tr>\n",
              "    <tr>\n",
              "      <th>knn</th>\n",
              "      <td>K Neighbors Classifier</td>\n",
              "      <td>sklearn.neighbors._classification.KNeighborsCl...</td>\n",
              "      <td>True</td>\n",
              "    </tr>\n",
              "    <tr>\n",
              "      <th>nb</th>\n",
              "      <td>Naive Bayes</td>\n",
              "      <td>sklearn.naive_bayes.GaussianNB</td>\n",
              "      <td>True</td>\n",
              "    </tr>\n",
              "    <tr>\n",
              "      <th>dt</th>\n",
              "      <td>Decision Tree Classifier</td>\n",
              "      <td>sklearn.tree._classes.DecisionTreeClassifier</td>\n",
              "      <td>True</td>\n",
              "    </tr>\n",
              "    <tr>\n",
              "      <th>svm</th>\n",
              "      <td>SVM - Linear Kernel</td>\n",
              "      <td>sklearn.linear_model._stochastic_gradient.SGDC...</td>\n",
              "      <td>True</td>\n",
              "    </tr>\n",
              "    <tr>\n",
              "      <th>rbfsvm</th>\n",
              "      <td>SVM - Radial Kernel</td>\n",
              "      <td>sklearn.svm._classes.SVC</td>\n",
              "      <td>False</td>\n",
              "    </tr>\n",
              "    <tr>\n",
              "      <th>gpc</th>\n",
              "      <td>Gaussian Process Classifier</td>\n",
              "      <td>sklearn.gaussian_process._gpc.GaussianProcessC...</td>\n",
              "      <td>False</td>\n",
              "    </tr>\n",
              "    <tr>\n",
              "      <th>mlp</th>\n",
              "      <td>MLP Classifier</td>\n",
              "      <td>sklearn.neural_network._multilayer_perceptron....</td>\n",
              "      <td>False</td>\n",
              "    </tr>\n",
              "    <tr>\n",
              "      <th>ridge</th>\n",
              "      <td>Ridge Classifier</td>\n",
              "      <td>sklearn.linear_model._ridge.RidgeClassifier</td>\n",
              "      <td>True</td>\n",
              "    </tr>\n",
              "    <tr>\n",
              "      <th>rf</th>\n",
              "      <td>Random Forest Classifier</td>\n",
              "      <td>sklearn.ensemble._forest.RandomForestClassifier</td>\n",
              "      <td>True</td>\n",
              "    </tr>\n",
              "    <tr>\n",
              "      <th>qda</th>\n",
              "      <td>Quadratic Discriminant Analysis</td>\n",
              "      <td>sklearn.discriminant_analysis.QuadraticDiscrim...</td>\n",
              "      <td>True</td>\n",
              "    </tr>\n",
              "    <tr>\n",
              "      <th>ada</th>\n",
              "      <td>Ada Boost Classifier</td>\n",
              "      <td>sklearn.ensemble._weight_boosting.AdaBoostClas...</td>\n",
              "      <td>True</td>\n",
              "    </tr>\n",
              "    <tr>\n",
              "      <th>gbc</th>\n",
              "      <td>Gradient Boosting Classifier</td>\n",
              "      <td>sklearn.ensemble._gb.GradientBoostingClassifier</td>\n",
              "      <td>True</td>\n",
              "    </tr>\n",
              "    <tr>\n",
              "      <th>lda</th>\n",
              "      <td>Linear Discriminant Analysis</td>\n",
              "      <td>sklearn.discriminant_analysis.LinearDiscrimina...</td>\n",
              "      <td>True</td>\n",
              "    </tr>\n",
              "    <tr>\n",
              "      <th>et</th>\n",
              "      <td>Extra Trees Classifier</td>\n",
              "      <td>sklearn.ensemble._forest.ExtraTreesClassifier</td>\n",
              "      <td>True</td>\n",
              "    </tr>\n",
              "    <tr>\n",
              "      <th>lightgbm</th>\n",
              "      <td>Light Gradient Boosting Machine</td>\n",
              "      <td>lightgbm.sklearn.LGBMClassifier</td>\n",
              "      <td>True</td>\n",
              "    </tr>\n",
              "    <tr>\n",
              "      <th>dummy</th>\n",
              "      <td>Dummy Classifier</td>\n",
              "      <td>sklearn.dummy.DummyClassifier</td>\n",
              "      <td>True</td>\n",
              "    </tr>\n",
              "  </tbody>\n",
              "</table>\n",
              "</div>\n",
              "      <button class=\"colab-df-convert\" onclick=\"convertToInteractive('df-c88fcf61-be3b-4fae-8aa3-24e9c4a415e7')\"\n",
              "              title=\"Convert this dataframe to an interactive table.\"\n",
              "              style=\"display:none;\">\n",
              "        \n",
              "  <svg xmlns=\"http://www.w3.org/2000/svg\" height=\"24px\"viewBox=\"0 0 24 24\"\n",
              "       width=\"24px\">\n",
              "    <path d=\"M0 0h24v24H0V0z\" fill=\"none\"/>\n",
              "    <path d=\"M18.56 5.44l.94 2.06.94-2.06 2.06-.94-2.06-.94-.94-2.06-.94 2.06-2.06.94zm-11 1L8.5 8.5l.94-2.06 2.06-.94-2.06-.94L8.5 2.5l-.94 2.06-2.06.94zm10 10l.94 2.06.94-2.06 2.06-.94-2.06-.94-.94-2.06-.94 2.06-2.06.94z\"/><path d=\"M17.41 7.96l-1.37-1.37c-.4-.4-.92-.59-1.43-.59-.52 0-1.04.2-1.43.59L10.3 9.45l-7.72 7.72c-.78.78-.78 2.05 0 2.83L4 21.41c.39.39.9.59 1.41.59.51 0 1.02-.2 1.41-.59l7.78-7.78 2.81-2.81c.8-.78.8-2.07 0-2.86zM5.41 20L4 18.59l7.72-7.72 1.47 1.35L5.41 20z\"/>\n",
              "  </svg>\n",
              "      </button>\n",
              "      \n",
              "  <style>\n",
              "    .colab-df-container {\n",
              "      display:flex;\n",
              "      flex-wrap:wrap;\n",
              "      gap: 12px;\n",
              "    }\n",
              "\n",
              "    .colab-df-convert {\n",
              "      background-color: #E8F0FE;\n",
              "      border: none;\n",
              "      border-radius: 50%;\n",
              "      cursor: pointer;\n",
              "      display: none;\n",
              "      fill: #1967D2;\n",
              "      height: 32px;\n",
              "      padding: 0 0 0 0;\n",
              "      width: 32px;\n",
              "    }\n",
              "\n",
              "    .colab-df-convert:hover {\n",
              "      background-color: #E2EBFA;\n",
              "      box-shadow: 0px 1px 2px rgba(60, 64, 67, 0.3), 0px 1px 3px 1px rgba(60, 64, 67, 0.15);\n",
              "      fill: #174EA6;\n",
              "    }\n",
              "\n",
              "    [theme=dark] .colab-df-convert {\n",
              "      background-color: #3B4455;\n",
              "      fill: #D2E3FC;\n",
              "    }\n",
              "\n",
              "    [theme=dark] .colab-df-convert:hover {\n",
              "      background-color: #434B5C;\n",
              "      box-shadow: 0px 1px 3px 1px rgba(0, 0, 0, 0.15);\n",
              "      filter: drop-shadow(0px 1px 2px rgba(0, 0, 0, 0.3));\n",
              "      fill: #FFFFFF;\n",
              "    }\n",
              "  </style>\n",
              "\n",
              "      <script>\n",
              "        const buttonEl =\n",
              "          document.querySelector('#df-c88fcf61-be3b-4fae-8aa3-24e9c4a415e7 button.colab-df-convert');\n",
              "        buttonEl.style.display =\n",
              "          google.colab.kernel.accessAllowed ? 'block' : 'none';\n",
              "\n",
              "        async function convertToInteractive(key) {\n",
              "          const element = document.querySelector('#df-c88fcf61-be3b-4fae-8aa3-24e9c4a415e7');\n",
              "          const dataTable =\n",
              "            await google.colab.kernel.invokeFunction('convertToInteractive',\n",
              "                                                     [key], {});\n",
              "          if (!dataTable) return;\n",
              "\n",
              "          const docLinkHtml = 'Like what you see? Visit the ' +\n",
              "            '<a target=\"_blank\" href=https://colab.research.google.com/notebooks/data_table.ipynb>data table notebook</a>'\n",
              "            + ' to learn more about interactive tables.';\n",
              "          element.innerHTML = '';\n",
              "          dataTable['output_type'] = 'display_data';\n",
              "          await google.colab.output.renderOutput(dataTable, element);\n",
              "          const docLink = document.createElement('div');\n",
              "          docLink.innerHTML = docLinkHtml;\n",
              "          element.appendChild(docLink);\n",
              "        }\n",
              "      </script>\n",
              "    </div>\n",
              "  </div>\n",
              "  "
            ]
          },
          "metadata": {},
          "execution_count": 72
        }
      ]
    },
    {
      "cell_type": "code",
      "source": [
        "add_metric(\"averagePrecision\", \"Average Precision\", average_precision_score)"
      ],
      "metadata": {
        "colab": {
          "base_uri": "https://localhost:8080/"
        },
        "id": "RUVSGy__7LSJ",
        "outputId": "c137203b-995e-4cf6-dc42-5ea211bae1d4"
      },
      "id": "RUVSGy__7LSJ",
      "execution_count": null,
      "outputs": [
        {
          "output_type": "execute_result",
          "data": {
            "text/plain": [
              "Name                                                 Average Precision\n",
              "Display Name                                         Average Precision\n",
              "Score Function       <function average_precision_score at 0x7f2469d...\n",
              "Scorer                            make_scorer(average_precision_score)\n",
              "Target                                                            pred\n",
              "Args                                                                {}\n",
              "Greater is Better                                                 True\n",
              "Multiclass                                                        True\n",
              "Custom                                                            True\n",
              "Name: averagePrecision, dtype: object"
            ]
          },
          "metadata": {},
          "execution_count": 73
        }
      ]
    },
    {
      "cell_type": "code",
      "source": [
        "best_model = compare_models(\n",
        "    include=[\n",
        "        \"lr\",  # Logistic Regression\n",
        "        \"knn\",  # K-Nearest Neighbors\n",
        "        \"dt\",  # Decision Tree Classifier\n",
        "        \"svm\",  # SVM - Linear Kernel\n",
        "        \"rbfsvm\",  # SVM - Radial Kernel\n",
        "        \"rf\",  # Random Forest Classifier\n",
        "        # RandomForestClassifier(n_estimators=10, random_state=RANDOM_STATE),\n",
        "    ],\n",
        "    fold=5,\n",
        "    cross_validation=True,\n",
        ")"
      ],
      "metadata": {
        "colab": {
          "base_uri": "https://localhost:8080/",
          "height": 238,
          "referenced_widgets": [
            "bf5011d925194e5fbdfe2e0c82bb7bfe",
            "b2d163e188aa471d8b2158f399273279",
            "883fcb6fde6e4963b4c180bd1300806c",
            "cd00f43e916f414b98ec7538f283f0e8",
            "12a1990a4ebf491d9750fad22eb5d9ee",
            "275ee4d18be44e388e0c94bd99b89492",
            "f5d18339412c44c99bda26ae7d221170",
            "01080e8c9bd041b49e3b35cbe7801f35",
            "9c41796b99e04d08af73f57ae609478e",
            "2d3780051e4c4b6693a902e0fafb8ab9",
            "763af59b7b3542d4b36529f0b79d48fa"
          ]
        },
        "id": "qVdFwEoPdJz5",
        "outputId": "b4c2aa9d-1832-4770-d070-0b5c847fbe6e"
      },
      "id": "qVdFwEoPdJz5",
      "execution_count": null,
      "outputs": [
        {
          "output_type": "display_data",
          "data": {
            "text/plain": [
              "<IPython.core.display.HTML object>"
            ],
            "text/html": [
              ""
            ]
          },
          "metadata": {}
        },
        {
          "output_type": "display_data",
          "data": {
            "text/plain": [
              "<pandas.io.formats.style.Styler at 0x7f244cd2ccd0>"
            ],
            "text/html": [
              "<style type=\"text/css\">\n",
              "#T_1e09d_ th {\n",
              "  text-align: left;\n",
              "}\n",
              "#T_1e09d_row0_col0, #T_1e09d_row1_col0, #T_1e09d_row1_col1, #T_1e09d_row1_col2, #T_1e09d_row1_col3, #T_1e09d_row1_col4, #T_1e09d_row1_col5, #T_1e09d_row1_col6, #T_1e09d_row1_col7, #T_1e09d_row1_col8, #T_1e09d_row2_col0, #T_1e09d_row2_col1, #T_1e09d_row2_col2, #T_1e09d_row2_col3, #T_1e09d_row2_col4, #T_1e09d_row2_col5, #T_1e09d_row2_col6, #T_1e09d_row2_col7, #T_1e09d_row2_col8, #T_1e09d_row3_col0, #T_1e09d_row3_col1, #T_1e09d_row3_col2, #T_1e09d_row3_col3, #T_1e09d_row3_col4, #T_1e09d_row3_col5, #T_1e09d_row3_col6, #T_1e09d_row3_col7, #T_1e09d_row3_col8, #T_1e09d_row4_col0, #T_1e09d_row4_col1, #T_1e09d_row4_col2, #T_1e09d_row4_col3, #T_1e09d_row4_col4, #T_1e09d_row4_col5, #T_1e09d_row4_col6, #T_1e09d_row4_col7, #T_1e09d_row4_col8, #T_1e09d_row5_col0, #T_1e09d_row5_col1, #T_1e09d_row5_col2, #T_1e09d_row5_col3, #T_1e09d_row5_col4, #T_1e09d_row5_col5, #T_1e09d_row5_col6, #T_1e09d_row5_col7, #T_1e09d_row5_col8 {\n",
              "  text-align: left;\n",
              "}\n",
              "#T_1e09d_row0_col1, #T_1e09d_row0_col2, #T_1e09d_row0_col3, #T_1e09d_row0_col4, #T_1e09d_row0_col5, #T_1e09d_row0_col6, #T_1e09d_row0_col7, #T_1e09d_row0_col8 {\n",
              "  text-align: left;\n",
              "  background-color: yellow;\n",
              "}\n",
              "#T_1e09d_row0_col9, #T_1e09d_row1_col9, #T_1e09d_row2_col9, #T_1e09d_row3_col9, #T_1e09d_row4_col9 {\n",
              "  text-align: left;\n",
              "  background-color: lightgrey;\n",
              "}\n",
              "#T_1e09d_row5_col9 {\n",
              "  text-align: left;\n",
              "  background-color: yellow;\n",
              "  background-color: lightgrey;\n",
              "}\n",
              "</style>\n",
              "<table id=\"T_1e09d_\" class=\"dataframe\">\n",
              "  <thead>\n",
              "    <tr>\n",
              "      <th class=\"blank level0\" >&nbsp;</th>\n",
              "      <th class=\"col_heading level0 col0\" >Model</th>\n",
              "      <th class=\"col_heading level0 col1\" >Accuracy</th>\n",
              "      <th class=\"col_heading level0 col2\" >AUC</th>\n",
              "      <th class=\"col_heading level0 col3\" >Recall</th>\n",
              "      <th class=\"col_heading level0 col4\" >Prec.</th>\n",
              "      <th class=\"col_heading level0 col5\" >F1</th>\n",
              "      <th class=\"col_heading level0 col6\" >Kappa</th>\n",
              "      <th class=\"col_heading level0 col7\" >MCC</th>\n",
              "      <th class=\"col_heading level0 col8\" >Average Precision</th>\n",
              "      <th class=\"col_heading level0 col9\" >TT (Sec)</th>\n",
              "    </tr>\n",
              "  </thead>\n",
              "  <tbody>\n",
              "    <tr>\n",
              "      <th id=\"T_1e09d_level0_row0\" class=\"row_heading level0 row0\" >rf</th>\n",
              "      <td id=\"T_1e09d_row0_col0\" class=\"data row0 col0\" >Random Forest Classifier</td>\n",
              "      <td id=\"T_1e09d_row0_col1\" class=\"data row0 col1\" >0.9485</td>\n",
              "      <td id=\"T_1e09d_row0_col2\" class=\"data row0 col2\" >0.9900</td>\n",
              "      <td id=\"T_1e09d_row0_col3\" class=\"data row0 col3\" >0.9431</td>\n",
              "      <td id=\"T_1e09d_row0_col4\" class=\"data row0 col4\" >0.9530</td>\n",
              "      <td id=\"T_1e09d_row0_col5\" class=\"data row0 col5\" >0.9480</td>\n",
              "      <td id=\"T_1e09d_row0_col6\" class=\"data row0 col6\" >0.8970</td>\n",
              "      <td id=\"T_1e09d_row0_col7\" class=\"data row0 col7\" >0.8971</td>\n",
              "      <td id=\"T_1e09d_row0_col8\" class=\"data row0 col8\" >0.9271</td>\n",
              "      <td id=\"T_1e09d_row0_col9\" class=\"data row0 col9\" >1.5760</td>\n",
              "    </tr>\n",
              "    <tr>\n",
              "      <th id=\"T_1e09d_level0_row1\" class=\"row_heading level0 row1\" >knn</th>\n",
              "      <td id=\"T_1e09d_row1_col0\" class=\"data row1 col0\" >K Neighbors Classifier</td>\n",
              "      <td id=\"T_1e09d_row1_col1\" class=\"data row1 col1\" >0.9441</td>\n",
              "      <td id=\"T_1e09d_row1_col2\" class=\"data row1 col2\" >0.9821</td>\n",
              "      <td id=\"T_1e09d_row1_col3\" class=\"data row1 col3\" >0.9390</td>\n",
              "      <td id=\"T_1e09d_row1_col4\" class=\"data row1 col4\" >0.9484</td>\n",
              "      <td id=\"T_1e09d_row1_col5\" class=\"data row1 col5\" >0.9436</td>\n",
              "      <td id=\"T_1e09d_row1_col6\" class=\"data row1 col6\" >0.8883</td>\n",
              "      <td id=\"T_1e09d_row1_col7\" class=\"data row1 col7\" >0.8884</td>\n",
              "      <td id=\"T_1e09d_row1_col8\" class=\"data row1 col8\" >0.9209</td>\n",
              "      <td id=\"T_1e09d_row1_col9\" class=\"data row1 col9\" >0.3280</td>\n",
              "    </tr>\n",
              "    <tr>\n",
              "      <th id=\"T_1e09d_level0_row2\" class=\"row_heading level0 row2\" >dt</th>\n",
              "      <td id=\"T_1e09d_row2_col0\" class=\"data row2 col0\" >Decision Tree Classifier</td>\n",
              "      <td id=\"T_1e09d_row2_col1\" class=\"data row2 col1\" >0.9314</td>\n",
              "      <td id=\"T_1e09d_row2_col2\" class=\"data row2 col2\" >0.9314</td>\n",
              "      <td id=\"T_1e09d_row2_col3\" class=\"data row2 col3\" >0.9297</td>\n",
              "      <td id=\"T_1e09d_row2_col4\" class=\"data row2 col4\" >0.9324</td>\n",
              "      <td id=\"T_1e09d_row2_col5\" class=\"data row2 col5\" >0.9310</td>\n",
              "      <td id=\"T_1e09d_row2_col6\" class=\"data row2 col6\" >0.8629</td>\n",
              "      <td id=\"T_1e09d_row2_col7\" class=\"data row2 col7\" >0.8629</td>\n",
              "      <td id=\"T_1e09d_row2_col8\" class=\"data row2 col8\" >0.9018</td>\n",
              "      <td id=\"T_1e09d_row2_col9\" class=\"data row2 col9\" >0.2100</td>\n",
              "    </tr>\n",
              "    <tr>\n",
              "      <th id=\"T_1e09d_level0_row3\" class=\"row_heading level0 row3\" >rbfsvm</th>\n",
              "      <td id=\"T_1e09d_row3_col0\" class=\"data row3 col0\" >SVM - Radial Kernel</td>\n",
              "      <td id=\"T_1e09d_row3_col1\" class=\"data row3 col1\" >0.9286</td>\n",
              "      <td id=\"T_1e09d_row3_col2\" class=\"data row3 col2\" >0.9841</td>\n",
              "      <td id=\"T_1e09d_row3_col3\" class=\"data row3 col3\" >0.9246</td>\n",
              "      <td id=\"T_1e09d_row3_col4\" class=\"data row3 col4\" >0.9315</td>\n",
              "      <td id=\"T_1e09d_row3_col5\" class=\"data row3 col5\" >0.9280</td>\n",
              "      <td id=\"T_1e09d_row3_col6\" class=\"data row3 col6\" >0.8571</td>\n",
              "      <td id=\"T_1e09d_row3_col7\" class=\"data row3 col7\" >0.8573</td>\n",
              "      <td id=\"T_1e09d_row3_col8\" class=\"data row3 col8\" >0.8988</td>\n",
              "      <td id=\"T_1e09d_row3_col9\" class=\"data row3 col9\" >6.6220</td>\n",
              "    </tr>\n",
              "    <tr>\n",
              "      <th id=\"T_1e09d_level0_row4\" class=\"row_heading level0 row4\" >lr</th>\n",
              "      <td id=\"T_1e09d_row4_col0\" class=\"data row4 col0\" >Logistic Regression</td>\n",
              "      <td id=\"T_1e09d_row4_col1\" class=\"data row4 col1\" >0.8719</td>\n",
              "      <td id=\"T_1e09d_row4_col2\" class=\"data row4 col2\" >0.9523</td>\n",
              "      <td id=\"T_1e09d_row4_col3\" class=\"data row4 col3\" >0.8580</td>\n",
              "      <td id=\"T_1e09d_row4_col4\" class=\"data row4 col4\" >0.8816</td>\n",
              "      <td id=\"T_1e09d_row4_col5\" class=\"data row4 col5\" >0.8696</td>\n",
              "      <td id=\"T_1e09d_row4_col6\" class=\"data row4 col6\" >0.7438</td>\n",
              "      <td id=\"T_1e09d_row4_col7\" class=\"data row4 col7\" >0.7441</td>\n",
              "      <td id=\"T_1e09d_row4_col8\" class=\"data row4 col8\" >0.8271</td>\n",
              "      <td id=\"T_1e09d_row4_col9\" class=\"data row4 col9\" >0.9640</td>\n",
              "    </tr>\n",
              "    <tr>\n",
              "      <th id=\"T_1e09d_level0_row5\" class=\"row_heading level0 row5\" >svm</th>\n",
              "      <td id=\"T_1e09d_row5_col0\" class=\"data row5 col0\" >SVM - Linear Kernel</td>\n",
              "      <td id=\"T_1e09d_row5_col1\" class=\"data row5 col1\" >0.8667</td>\n",
              "      <td id=\"T_1e09d_row5_col2\" class=\"data row5 col2\" >0.0000</td>\n",
              "      <td id=\"T_1e09d_row5_col3\" class=\"data row5 col3\" >0.8636</td>\n",
              "      <td id=\"T_1e09d_row5_col4\" class=\"data row5 col4\" >0.8684</td>\n",
              "      <td id=\"T_1e09d_row5_col5\" class=\"data row5 col5\" >0.8657</td>\n",
              "      <td id=\"T_1e09d_row5_col6\" class=\"data row5 col6\" >0.7333</td>\n",
              "      <td id=\"T_1e09d_row5_col7\" class=\"data row5 col7\" >0.7337</td>\n",
              "      <td id=\"T_1e09d_row5_col8\" class=\"data row5 col8\" >0.8176</td>\n",
              "      <td id=\"T_1e09d_row5_col9\" class=\"data row5 col9\" >0.1480</td>\n",
              "    </tr>\n",
              "  </tbody>\n",
              "</table>\n"
            ]
          },
          "metadata": {}
        },
        {
          "output_type": "display_data",
          "data": {
            "text/plain": [
              "Processing:   0%|          | 0/29 [00:00<?, ?it/s]"
            ],
            "application/vnd.jupyter.widget-view+json": {
              "version_major": 2,
              "version_minor": 0,
              "model_id": "bf5011d925194e5fbdfe2e0c82bb7bfe"
            }
          },
          "metadata": {
            "application/vnd.jupyter.widget-view+json": {
              "colab": {
                "custom_widget_manager": {
                  "url": "https://ssl.gstatic.com/colaboratory-static/widgets/colab-cdn-widget-manager/a8874ba6619b6106/manager.min.js"
                }
              }
            }
          }
        },
        {
          "output_type": "display_data",
          "data": {
            "text/plain": [
              "<IPython.core.display.HTML object>"
            ],
            "text/html": [
              ""
            ]
          },
          "metadata": {}
        }
      ]
    },
    {
      "cell_type": "markdown",
      "source": [
        "### Vuelvo a transformar de datos y creo pipeline de pre-procesamiento"
      ],
      "metadata": {
        "id": "RZ0_ICkPkJy_"
      },
      "id": "RZ0_ICkPkJy_"
    },
    {
      "cell_type": "code",
      "source": [
        "numeric_features = ['size', 'distance', 'desibel', 'airflow', 'frequency']\n",
        "categorical_features = ['fuel']\n",
        "\n",
        "numeric_transformer = Pipeline(steps=[\n",
        "    ('imputer', SimpleImputer(strategy='median')),\n",
        "    ('scaler', StandardScaler())])\n",
        "\n",
        "categorical_transformer = OneHotEncoder(handle_unknown='ignore')\n",
        "\n",
        "preprocessor = ColumnTransformer(\n",
        "    transformers=[\n",
        "        ('num', numeric_transformer, numeric_features),\n",
        "        ('cat', categorical_transformer, categorical_features)])"
      ],
      "metadata": {
        "id": "WdERJjm7kFkA"
      },
      "id": "WdERJjm7kFkA",
      "execution_count": null,
      "outputs": []
    },
    {
      "cell_type": "code",
      "source": [
        "X_train, X_test, y_train, y_test = train_test_split(X, y, test_size=0.3, random_state=42, stratify=y)\n",
        "\n",
        "print(\"Composición del training set:\")\n",
        "print(y_train.value_counts())\n",
        "print(\"\\nComposición del test set:\")\n",
        "print(y_test.value_counts())"
      ],
      "metadata": {
        "colab": {
          "base_uri": "https://localhost:8080/"
        },
        "id": "pTtYrdbifMZ1",
        "outputId": "8a6c48f2-f97d-4c0c-8888-1c6cbb219d74"
      },
      "id": "pTtYrdbifMZ1",
      "execution_count": null,
      "outputs": [
        {
          "output_type": "stream",
          "name": "stdout",
          "text": [
            "Composición del training set:\n",
            "status\n",
            "0         6131\n",
            "1         6078\n",
            "dtype: int64\n",
            "\n",
            "Composición del test set:\n",
            "status\n",
            "0         2628\n",
            "1         2605\n",
            "dtype: int64\n"
          ]
        }
      ]
    },
    {
      "cell_type": "code",
      "source": [
        "## scaler = StandardScaler()\n",
        "## X_train_sc = scaler.fit_transform(X_train)\n",
        "## X_test_sc = scaler.transform(X_test)"
      ],
      "metadata": {
        "id": "u8WVUFXOtct-"
      },
      "id": "u8WVUFXOtct-",
      "execution_count": null,
      "outputs": []
    },
    {
      "cell_type": "code",
      "source": [
        "#classifiers = [\n",
        "#    [RandomForestClassifier(), \"Random Forest\"],\n",
        "#    [KNeighborsClassifier(), \"K-Nearest Neighbours\"],\n",
        "#    [DecisionTreeClassifier(), \"Decision Tree Classifier\"],\n",
        "#    [LogisticRegression(), \"Logistic Regression\"],\n",
        "#]\n",
        "\n",
        "#for models in classifiers:\n",
        "#    model = models[0]\n",
        "#    model.fit(X_train_sc, y_train)\n",
        "\n",
        "#    y_pred = model.predict(X_test_sc)\n",
        "#    y_proba = model.predict_proba(X_test_sc)\n",
        "\n",
        "#    result_modelos_clasif(models, X_test_sc, y_test, y_pred, y_proba)"
      ],
      "metadata": {
        "id": "ngg22v7OtifY"
      },
      "id": "ngg22v7OtifY",
      "execution_count": null,
      "outputs": []
    }
  ],
  "metadata": {
    "kernelspec": {
      "display_name": "Python 3 (ipykernel)",
      "language": "python",
      "name": "python3"
    },
    "language_info": {
      "codemirror_mode": {
        "name": "ipython",
        "version": 3
      },
      "file_extension": ".py",
      "mimetype": "text/x-python",
      "name": "python",
      "nbconvert_exporter": "python",
      "pygments_lexer": "ipython3",
      "version": "3.10.4"
    },
    "colab": {
      "name": "2. Experimentation.ipynb",
      "provenance": [],
      "collapsed_sections": []
    },
    "widgets": {
      "application/vnd.jupyter.widget-state+json": {
        "bf5011d925194e5fbdfe2e0c82bb7bfe": {
          "model_module": "@jupyter-widgets/controls",
          "model_name": "HBoxModel",
          "model_module_version": "1.5.0",
          "state": {
            "_dom_classes": [],
            "_model_module": "@jupyter-widgets/controls",
            "_model_module_version": "1.5.0",
            "_model_name": "HBoxModel",
            "_view_count": null,
            "_view_module": "@jupyter-widgets/controls",
            "_view_module_version": "1.5.0",
            "_view_name": "HBoxView",
            "box_style": "",
            "children": [
              "IPY_MODEL_b2d163e188aa471d8b2158f399273279",
              "IPY_MODEL_883fcb6fde6e4963b4c180bd1300806c",
              "IPY_MODEL_cd00f43e916f414b98ec7538f283f0e8"
            ],
            "layout": "IPY_MODEL_12a1990a4ebf491d9750fad22eb5d9ee"
          }
        },
        "b2d163e188aa471d8b2158f399273279": {
          "model_module": "@jupyter-widgets/controls",
          "model_name": "HTMLModel",
          "model_module_version": "1.5.0",
          "state": {
            "_dom_classes": [],
            "_model_module": "@jupyter-widgets/controls",
            "_model_module_version": "1.5.0",
            "_model_name": "HTMLModel",
            "_view_count": null,
            "_view_module": "@jupyter-widgets/controls",
            "_view_module_version": "1.5.0",
            "_view_name": "HTMLView",
            "description": "",
            "description_tooltip": null,
            "layout": "IPY_MODEL_275ee4d18be44e388e0c94bd99b89492",
            "placeholder": "​",
            "style": "IPY_MODEL_f5d18339412c44c99bda26ae7d221170",
            "value": "Processing: 100%"
          }
        },
        "883fcb6fde6e4963b4c180bd1300806c": {
          "model_module": "@jupyter-widgets/controls",
          "model_name": "FloatProgressModel",
          "model_module_version": "1.5.0",
          "state": {
            "_dom_classes": [],
            "_model_module": "@jupyter-widgets/controls",
            "_model_module_version": "1.5.0",
            "_model_name": "FloatProgressModel",
            "_view_count": null,
            "_view_module": "@jupyter-widgets/controls",
            "_view_module_version": "1.5.0",
            "_view_name": "ProgressView",
            "bar_style": "",
            "description": "",
            "description_tooltip": null,
            "layout": "IPY_MODEL_01080e8c9bd041b49e3b35cbe7801f35",
            "max": 29,
            "min": 0,
            "orientation": "horizontal",
            "style": "IPY_MODEL_9c41796b99e04d08af73f57ae609478e",
            "value": 29
          }
        },
        "cd00f43e916f414b98ec7538f283f0e8": {
          "model_module": "@jupyter-widgets/controls",
          "model_name": "HTMLModel",
          "model_module_version": "1.5.0",
          "state": {
            "_dom_classes": [],
            "_model_module": "@jupyter-widgets/controls",
            "_model_module_version": "1.5.0",
            "_model_name": "HTMLModel",
            "_view_count": null,
            "_view_module": "@jupyter-widgets/controls",
            "_view_module_version": "1.5.0",
            "_view_name": "HTMLView",
            "description": "",
            "description_tooltip": null,
            "layout": "IPY_MODEL_2d3780051e4c4b6693a902e0fafb8ab9",
            "placeholder": "​",
            "style": "IPY_MODEL_763af59b7b3542d4b36529f0b79d48fa",
            "value": " 29/29 [00:53&lt;00:00,  2.18s/it]"
          }
        },
        "12a1990a4ebf491d9750fad22eb5d9ee": {
          "model_module": "@jupyter-widgets/base",
          "model_name": "LayoutModel",
          "model_module_version": "1.2.0",
          "state": {
            "_model_module": "@jupyter-widgets/base",
            "_model_module_version": "1.2.0",
            "_model_name": "LayoutModel",
            "_view_count": null,
            "_view_module": "@jupyter-widgets/base",
            "_view_module_version": "1.2.0",
            "_view_name": "LayoutView",
            "align_content": null,
            "align_items": null,
            "align_self": null,
            "border": null,
            "bottom": null,
            "display": null,
            "flex": null,
            "flex_flow": null,
            "grid_area": null,
            "grid_auto_columns": null,
            "grid_auto_flow": null,
            "grid_auto_rows": null,
            "grid_column": null,
            "grid_gap": null,
            "grid_row": null,
            "grid_template_areas": null,
            "grid_template_columns": null,
            "grid_template_rows": null,
            "height": null,
            "justify_content": null,
            "justify_items": null,
            "left": null,
            "margin": null,
            "max_height": null,
            "max_width": null,
            "min_height": null,
            "min_width": null,
            "object_fit": null,
            "object_position": null,
            "order": null,
            "overflow": null,
            "overflow_x": null,
            "overflow_y": null,
            "padding": null,
            "right": null,
            "top": null,
            "visibility": null,
            "width": null
          }
        },
        "275ee4d18be44e388e0c94bd99b89492": {
          "model_module": "@jupyter-widgets/base",
          "model_name": "LayoutModel",
          "model_module_version": "1.2.0",
          "state": {
            "_model_module": "@jupyter-widgets/base",
            "_model_module_version": "1.2.0",
            "_model_name": "LayoutModel",
            "_view_count": null,
            "_view_module": "@jupyter-widgets/base",
            "_view_module_version": "1.2.0",
            "_view_name": "LayoutView",
            "align_content": null,
            "align_items": null,
            "align_self": null,
            "border": null,
            "bottom": null,
            "display": null,
            "flex": null,
            "flex_flow": null,
            "grid_area": null,
            "grid_auto_columns": null,
            "grid_auto_flow": null,
            "grid_auto_rows": null,
            "grid_column": null,
            "grid_gap": null,
            "grid_row": null,
            "grid_template_areas": null,
            "grid_template_columns": null,
            "grid_template_rows": null,
            "height": null,
            "justify_content": null,
            "justify_items": null,
            "left": null,
            "margin": null,
            "max_height": null,
            "max_width": null,
            "min_height": null,
            "min_width": null,
            "object_fit": null,
            "object_position": null,
            "order": null,
            "overflow": null,
            "overflow_x": null,
            "overflow_y": null,
            "padding": null,
            "right": null,
            "top": null,
            "visibility": null,
            "width": null
          }
        },
        "f5d18339412c44c99bda26ae7d221170": {
          "model_module": "@jupyter-widgets/controls",
          "model_name": "DescriptionStyleModel",
          "model_module_version": "1.5.0",
          "state": {
            "_model_module": "@jupyter-widgets/controls",
            "_model_module_version": "1.5.0",
            "_model_name": "DescriptionStyleModel",
            "_view_count": null,
            "_view_module": "@jupyter-widgets/base",
            "_view_module_version": "1.2.0",
            "_view_name": "StyleView",
            "description_width": ""
          }
        },
        "01080e8c9bd041b49e3b35cbe7801f35": {
          "model_module": "@jupyter-widgets/base",
          "model_name": "LayoutModel",
          "model_module_version": "1.2.0",
          "state": {
            "_model_module": "@jupyter-widgets/base",
            "_model_module_version": "1.2.0",
            "_model_name": "LayoutModel",
            "_view_count": null,
            "_view_module": "@jupyter-widgets/base",
            "_view_module_version": "1.2.0",
            "_view_name": "LayoutView",
            "align_content": null,
            "align_items": null,
            "align_self": null,
            "border": null,
            "bottom": null,
            "display": null,
            "flex": null,
            "flex_flow": null,
            "grid_area": null,
            "grid_auto_columns": null,
            "grid_auto_flow": null,
            "grid_auto_rows": null,
            "grid_column": null,
            "grid_gap": null,
            "grid_row": null,
            "grid_template_areas": null,
            "grid_template_columns": null,
            "grid_template_rows": null,
            "height": null,
            "justify_content": null,
            "justify_items": null,
            "left": null,
            "margin": null,
            "max_height": null,
            "max_width": null,
            "min_height": null,
            "min_width": null,
            "object_fit": null,
            "object_position": null,
            "order": null,
            "overflow": null,
            "overflow_x": null,
            "overflow_y": null,
            "padding": null,
            "right": null,
            "top": null,
            "visibility": null,
            "width": null
          }
        },
        "9c41796b99e04d08af73f57ae609478e": {
          "model_module": "@jupyter-widgets/controls",
          "model_name": "ProgressStyleModel",
          "model_module_version": "1.5.0",
          "state": {
            "_model_module": "@jupyter-widgets/controls",
            "_model_module_version": "1.5.0",
            "_model_name": "ProgressStyleModel",
            "_view_count": null,
            "_view_module": "@jupyter-widgets/base",
            "_view_module_version": "1.2.0",
            "_view_name": "StyleView",
            "bar_color": null,
            "description_width": ""
          }
        },
        "2d3780051e4c4b6693a902e0fafb8ab9": {
          "model_module": "@jupyter-widgets/base",
          "model_name": "LayoutModel",
          "model_module_version": "1.2.0",
          "state": {
            "_model_module": "@jupyter-widgets/base",
            "_model_module_version": "1.2.0",
            "_model_name": "LayoutModel",
            "_view_count": null,
            "_view_module": "@jupyter-widgets/base",
            "_view_module_version": "1.2.0",
            "_view_name": "LayoutView",
            "align_content": null,
            "align_items": null,
            "align_self": null,
            "border": null,
            "bottom": null,
            "display": null,
            "flex": null,
            "flex_flow": null,
            "grid_area": null,
            "grid_auto_columns": null,
            "grid_auto_flow": null,
            "grid_auto_rows": null,
            "grid_column": null,
            "grid_gap": null,
            "grid_row": null,
            "grid_template_areas": null,
            "grid_template_columns": null,
            "grid_template_rows": null,
            "height": null,
            "justify_content": null,
            "justify_items": null,
            "left": null,
            "margin": null,
            "max_height": null,
            "max_width": null,
            "min_height": null,
            "min_width": null,
            "object_fit": null,
            "object_position": null,
            "order": null,
            "overflow": null,
            "overflow_x": null,
            "overflow_y": null,
            "padding": null,
            "right": null,
            "top": null,
            "visibility": null,
            "width": null
          }
        },
        "763af59b7b3542d4b36529f0b79d48fa": {
          "model_module": "@jupyter-widgets/controls",
          "model_name": "DescriptionStyleModel",
          "model_module_version": "1.5.0",
          "state": {
            "_model_module": "@jupyter-widgets/controls",
            "_model_module_version": "1.5.0",
            "_model_name": "DescriptionStyleModel",
            "_view_count": null,
            "_view_module": "@jupyter-widgets/base",
            "_view_module_version": "1.2.0",
            "_view_name": "StyleView",
            "description_width": ""
          }
        }
      }
    }
  },
  "nbformat": 4,
  "nbformat_minor": 5
}